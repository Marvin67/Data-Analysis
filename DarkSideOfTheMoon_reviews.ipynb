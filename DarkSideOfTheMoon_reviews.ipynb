{
  "nbformat": 4,
  "nbformat_minor": 0,
  "metadata": {
    "colab": {
      "name": "DarkSideOfTheMoon_reviews.ipynb",
      "provenance": [],
      "collapsed_sections": []
    },
    "kernelspec": {
      "name": "python3",
      "display_name": "Python 3"
    },
    "language_info": {
      "name": "python"
    }
  },
  "cells": [
    {
      "cell_type": "code",
      "execution_count": 1,
      "metadata": {
        "colab": {
          "base_uri": "https://localhost:8080/"
        },
        "id": "fX_BWENJKQv-",
        "outputId": "72f2f7d9-8ad4-412b-c458-51c37d8e7fa2"
      },
      "outputs": [
        {
          "output_type": "stream",
          "name": "stderr",
          "text": [
            "[nltk_data] Downloading package punkt to /root/nltk_data...\n",
            "[nltk_data]   Package punkt is already up-to-date!\n"
          ]
        }
      ],
      "source": [
        "import pandas as pd\n",
        "import numpy as np\n",
        "from nltk.corpus import stopwords\n",
        "from nltk.tokenize import word_tokenize\n",
        "from nltk import ngrams\n",
        "import nltk\n",
        "from nltk import word_tokenize\n",
        "from nltk.probability import FreqDist\n",
        "import urllib.request\n",
        "from matplotlib import pyplot as plt\n",
        "from wordcloud import WordCloud\n",
        "nltk.download('punkt')\n",
        "from collections import Counter\n",
        "import seaborn as sns\n",
        "import matplotlib.pyplot as plt"
      ]
    },
    {
      "cell_type": "code",
      "source": [
        "from google.colab import drive\n",
        "drive.mount(\"/content/drive\")\n",
        "df = pd.read_csv(\"/content/drive/MyDrive/Datasets_Kaggle/dsotm_reviews.csv\")\n",
        "pd.options.display.max_colwidth = 200"
      ],
      "metadata": {
        "colab": {
          "base_uri": "https://localhost:8080/"
        },
        "id": "mOXPHcmxKSIp",
        "outputId": "3805c58a-3c69-4db0-df29-9ba73b24aa83"
      },
      "execution_count": 2,
      "outputs": [
        {
          "output_type": "stream",
          "name": "stdout",
          "text": [
            "Drive already mounted at /content/drive; to attempt to forcibly remount, call drive.mount(\"/content/drive\", force_remount=True).\n"
          ]
        }
      ]
    },
    {
      "cell_type": "code",
      "source": [
        "df.sample(10)\n"
      ],
      "metadata": {
        "colab": {
          "base_uri": "https://localhost:8080/",
          "height": 363
        },
        "id": "ScX1ECbFKUM5",
        "outputId": "acacd7c1-df0c-4fe5-96eb-7579092a1606"
      },
      "execution_count": 3,
      "outputs": [
        {
          "output_type": "execute_result",
          "data": {
            "text/plain": [
              "                                                                                                                                                                                                       Review  \\\n",
              "916                                                                                             \"Emotividad pura musica sentimental en su explendor lo unico denso es on the run igual esta en mis favoritos\"   \n",
              "1041                                                                                                                                                                       Obviously the greatest album ever.   \n",
              "980                                                                            Pure classic. A hypnotizing beggining a rushing middle a kick ass instrumental a really good ending. A must have for everyone.   \n",
              "344                                                                                                                                                                               notthebestalbumofalltime/10   \n",
              "893   Millions of people cannot be all wrong can they? Well folks I strongly advice you NOT to make the mistake of believing that quantity always produces quality. I like this album but it is a far cry ...   \n",
              "35    \"This is a record I should like right?nI was around in the 70s and I hated the crappy boy bands like Bay City Rollers and glam rock idols like GlitterBolan and The Sweet so a group of musicians wh...   \n",
              "441   I once asked my friend Jimmy why Dark Side was his favorite album of all time (I hadnt yet figured out mine). He said this: \"Because the best type of album is a concept album and because the best ...   \n",
              "1127  Dark Side of the Moon belongs to those timeless albums which are the milestones in Rock History.nIt doesnt mean that this album is the best progressive music ever released.nIn 1973 Pink Floyd just...   \n",
              "566                                                                                                               Have listened to this countless times usually while tripping balls.nnGets better everytime.   \n",
              "1243                                                                                                                                                                               Best album of all times!!!   \n",
              "\n",
              "      Rating  \n",
              "916      5.0  \n",
              "1041     3.5  \n",
              "980      5.0  \n",
              "344      3.5  \n",
              "893      4.0  \n",
              "35       1.0  \n",
              "441      5.0  \n",
              "1127     5.0  \n",
              "566      5.0  \n",
              "1243     5.0  "
            ],
            "text/html": [
              "\n",
              "  <div id=\"df-bc652a56-2eea-4219-9257-6dbf14efced9\">\n",
              "    <div class=\"colab-df-container\">\n",
              "      <div>\n",
              "<style scoped>\n",
              "    .dataframe tbody tr th:only-of-type {\n",
              "        vertical-align: middle;\n",
              "    }\n",
              "\n",
              "    .dataframe tbody tr th {\n",
              "        vertical-align: top;\n",
              "    }\n",
              "\n",
              "    .dataframe thead th {\n",
              "        text-align: right;\n",
              "    }\n",
              "</style>\n",
              "<table border=\"1\" class=\"dataframe\">\n",
              "  <thead>\n",
              "    <tr style=\"text-align: right;\">\n",
              "      <th></th>\n",
              "      <th>Review</th>\n",
              "      <th>Rating</th>\n",
              "    </tr>\n",
              "  </thead>\n",
              "  <tbody>\n",
              "    <tr>\n",
              "      <th>916</th>\n",
              "      <td>\"Emotividad pura musica sentimental en su explendor lo unico denso es on the run igual esta en mis favoritos\"</td>\n",
              "      <td>5.0</td>\n",
              "    </tr>\n",
              "    <tr>\n",
              "      <th>1041</th>\n",
              "      <td>Obviously the greatest album ever.</td>\n",
              "      <td>3.5</td>\n",
              "    </tr>\n",
              "    <tr>\n",
              "      <th>980</th>\n",
              "      <td>Pure classic. A hypnotizing beggining a rushing middle a kick ass instrumental a really good ending. A must have for everyone.</td>\n",
              "      <td>5.0</td>\n",
              "    </tr>\n",
              "    <tr>\n",
              "      <th>344</th>\n",
              "      <td>notthebestalbumofalltime/10</td>\n",
              "      <td>3.5</td>\n",
              "    </tr>\n",
              "    <tr>\n",
              "      <th>893</th>\n",
              "      <td>Millions of people cannot be all wrong can they? Well folks I strongly advice you NOT to make the mistake of believing that quantity always produces quality. I like this album but it is a far cry ...</td>\n",
              "      <td>4.0</td>\n",
              "    </tr>\n",
              "    <tr>\n",
              "      <th>35</th>\n",
              "      <td>\"This is a record I should like right?nI was around in the 70s and I hated the crappy boy bands like Bay City Rollers and glam rock idols like GlitterBolan and The Sweet so a group of musicians wh...</td>\n",
              "      <td>1.0</td>\n",
              "    </tr>\n",
              "    <tr>\n",
              "      <th>441</th>\n",
              "      <td>I once asked my friend Jimmy why Dark Side was his favorite album of all time (I hadnt yet figured out mine). He said this: \"Because the best type of album is a concept album and because the best ...</td>\n",
              "      <td>5.0</td>\n",
              "    </tr>\n",
              "    <tr>\n",
              "      <th>1127</th>\n",
              "      <td>Dark Side of the Moon belongs to those timeless albums which are the milestones in Rock History.nIt doesnt mean that this album is the best progressive music ever released.nIn 1973 Pink Floyd just...</td>\n",
              "      <td>5.0</td>\n",
              "    </tr>\n",
              "    <tr>\n",
              "      <th>566</th>\n",
              "      <td>Have listened to this countless times usually while tripping balls.nnGets better everytime.</td>\n",
              "      <td>5.0</td>\n",
              "    </tr>\n",
              "    <tr>\n",
              "      <th>1243</th>\n",
              "      <td>Best album of all times!!!</td>\n",
              "      <td>5.0</td>\n",
              "    </tr>\n",
              "  </tbody>\n",
              "</table>\n",
              "</div>\n",
              "      <button class=\"colab-df-convert\" onclick=\"convertToInteractive('df-bc652a56-2eea-4219-9257-6dbf14efced9')\"\n",
              "              title=\"Convert this dataframe to an interactive table.\"\n",
              "              style=\"display:none;\">\n",
              "        \n",
              "  <svg xmlns=\"http://www.w3.org/2000/svg\" height=\"24px\"viewBox=\"0 0 24 24\"\n",
              "       width=\"24px\">\n",
              "    <path d=\"M0 0h24v24H0V0z\" fill=\"none\"/>\n",
              "    <path d=\"M18.56 5.44l.94 2.06.94-2.06 2.06-.94-2.06-.94-.94-2.06-.94 2.06-2.06.94zm-11 1L8.5 8.5l.94-2.06 2.06-.94-2.06-.94L8.5 2.5l-.94 2.06-2.06.94zm10 10l.94 2.06.94-2.06 2.06-.94-2.06-.94-.94-2.06-.94 2.06-2.06.94z\"/><path d=\"M17.41 7.96l-1.37-1.37c-.4-.4-.92-.59-1.43-.59-.52 0-1.04.2-1.43.59L10.3 9.45l-7.72 7.72c-.78.78-.78 2.05 0 2.83L4 21.41c.39.39.9.59 1.41.59.51 0 1.02-.2 1.41-.59l7.78-7.78 2.81-2.81c.8-.78.8-2.07 0-2.86zM5.41 20L4 18.59l7.72-7.72 1.47 1.35L5.41 20z\"/>\n",
              "  </svg>\n",
              "      </button>\n",
              "      \n",
              "  <style>\n",
              "    .colab-df-container {\n",
              "      display:flex;\n",
              "      flex-wrap:wrap;\n",
              "      gap: 12px;\n",
              "    }\n",
              "\n",
              "    .colab-df-convert {\n",
              "      background-color: #E8F0FE;\n",
              "      border: none;\n",
              "      border-radius: 50%;\n",
              "      cursor: pointer;\n",
              "      display: none;\n",
              "      fill: #1967D2;\n",
              "      height: 32px;\n",
              "      padding: 0 0 0 0;\n",
              "      width: 32px;\n",
              "    }\n",
              "\n",
              "    .colab-df-convert:hover {\n",
              "      background-color: #E2EBFA;\n",
              "      box-shadow: 0px 1px 2px rgba(60, 64, 67, 0.3), 0px 1px 3px 1px rgba(60, 64, 67, 0.15);\n",
              "      fill: #174EA6;\n",
              "    }\n",
              "\n",
              "    [theme=dark] .colab-df-convert {\n",
              "      background-color: #3B4455;\n",
              "      fill: #D2E3FC;\n",
              "    }\n",
              "\n",
              "    [theme=dark] .colab-df-convert:hover {\n",
              "      background-color: #434B5C;\n",
              "      box-shadow: 0px 1px 3px 1px rgba(0, 0, 0, 0.15);\n",
              "      filter: drop-shadow(0px 1px 2px rgba(0, 0, 0, 0.3));\n",
              "      fill: #FFFFFF;\n",
              "    }\n",
              "  </style>\n",
              "\n",
              "      <script>\n",
              "        const buttonEl =\n",
              "          document.querySelector('#df-bc652a56-2eea-4219-9257-6dbf14efced9 button.colab-df-convert');\n",
              "        buttonEl.style.display =\n",
              "          google.colab.kernel.accessAllowed ? 'block' : 'none';\n",
              "\n",
              "        async function convertToInteractive(key) {\n",
              "          const element = document.querySelector('#df-bc652a56-2eea-4219-9257-6dbf14efced9');\n",
              "          const dataTable =\n",
              "            await google.colab.kernel.invokeFunction('convertToInteractive',\n",
              "                                                     [key], {});\n",
              "          if (!dataTable) return;\n",
              "\n",
              "          const docLinkHtml = 'Like what you see? Visit the ' +\n",
              "            '<a target=\"_blank\" href=https://colab.research.google.com/notebooks/data_table.ipynb>data table notebook</a>'\n",
              "            + ' to learn more about interactive tables.';\n",
              "          element.innerHTML = '';\n",
              "          dataTable['output_type'] = 'display_data';\n",
              "          await google.colab.output.renderOutput(dataTable, element);\n",
              "          const docLink = document.createElement('div');\n",
              "          docLink.innerHTML = docLinkHtml;\n",
              "          element.appendChild(docLink);\n",
              "        }\n",
              "      </script>\n",
              "    </div>\n",
              "  </div>\n",
              "  "
            ]
          },
          "metadata": {},
          "execution_count": 3
        }
      ]
    },
    {
      "cell_type": "code",
      "source": [
        "#drop nan values and reset index\n",
        "df = df[(df['Review'].notna())]\n",
        "df = df[(df['Rating'].notna())]\n",
        "df = df.reset_index()\n",
        "df"
      ],
      "metadata": {
        "colab": {
          "base_uri": "https://localhost:8080/",
          "height": 485
        },
        "id": "kGZX72TzbqVr",
        "outputId": "126bc1cf-752f-4288-e014-fb8964984059"
      },
      "execution_count": 4,
      "outputs": [
        {
          "output_type": "execute_result",
          "data": {
            "text/plain": [
              "      index  \\\n",
              "0         0   \n",
              "1         1   \n",
              "2         2   \n",
              "3         3   \n",
              "4         4   \n",
              "...     ...   \n",
              "1489   1543   \n",
              "1490   1544   \n",
              "1491   1545   \n",
              "1492   1546   \n",
              "1493   1547   \n",
              "\n",
              "                                                                                                                                                                                                       Review  \\\n",
              "0     \"More has been said about Dark Side of the Moon than will ever be necessary both positive and negative. I see no reason to assess the albums actual music in this review as my fondness for it is li...   \n",
              "1     What can I possibly say about an album that not only means so much to so many and has influenced an equal number ... other then to tell you some personal stories regarding the album from my perspe...   \n",
              "2     You know for a band that spent several albums trying to atone for unceremoniously ousting its founder when his incredibly fertile mind became just that little bit overheated from LSD use Pink Floy...   \n",
              "3               Has finally clicked with me in full after 30 years absolutely smashing the previous record of 13 years set by Nevermind. Its never too late for you and an album kids.nn(Thats entirely to...   \n",
              "4               So why are people afraid to say this isnt a masterpiece but is basically a well-crafted well-thought out AOR album with some unnecessary soupy stuff like \"On the Run\" and \"The Great Gig ...   \n",
              "...                                                                                                                                                                                                       ...   \n",
              "1489                                       \"Perhaps the best album of all time. Period. If you havent heard it then get it sit in a dark room and listen to it all the way through. Absolutely incredible...\"   \n",
              "1490  \"A very good experimental and psychedelic album with many different soundscapes and eerie feelings. This album runs together as a whole its difficult to listen to on shuffle or skipping tracks. Li...   \n",
              "1491                                                                                                              What else is there to say Pink Floyd  Darkside of the Moon. Honestly there is nothing else.   \n",
              "1492  Goes to show you should watch out for the \"classics\".nOn the Run is laughable 70s camp I mean just listen. What a horrible instrumental with keyboard sound. Its a bad nightmare trapped in a broken...   \n",
              "1493  Overblownoverhyped crap one of the most talked about album but why?nIf ur into average lyrics and overblown sounds then this is the album for u.nIf u want to find the real pink floyd listen to ear...   \n",
              "\n",
              "      Rating  \n",
              "0        4.5  \n",
              "1        5.0  \n",
              "2        2.0  \n",
              "3        4.0  \n",
              "4        4.5  \n",
              "...      ...  \n",
              "1489     5.0  \n",
              "1490     4.5  \n",
              "1491     5.0  \n",
              "1492     1.0  \n",
              "1493     1.0  \n",
              "\n",
              "[1494 rows x 3 columns]"
            ],
            "text/html": [
              "\n",
              "  <div id=\"df-38513273-811a-42d9-bb1a-a1845268d9bb\">\n",
              "    <div class=\"colab-df-container\">\n",
              "      <div>\n",
              "<style scoped>\n",
              "    .dataframe tbody tr th:only-of-type {\n",
              "        vertical-align: middle;\n",
              "    }\n",
              "\n",
              "    .dataframe tbody tr th {\n",
              "        vertical-align: top;\n",
              "    }\n",
              "\n",
              "    .dataframe thead th {\n",
              "        text-align: right;\n",
              "    }\n",
              "</style>\n",
              "<table border=\"1\" class=\"dataframe\">\n",
              "  <thead>\n",
              "    <tr style=\"text-align: right;\">\n",
              "      <th></th>\n",
              "      <th>index</th>\n",
              "      <th>Review</th>\n",
              "      <th>Rating</th>\n",
              "    </tr>\n",
              "  </thead>\n",
              "  <tbody>\n",
              "    <tr>\n",
              "      <th>0</th>\n",
              "      <td>0</td>\n",
              "      <td>\"More has been said about Dark Side of the Moon than will ever be necessary both positive and negative. I see no reason to assess the albums actual music in this review as my fondness for it is li...</td>\n",
              "      <td>4.5</td>\n",
              "    </tr>\n",
              "    <tr>\n",
              "      <th>1</th>\n",
              "      <td>1</td>\n",
              "      <td>What can I possibly say about an album that not only means so much to so many and has influenced an equal number ... other then to tell you some personal stories regarding the album from my perspe...</td>\n",
              "      <td>5.0</td>\n",
              "    </tr>\n",
              "    <tr>\n",
              "      <th>2</th>\n",
              "      <td>2</td>\n",
              "      <td>You know for a band that spent several albums trying to atone for unceremoniously ousting its founder when his incredibly fertile mind became just that little bit overheated from LSD use Pink Floy...</td>\n",
              "      <td>2.0</td>\n",
              "    </tr>\n",
              "    <tr>\n",
              "      <th>3</th>\n",
              "      <td>3</td>\n",
              "      <td>Has finally clicked with me in full after 30 years absolutely smashing the previous record of 13 years set by Nevermind. Its never too late for you and an album kids.nn(Thats entirely to...</td>\n",
              "      <td>4.0</td>\n",
              "    </tr>\n",
              "    <tr>\n",
              "      <th>4</th>\n",
              "      <td>4</td>\n",
              "      <td>So why are people afraid to say this isnt a masterpiece but is basically a well-crafted well-thought out AOR album with some unnecessary soupy stuff like \"On the Run\" and \"The Great Gig ...</td>\n",
              "      <td>4.5</td>\n",
              "    </tr>\n",
              "    <tr>\n",
              "      <th>...</th>\n",
              "      <td>...</td>\n",
              "      <td>...</td>\n",
              "      <td>...</td>\n",
              "    </tr>\n",
              "    <tr>\n",
              "      <th>1489</th>\n",
              "      <td>1543</td>\n",
              "      <td>\"Perhaps the best album of all time. Period. If you havent heard it then get it sit in a dark room and listen to it all the way through. Absolutely incredible...\"</td>\n",
              "      <td>5.0</td>\n",
              "    </tr>\n",
              "    <tr>\n",
              "      <th>1490</th>\n",
              "      <td>1544</td>\n",
              "      <td>\"A very good experimental and psychedelic album with many different soundscapes and eerie feelings. This album runs together as a whole its difficult to listen to on shuffle or skipping tracks. Li...</td>\n",
              "      <td>4.5</td>\n",
              "    </tr>\n",
              "    <tr>\n",
              "      <th>1491</th>\n",
              "      <td>1545</td>\n",
              "      <td>What else is there to say Pink Floyd  Darkside of the Moon. Honestly there is nothing else.</td>\n",
              "      <td>5.0</td>\n",
              "    </tr>\n",
              "    <tr>\n",
              "      <th>1492</th>\n",
              "      <td>1546</td>\n",
              "      <td>Goes to show you should watch out for the \"classics\".nOn the Run is laughable 70s camp I mean just listen. What a horrible instrumental with keyboard sound. Its a bad nightmare trapped in a broken...</td>\n",
              "      <td>1.0</td>\n",
              "    </tr>\n",
              "    <tr>\n",
              "      <th>1493</th>\n",
              "      <td>1547</td>\n",
              "      <td>Overblownoverhyped crap one of the most talked about album but why?nIf ur into average lyrics and overblown sounds then this is the album for u.nIf u want to find the real pink floyd listen to ear...</td>\n",
              "      <td>1.0</td>\n",
              "    </tr>\n",
              "  </tbody>\n",
              "</table>\n",
              "<p>1494 rows × 3 columns</p>\n",
              "</div>\n",
              "      <button class=\"colab-df-convert\" onclick=\"convertToInteractive('df-38513273-811a-42d9-bb1a-a1845268d9bb')\"\n",
              "              title=\"Convert this dataframe to an interactive table.\"\n",
              "              style=\"display:none;\">\n",
              "        \n",
              "  <svg xmlns=\"http://www.w3.org/2000/svg\" height=\"24px\"viewBox=\"0 0 24 24\"\n",
              "       width=\"24px\">\n",
              "    <path d=\"M0 0h24v24H0V0z\" fill=\"none\"/>\n",
              "    <path d=\"M18.56 5.44l.94 2.06.94-2.06 2.06-.94-2.06-.94-.94-2.06-.94 2.06-2.06.94zm-11 1L8.5 8.5l.94-2.06 2.06-.94-2.06-.94L8.5 2.5l-.94 2.06-2.06.94zm10 10l.94 2.06.94-2.06 2.06-.94-2.06-.94-.94-2.06-.94 2.06-2.06.94z\"/><path d=\"M17.41 7.96l-1.37-1.37c-.4-.4-.92-.59-1.43-.59-.52 0-1.04.2-1.43.59L10.3 9.45l-7.72 7.72c-.78.78-.78 2.05 0 2.83L4 21.41c.39.39.9.59 1.41.59.51 0 1.02-.2 1.41-.59l7.78-7.78 2.81-2.81c.8-.78.8-2.07 0-2.86zM5.41 20L4 18.59l7.72-7.72 1.47 1.35L5.41 20z\"/>\n",
              "  </svg>\n",
              "      </button>\n",
              "      \n",
              "  <style>\n",
              "    .colab-df-container {\n",
              "      display:flex;\n",
              "      flex-wrap:wrap;\n",
              "      gap: 12px;\n",
              "    }\n",
              "\n",
              "    .colab-df-convert {\n",
              "      background-color: #E8F0FE;\n",
              "      border: none;\n",
              "      border-radius: 50%;\n",
              "      cursor: pointer;\n",
              "      display: none;\n",
              "      fill: #1967D2;\n",
              "      height: 32px;\n",
              "      padding: 0 0 0 0;\n",
              "      width: 32px;\n",
              "    }\n",
              "\n",
              "    .colab-df-convert:hover {\n",
              "      background-color: #E2EBFA;\n",
              "      box-shadow: 0px 1px 2px rgba(60, 64, 67, 0.3), 0px 1px 3px 1px rgba(60, 64, 67, 0.15);\n",
              "      fill: #174EA6;\n",
              "    }\n",
              "\n",
              "    [theme=dark] .colab-df-convert {\n",
              "      background-color: #3B4455;\n",
              "      fill: #D2E3FC;\n",
              "    }\n",
              "\n",
              "    [theme=dark] .colab-df-convert:hover {\n",
              "      background-color: #434B5C;\n",
              "      box-shadow: 0px 1px 3px 1px rgba(0, 0, 0, 0.15);\n",
              "      filter: drop-shadow(0px 1px 2px rgba(0, 0, 0, 0.3));\n",
              "      fill: #FFFFFF;\n",
              "    }\n",
              "  </style>\n",
              "\n",
              "      <script>\n",
              "        const buttonEl =\n",
              "          document.querySelector('#df-38513273-811a-42d9-bb1a-a1845268d9bb button.colab-df-convert');\n",
              "        buttonEl.style.display =\n",
              "          google.colab.kernel.accessAllowed ? 'block' : 'none';\n",
              "\n",
              "        async function convertToInteractive(key) {\n",
              "          const element = document.querySelector('#df-38513273-811a-42d9-bb1a-a1845268d9bb');\n",
              "          const dataTable =\n",
              "            await google.colab.kernel.invokeFunction('convertToInteractive',\n",
              "                                                     [key], {});\n",
              "          if (!dataTable) return;\n",
              "\n",
              "          const docLinkHtml = 'Like what you see? Visit the ' +\n",
              "            '<a target=\"_blank\" href=https://colab.research.google.com/notebooks/data_table.ipynb>data table notebook</a>'\n",
              "            + ' to learn more about interactive tables.';\n",
              "          element.innerHTML = '';\n",
              "          dataTable['output_type'] = 'display_data';\n",
              "          await google.colab.output.renderOutput(dataTable, element);\n",
              "          const docLink = document.createElement('div');\n",
              "          docLink.innerHTML = docLinkHtml;\n",
              "          element.appendChild(docLink);\n",
              "        }\n",
              "      </script>\n",
              "    </div>\n",
              "  </div>\n",
              "  "
            ]
          },
          "metadata": {},
          "execution_count": 4
        }
      ]
    },
    {
      "cell_type": "code",
      "source": [
        "reviews = df.copy()[['Review']]\n",
        "# data_text['index'] = data_text.index\n",
        "# reviews = data_text"
      ],
      "metadata": {
        "id": "Ed_7AN2KcyIp"
      },
      "execution_count": 5,
      "outputs": []
    },
    {
      "cell_type": "markdown",
      "source": [
        "# Taking a first look at the data"
      ],
      "metadata": {
        "id": "kPmwp-cdc9yV"
      }
    },
    {
      "cell_type": "code",
      "source": [
        "reviews.sample(3)"
      ],
      "metadata": {
        "colab": {
          "base_uri": "https://localhost:8080/",
          "height": 143
        },
        "id": "7aulMezLc1tJ",
        "outputId": "43c0343f-3f61-4c0f-c2b7-3a2db306fa8e"
      },
      "execution_count": 6,
      "outputs": [
        {
          "output_type": "execute_result",
          "data": {
            "text/plain": [
              "                                                                                                                                                                                                       Review\n",
              "1316                    _Dark Side of The Moon_nnNo need for explanations on why this album rocks.nnFAVORITE SONG: All of themnREASON: They all rocknnLEAST-FAVORITE SONG: None of themnREASON: They all rock\n",
              "1441  This is the greatest album of all time. If you dont give this 5 stars then something is wrong with you. And if you are one of those assholes that put one star or a half of a star or just call the ...\n",
              "332   After 40 years this album still has it. Amazing sound innovative textures thought provoking lyrics an army of special effects rock prog light jazz soaring guitars mournful keyboards sax and an ast..."
            ],
            "text/html": [
              "\n",
              "  <div id=\"df-e86fa993-bdcd-48d0-a59e-1bb980d695b2\">\n",
              "    <div class=\"colab-df-container\">\n",
              "      <div>\n",
              "<style scoped>\n",
              "    .dataframe tbody tr th:only-of-type {\n",
              "        vertical-align: middle;\n",
              "    }\n",
              "\n",
              "    .dataframe tbody tr th {\n",
              "        vertical-align: top;\n",
              "    }\n",
              "\n",
              "    .dataframe thead th {\n",
              "        text-align: right;\n",
              "    }\n",
              "</style>\n",
              "<table border=\"1\" class=\"dataframe\">\n",
              "  <thead>\n",
              "    <tr style=\"text-align: right;\">\n",
              "      <th></th>\n",
              "      <th>Review</th>\n",
              "    </tr>\n",
              "  </thead>\n",
              "  <tbody>\n",
              "    <tr>\n",
              "      <th>1316</th>\n",
              "      <td>_Dark Side of The Moon_nnNo need for explanations on why this album rocks.nnFAVORITE SONG: All of themnREASON: They all rocknnLEAST-FAVORITE SONG: None of themnREASON: They all rock</td>\n",
              "    </tr>\n",
              "    <tr>\n",
              "      <th>1441</th>\n",
              "      <td>This is the greatest album of all time. If you dont give this 5 stars then something is wrong with you. And if you are one of those assholes that put one star or a half of a star or just call the ...</td>\n",
              "    </tr>\n",
              "    <tr>\n",
              "      <th>332</th>\n",
              "      <td>After 40 years this album still has it. Amazing sound innovative textures thought provoking lyrics an army of special effects rock prog light jazz soaring guitars mournful keyboards sax and an ast...</td>\n",
              "    </tr>\n",
              "  </tbody>\n",
              "</table>\n",
              "</div>\n",
              "      <button class=\"colab-df-convert\" onclick=\"convertToInteractive('df-e86fa993-bdcd-48d0-a59e-1bb980d695b2')\"\n",
              "              title=\"Convert this dataframe to an interactive table.\"\n",
              "              style=\"display:none;\">\n",
              "        \n",
              "  <svg xmlns=\"http://www.w3.org/2000/svg\" height=\"24px\"viewBox=\"0 0 24 24\"\n",
              "       width=\"24px\">\n",
              "    <path d=\"M0 0h24v24H0V0z\" fill=\"none\"/>\n",
              "    <path d=\"M18.56 5.44l.94 2.06.94-2.06 2.06-.94-2.06-.94-.94-2.06-.94 2.06-2.06.94zm-11 1L8.5 8.5l.94-2.06 2.06-.94-2.06-.94L8.5 2.5l-.94 2.06-2.06.94zm10 10l.94 2.06.94-2.06 2.06-.94-2.06-.94-.94-2.06-.94 2.06-2.06.94z\"/><path d=\"M17.41 7.96l-1.37-1.37c-.4-.4-.92-.59-1.43-.59-.52 0-1.04.2-1.43.59L10.3 9.45l-7.72 7.72c-.78.78-.78 2.05 0 2.83L4 21.41c.39.39.9.59 1.41.59.51 0 1.02-.2 1.41-.59l7.78-7.78 2.81-2.81c.8-.78.8-2.07 0-2.86zM5.41 20L4 18.59l7.72-7.72 1.47 1.35L5.41 20z\"/>\n",
              "  </svg>\n",
              "      </button>\n",
              "      \n",
              "  <style>\n",
              "    .colab-df-container {\n",
              "      display:flex;\n",
              "      flex-wrap:wrap;\n",
              "      gap: 12px;\n",
              "    }\n",
              "\n",
              "    .colab-df-convert {\n",
              "      background-color: #E8F0FE;\n",
              "      border: none;\n",
              "      border-radius: 50%;\n",
              "      cursor: pointer;\n",
              "      display: none;\n",
              "      fill: #1967D2;\n",
              "      height: 32px;\n",
              "      padding: 0 0 0 0;\n",
              "      width: 32px;\n",
              "    }\n",
              "\n",
              "    .colab-df-convert:hover {\n",
              "      background-color: #E2EBFA;\n",
              "      box-shadow: 0px 1px 2px rgba(60, 64, 67, 0.3), 0px 1px 3px 1px rgba(60, 64, 67, 0.15);\n",
              "      fill: #174EA6;\n",
              "    }\n",
              "\n",
              "    [theme=dark] .colab-df-convert {\n",
              "      background-color: #3B4455;\n",
              "      fill: #D2E3FC;\n",
              "    }\n",
              "\n",
              "    [theme=dark] .colab-df-convert:hover {\n",
              "      background-color: #434B5C;\n",
              "      box-shadow: 0px 1px 3px 1px rgba(0, 0, 0, 0.15);\n",
              "      filter: drop-shadow(0px 1px 2px rgba(0, 0, 0, 0.3));\n",
              "      fill: #FFFFFF;\n",
              "    }\n",
              "  </style>\n",
              "\n",
              "      <script>\n",
              "        const buttonEl =\n",
              "          document.querySelector('#df-e86fa993-bdcd-48d0-a59e-1bb980d695b2 button.colab-df-convert');\n",
              "        buttonEl.style.display =\n",
              "          google.colab.kernel.accessAllowed ? 'block' : 'none';\n",
              "\n",
              "        async function convertToInteractive(key) {\n",
              "          const element = document.querySelector('#df-e86fa993-bdcd-48d0-a59e-1bb980d695b2');\n",
              "          const dataTable =\n",
              "            await google.colab.kernel.invokeFunction('convertToInteractive',\n",
              "                                                     [key], {});\n",
              "          if (!dataTable) return;\n",
              "\n",
              "          const docLinkHtml = 'Like what you see? Visit the ' +\n",
              "            '<a target=\"_blank\" href=https://colab.research.google.com/notebooks/data_table.ipynb>data table notebook</a>'\n",
              "            + ' to learn more about interactive tables.';\n",
              "          element.innerHTML = '';\n",
              "          dataTable['output_type'] = 'display_data';\n",
              "          await google.colab.output.renderOutput(dataTable, element);\n",
              "          const docLink = document.createElement('div');\n",
              "          docLink.innerHTML = docLinkHtml;\n",
              "          element.appendChild(docLink);\n",
              "        }\n",
              "      </script>\n",
              "    </div>\n",
              "  </div>\n",
              "  "
            ]
          },
          "metadata": {},
          "execution_count": 6
        }
      ]
    },
    {
      "cell_type": "code",
      "source": [
        "#there are reviews in the dataset in languages other than english, for the purpose of further analysis, we can translate the reviews and use them\n",
        "reviews.loc[[258]]"
      ],
      "metadata": {
        "colab": {
          "base_uri": "https://localhost:8080/",
          "height": 81
        },
        "id": "Dc4LqEpyc2iV",
        "outputId": "57fdb557-475c-4e66-d963-5125c89f6241"
      },
      "execution_count": 7,
      "outputs": [
        {
          "output_type": "execute_result",
          "data": {
            "text/plain": [
              "                                                                                                                                                                                                      Review\n",
              "258            Seguramente entre os cinco maiores albums de rock de todos os tempos Darkside of the Moon é o Pink Floyd em seu ápice eles gravaram outros albums maravilhosos mas esse é imbatível.Um alb..."
            ],
            "text/html": [
              "\n",
              "  <div id=\"df-2a521a28-c1ca-4986-9a26-3b1236a3ad03\">\n",
              "    <div class=\"colab-df-container\">\n",
              "      <div>\n",
              "<style scoped>\n",
              "    .dataframe tbody tr th:only-of-type {\n",
              "        vertical-align: middle;\n",
              "    }\n",
              "\n",
              "    .dataframe tbody tr th {\n",
              "        vertical-align: top;\n",
              "    }\n",
              "\n",
              "    .dataframe thead th {\n",
              "        text-align: right;\n",
              "    }\n",
              "</style>\n",
              "<table border=\"1\" class=\"dataframe\">\n",
              "  <thead>\n",
              "    <tr style=\"text-align: right;\">\n",
              "      <th></th>\n",
              "      <th>Review</th>\n",
              "    </tr>\n",
              "  </thead>\n",
              "  <tbody>\n",
              "    <tr>\n",
              "      <th>258</th>\n",
              "      <td>Seguramente entre os cinco maiores albums de rock de todos os tempos Darkside of the Moon é o Pink Floyd em seu ápice eles gravaram outros albums maravilhosos mas esse é imbatível.Um alb...</td>\n",
              "    </tr>\n",
              "  </tbody>\n",
              "</table>\n",
              "</div>\n",
              "      <button class=\"colab-df-convert\" onclick=\"convertToInteractive('df-2a521a28-c1ca-4986-9a26-3b1236a3ad03')\"\n",
              "              title=\"Convert this dataframe to an interactive table.\"\n",
              "              style=\"display:none;\">\n",
              "        \n",
              "  <svg xmlns=\"http://www.w3.org/2000/svg\" height=\"24px\"viewBox=\"0 0 24 24\"\n",
              "       width=\"24px\">\n",
              "    <path d=\"M0 0h24v24H0V0z\" fill=\"none\"/>\n",
              "    <path d=\"M18.56 5.44l.94 2.06.94-2.06 2.06-.94-2.06-.94-.94-2.06-.94 2.06-2.06.94zm-11 1L8.5 8.5l.94-2.06 2.06-.94-2.06-.94L8.5 2.5l-.94 2.06-2.06.94zm10 10l.94 2.06.94-2.06 2.06-.94-2.06-.94-.94-2.06-.94 2.06-2.06.94z\"/><path d=\"M17.41 7.96l-1.37-1.37c-.4-.4-.92-.59-1.43-.59-.52 0-1.04.2-1.43.59L10.3 9.45l-7.72 7.72c-.78.78-.78 2.05 0 2.83L4 21.41c.39.39.9.59 1.41.59.51 0 1.02-.2 1.41-.59l7.78-7.78 2.81-2.81c.8-.78.8-2.07 0-2.86zM5.41 20L4 18.59l7.72-7.72 1.47 1.35L5.41 20z\"/>\n",
              "  </svg>\n",
              "      </button>\n",
              "      \n",
              "  <style>\n",
              "    .colab-df-container {\n",
              "      display:flex;\n",
              "      flex-wrap:wrap;\n",
              "      gap: 12px;\n",
              "    }\n",
              "\n",
              "    .colab-df-convert {\n",
              "      background-color: #E8F0FE;\n",
              "      border: none;\n",
              "      border-radius: 50%;\n",
              "      cursor: pointer;\n",
              "      display: none;\n",
              "      fill: #1967D2;\n",
              "      height: 32px;\n",
              "      padding: 0 0 0 0;\n",
              "      width: 32px;\n",
              "    }\n",
              "\n",
              "    .colab-df-convert:hover {\n",
              "      background-color: #E2EBFA;\n",
              "      box-shadow: 0px 1px 2px rgba(60, 64, 67, 0.3), 0px 1px 3px 1px rgba(60, 64, 67, 0.15);\n",
              "      fill: #174EA6;\n",
              "    }\n",
              "\n",
              "    [theme=dark] .colab-df-convert {\n",
              "      background-color: #3B4455;\n",
              "      fill: #D2E3FC;\n",
              "    }\n",
              "\n",
              "    [theme=dark] .colab-df-convert:hover {\n",
              "      background-color: #434B5C;\n",
              "      box-shadow: 0px 1px 3px 1px rgba(0, 0, 0, 0.15);\n",
              "      filter: drop-shadow(0px 1px 2px rgba(0, 0, 0, 0.3));\n",
              "      fill: #FFFFFF;\n",
              "    }\n",
              "  </style>\n",
              "\n",
              "      <script>\n",
              "        const buttonEl =\n",
              "          document.querySelector('#df-2a521a28-c1ca-4986-9a26-3b1236a3ad03 button.colab-df-convert');\n",
              "        buttonEl.style.display =\n",
              "          google.colab.kernel.accessAllowed ? 'block' : 'none';\n",
              "\n",
              "        async function convertToInteractive(key) {\n",
              "          const element = document.querySelector('#df-2a521a28-c1ca-4986-9a26-3b1236a3ad03');\n",
              "          const dataTable =\n",
              "            await google.colab.kernel.invokeFunction('convertToInteractive',\n",
              "                                                     [key], {});\n",
              "          if (!dataTable) return;\n",
              "\n",
              "          const docLinkHtml = 'Like what you see? Visit the ' +\n",
              "            '<a target=\"_blank\" href=https://colab.research.google.com/notebooks/data_table.ipynb>data table notebook</a>'\n",
              "            + ' to learn more about interactive tables.';\n",
              "          element.innerHTML = '';\n",
              "          dataTable['output_type'] = 'display_data';\n",
              "          await google.colab.output.renderOutput(dataTable, element);\n",
              "          const docLink = document.createElement('div');\n",
              "          docLink.innerHTML = docLinkHtml;\n",
              "          element.appendChild(docLink);\n",
              "        }\n",
              "      </script>\n",
              "    </div>\n",
              "  </div>\n",
              "  "
            ]
          },
          "metadata": {},
          "execution_count": 7
        }
      ]
    },
    {
      "cell_type": "code",
      "source": [
        "!pip install langdetect\n",
        "from langdetect import detect_langs\n",
        "from langdetect import detect"
      ],
      "metadata": {
        "colab": {
          "base_uri": "https://localhost:8080/"
        },
        "id": "yqmQkCKLc2l5",
        "outputId": "ef80bbdf-bf17-4bba-f695-08e87f7690d1"
      },
      "execution_count": 8,
      "outputs": [
        {
          "output_type": "stream",
          "name": "stdout",
          "text": [
            "Looking in indexes: https://pypi.org/simple, https://us-python.pkg.dev/colab-wheels/public/simple/\n",
            "Requirement already satisfied: langdetect in /usr/local/lib/python3.7/dist-packages (1.0.9)\n",
            "Requirement already satisfied: six in /usr/local/lib/python3.7/dist-packages (from langdetect) (1.15.0)\n"
          ]
        }
      ]
    },
    {
      "cell_type": "code",
      "source": [
        "from langdetect import DetectorFactory\n",
        "\n",
        "DetectorFactory.seed = 0\n",
        "reviews['language'] = reviews['Review'].apply(lambda x: detect(x))\n",
        "reviews.language.value_counts()"
      ],
      "metadata": {
        "colab": {
          "base_uri": "https://localhost:8080/"
        },
        "id": "AW8bpX54c2oy",
        "outputId": "58feb8e1-2c5b-477c-8960-8588cc803a02"
      },
      "execution_count": 9,
      "outputs": [
        {
          "output_type": "execute_result",
          "data": {
            "text/plain": [
              "en    1348\n",
              "es      44\n",
              "fr      21\n",
              "it      21\n",
              "pl       9\n",
              "pt       8\n",
              "ru       7\n",
              "ro       7\n",
              "de       6\n",
              "cy       3\n",
              "tl       3\n",
              "ca       3\n",
              "ko       2\n",
              "nl       2\n",
              "hu       2\n",
              "no       2\n",
              "so       1\n",
              "sv       1\n",
              "da       1\n",
              "uk       1\n",
              "id       1\n",
              "af       1\n",
              "Name: language, dtype: int64"
            ]
          },
          "metadata": {},
          "execution_count": 9
        }
      ]
    },
    {
      "cell_type": "code",
      "source": [
        "!pip install googletrans==3.1.0a0"
      ],
      "metadata": {
        "colab": {
          "base_uri": "https://localhost:8080/"
        },
        "id": "eerv6AY7j9T5",
        "outputId": "ac7f4310-4ff5-41cb-a1b7-6526fbd6056b"
      },
      "execution_count": 10,
      "outputs": [
        {
          "output_type": "stream",
          "name": "stdout",
          "text": [
            "Looking in indexes: https://pypi.org/simple, https://us-python.pkg.dev/colab-wheels/public/simple/\n",
            "Requirement already satisfied: googletrans==3.1.0a0 in /usr/local/lib/python3.7/dist-packages (3.1.0a0)\n",
            "Requirement already satisfied: httpx==0.13.3 in /usr/local/lib/python3.7/dist-packages (from googletrans==3.1.0a0) (0.13.3)\n",
            "Requirement already satisfied: chardet==3.* in /usr/local/lib/python3.7/dist-packages (from httpx==0.13.3->googletrans==3.1.0a0) (3.0.4)\n",
            "Requirement already satisfied: idna==2.* in /usr/local/lib/python3.7/dist-packages (from httpx==0.13.3->googletrans==3.1.0a0) (2.10)\n",
            "Requirement already satisfied: httpcore==0.9.* in /usr/local/lib/python3.7/dist-packages (from httpx==0.13.3->googletrans==3.1.0a0) (0.9.1)\n",
            "Requirement already satisfied: sniffio in /usr/local/lib/python3.7/dist-packages (from httpx==0.13.3->googletrans==3.1.0a0) (1.2.0)\n",
            "Requirement already satisfied: certifi in /usr/local/lib/python3.7/dist-packages (from httpx==0.13.3->googletrans==3.1.0a0) (2022.6.15)\n",
            "Requirement already satisfied: hstspreload in /usr/local/lib/python3.7/dist-packages (from httpx==0.13.3->googletrans==3.1.0a0) (2022.8.1)\n",
            "Requirement already satisfied: rfc3986<2,>=1.3 in /usr/local/lib/python3.7/dist-packages (from httpx==0.13.3->googletrans==3.1.0a0) (1.5.0)\n",
            "Requirement already satisfied: h2==3.* in /usr/local/lib/python3.7/dist-packages (from httpcore==0.9.*->httpx==0.13.3->googletrans==3.1.0a0) (3.2.0)\n",
            "Requirement already satisfied: h11<0.10,>=0.8 in /usr/local/lib/python3.7/dist-packages (from httpcore==0.9.*->httpx==0.13.3->googletrans==3.1.0a0) (0.9.0)\n",
            "Requirement already satisfied: hpack<4,>=3.0 in /usr/local/lib/python3.7/dist-packages (from h2==3.*->httpcore==0.9.*->httpx==0.13.3->googletrans==3.1.0a0) (3.0.0)\n",
            "Requirement already satisfied: hyperframe<6,>=5.2.0 in /usr/local/lib/python3.7/dist-packages (from h2==3.*->httpcore==0.9.*->httpx==0.13.3->googletrans==3.1.0a0) (5.2.0)\n"
          ]
        }
      ]
    },
    {
      "cell_type": "code",
      "source": [
        "import googletrans\n",
        "from googletrans import Translator\n",
        "\n",
        "translator = Translator()\n",
        "\n",
        "#usage example\n",
        "review = reviews['Review'].loc[[258]].values[0]\n",
        "print('Original review: ',review)\n",
        "result = translator.translate(review, dest='en')\n",
        "print('Translated review: ',result.text)"
      ],
      "metadata": {
        "colab": {
          "base_uri": "https://localhost:8080/"
        },
        "id": "5tAFus5Gj6Av",
        "outputId": "738c5f28-27a8-45fe-ce60-d38e32ee32d5"
      },
      "execution_count": 11,
      "outputs": [
        {
          "output_type": "stream",
          "name": "stdout",
          "text": [
            "Original review:            Seguramente entre os cinco maiores albums de rock de todos os tempos Darkside of the Moon é o Pink Floyd em seu ápice eles gravaram outros albums maravilhosos mas esse é imbatível.Um album revolucionário que até hoje é referência em qualidade de gravação.Uma das maiores obras de arte feitas pelo ser-humano.Deus abençoe o Pink Floyd.\n",
            "Translated review:  Surely among the five greatest rock albums of all time Darkside of the Moon is Pink Floyd at their peak they recorded other wonderful albums but this one is unbeatable. A revolutionary album that is still a reference in recording quality. of art made by the human being. God bless Pink Floyd.\n"
          ]
        }
      ]
    },
    {
      "cell_type": "markdown",
      "source": [
        "# Translating reviews "
      ],
      "metadata": {
        "id": "E-1ru0Vqn2BW"
      }
    },
    {
      "cell_type": "code",
      "source": [
        "def translate_reviews(df, col):\n",
        "      translated = []\n",
        "      for i in range(0, df.shape[0]):\n",
        "            review = df[col].loc[[i]].values[0]\n",
        "            if df['language'].loc[[i]].values[0]!='en':\n",
        "                trans = translator.translate(review, dest='en')\n",
        "                translated.append(trans.text)\n",
        "            else:\n",
        "                translated.append(review)\n",
        "      return translated"
      ],
      "metadata": {
        "id": "oGKPiTTln7YQ"
      },
      "execution_count": 12,
      "outputs": []
    },
    {
      "cell_type": "code",
      "source": [
        "reviews['translated_reviews'] = translate_reviews(reviews, 'Review')"
      ],
      "metadata": {
        "id": "UWI6o0Wzn7V0"
      },
      "execution_count": 13,
      "outputs": []
    },
    {
      "cell_type": "code",
      "source": [
        "reviews[reviews.language!='en']"
      ],
      "metadata": {
        "colab": {
          "base_uri": "https://localhost:8080/",
          "height": 554
        },
        "id": "RNqrItpsn7OZ",
        "outputId": "d9df9c95-8dc3-4dc3-d2af-37e72e6dcb06"
      },
      "execution_count": 14,
      "outputs": [
        {
          "output_type": "execute_result",
          "data": {
            "text/plain": [
              "                                                                                                                                                                                                       Review  \\\n",
              "11              Nunca he sabido demasiado bien cómo afrontar este disco. Por un lado temía ser presa de los prejuicios ya fueran estos buenos o malos; por otro nunca me había visto capaz de puntuarlo ya...   \n",
              "27    Una proesa sonora para la época en que el disco fue grabado. La calidad del sonido es increíble tan cristalino (solo por ejemplo tomo los relojes del comienzo de Time tal es el detalle que se pued...   \n",
              "29    Voilà peut-être ce qui me dérange le plus là-dedans : cest une parfaite démonstration du mauvais préjugé que jai à propos de ce truc appelé \"prog\". Non mais ça devrait être interdit dutiliser des ...   \n",
              "31    Płyta na której Pink Floydzi dobitnie pokazali że pragną odciąć się od psychodelii na rzecz grania w miarę zwykłego rocka. Właściwie proces ten postępował już od jakiegoś czasu ale jeżeli pominąć ...   \n",
              "44                                                                                                                                                                                                     So-so.   \n",
              "...                                                                                                                                                                                                       ...   \n",
              "1371                                                                                                                                                                                                    great   \n",
              "1385                                                                                                                                                                                                     Dull   \n",
              "1395                                                                             aguante \"ANY COLOUR YOU LIKE\" y \"TIME\"nY aguante CERCA DE LA REVOLUCION y INFLUENCIA del #1- Charly GarcíanTHE SMITHS APESTA   \n",
              "1453                                                                                                                                                                                                   awsome   \n",
              "1456                                                                                                                                                                                                 glorious   \n",
              "\n",
              "     language  \\\n",
              "11         es   \n",
              "27         es   \n",
              "29         fr   \n",
              "31         pl   \n",
              "44         so   \n",
              "...       ...   \n",
              "1371       ro   \n",
              "1385       af   \n",
              "1395       es   \n",
              "1453       cy   \n",
              "1456       it   \n",
              "\n",
              "                                                                                                                                                                                           translated_reviews  \n",
              "11    I've never really known how to deal with this album. On the one hand, she feared falling prey to prejudice, whether good or bad; on the other, I had never seen myself capable of scoring it either ...  \n",
              "27    A sound prose for the time the album was recorded. The sound quality is incredible, so crystal clear (just for example I take the clocks from the beginning of Time, such is the detail that you can...  \n",
              "29    This is perhaps what bothers me the most about it: it's a perfect demonstration of the wrong prejudice I have about this thing called \"prog\". No, but it should be forbidden to use such crude trick...  \n",
              "31    The album on which Pink Floydzi clearly showed that they want to cut themselves off from psychedelia in favor of playing as ordinary rock. In fact, this process has been going on for some time, bu...  \n",
              "44                                                                                                                                                                                                     So-so.  \n",
              "...                                                                                                                                                                                                       ...  \n",
              "1371                                                                                                                                                                                                    great  \n",
              "1385                                                                                                                                                                                                     Dull  \n",
              "1395                                                                              endure \"ANY COLOR YOU LIKE\" and \"TIME\"nY endure CLOSE TO THE REVOLUTION and INFLUENCE of #1- Charly GarcíanTHE SMITHS SUCKS  \n",
              "1453                                                                                                                                                                                                   awsome  \n",
              "1456                                                                                                                                                                                                 glorious  \n",
              "\n",
              "[146 rows x 3 columns]"
            ],
            "text/html": [
              "\n",
              "  <div id=\"df-08f9768a-8714-4e51-9f73-d136b95eadbb\">\n",
              "    <div class=\"colab-df-container\">\n",
              "      <div>\n",
              "<style scoped>\n",
              "    .dataframe tbody tr th:only-of-type {\n",
              "        vertical-align: middle;\n",
              "    }\n",
              "\n",
              "    .dataframe tbody tr th {\n",
              "        vertical-align: top;\n",
              "    }\n",
              "\n",
              "    .dataframe thead th {\n",
              "        text-align: right;\n",
              "    }\n",
              "</style>\n",
              "<table border=\"1\" class=\"dataframe\">\n",
              "  <thead>\n",
              "    <tr style=\"text-align: right;\">\n",
              "      <th></th>\n",
              "      <th>Review</th>\n",
              "      <th>language</th>\n",
              "      <th>translated_reviews</th>\n",
              "    </tr>\n",
              "  </thead>\n",
              "  <tbody>\n",
              "    <tr>\n",
              "      <th>11</th>\n",
              "      <td>Nunca he sabido demasiado bien cómo afrontar este disco. Por un lado temía ser presa de los prejuicios ya fueran estos buenos o malos; por otro nunca me había visto capaz de puntuarlo ya...</td>\n",
              "      <td>es</td>\n",
              "      <td>I've never really known how to deal with this album. On the one hand, she feared falling prey to prejudice, whether good or bad; on the other, I had never seen myself capable of scoring it either ...</td>\n",
              "    </tr>\n",
              "    <tr>\n",
              "      <th>27</th>\n",
              "      <td>Una proesa sonora para la época en que el disco fue grabado. La calidad del sonido es increíble tan cristalino (solo por ejemplo tomo los relojes del comienzo de Time tal es el detalle que se pued...</td>\n",
              "      <td>es</td>\n",
              "      <td>A sound prose for the time the album was recorded. The sound quality is incredible, so crystal clear (just for example I take the clocks from the beginning of Time, such is the detail that you can...</td>\n",
              "    </tr>\n",
              "    <tr>\n",
              "      <th>29</th>\n",
              "      <td>Voilà peut-être ce qui me dérange le plus là-dedans : cest une parfaite démonstration du mauvais préjugé que jai à propos de ce truc appelé \"prog\". Non mais ça devrait être interdit dutiliser des ...</td>\n",
              "      <td>fr</td>\n",
              "      <td>This is perhaps what bothers me the most about it: it's a perfect demonstration of the wrong prejudice I have about this thing called \"prog\". No, but it should be forbidden to use such crude trick...</td>\n",
              "    </tr>\n",
              "    <tr>\n",
              "      <th>31</th>\n",
              "      <td>Płyta na której Pink Floydzi dobitnie pokazali że pragną odciąć się od psychodelii na rzecz grania w miarę zwykłego rocka. Właściwie proces ten postępował już od jakiegoś czasu ale jeżeli pominąć ...</td>\n",
              "      <td>pl</td>\n",
              "      <td>The album on which Pink Floydzi clearly showed that they want to cut themselves off from psychedelia in favor of playing as ordinary rock. In fact, this process has been going on for some time, bu...</td>\n",
              "    </tr>\n",
              "    <tr>\n",
              "      <th>44</th>\n",
              "      <td>So-so.</td>\n",
              "      <td>so</td>\n",
              "      <td>So-so.</td>\n",
              "    </tr>\n",
              "    <tr>\n",
              "      <th>...</th>\n",
              "      <td>...</td>\n",
              "      <td>...</td>\n",
              "      <td>...</td>\n",
              "    </tr>\n",
              "    <tr>\n",
              "      <th>1371</th>\n",
              "      <td>great</td>\n",
              "      <td>ro</td>\n",
              "      <td>great</td>\n",
              "    </tr>\n",
              "    <tr>\n",
              "      <th>1385</th>\n",
              "      <td>Dull</td>\n",
              "      <td>af</td>\n",
              "      <td>Dull</td>\n",
              "    </tr>\n",
              "    <tr>\n",
              "      <th>1395</th>\n",
              "      <td>aguante \"ANY COLOUR YOU LIKE\" y \"TIME\"nY aguante CERCA DE LA REVOLUCION y INFLUENCIA del #1- Charly GarcíanTHE SMITHS APESTA</td>\n",
              "      <td>es</td>\n",
              "      <td>endure \"ANY COLOR YOU LIKE\" and \"TIME\"nY endure CLOSE TO THE REVOLUTION and INFLUENCE of #1- Charly GarcíanTHE SMITHS SUCKS</td>\n",
              "    </tr>\n",
              "    <tr>\n",
              "      <th>1453</th>\n",
              "      <td>awsome</td>\n",
              "      <td>cy</td>\n",
              "      <td>awsome</td>\n",
              "    </tr>\n",
              "    <tr>\n",
              "      <th>1456</th>\n",
              "      <td>glorious</td>\n",
              "      <td>it</td>\n",
              "      <td>glorious</td>\n",
              "    </tr>\n",
              "  </tbody>\n",
              "</table>\n",
              "<p>146 rows × 3 columns</p>\n",
              "</div>\n",
              "      <button class=\"colab-df-convert\" onclick=\"convertToInteractive('df-08f9768a-8714-4e51-9f73-d136b95eadbb')\"\n",
              "              title=\"Convert this dataframe to an interactive table.\"\n",
              "              style=\"display:none;\">\n",
              "        \n",
              "  <svg xmlns=\"http://www.w3.org/2000/svg\" height=\"24px\"viewBox=\"0 0 24 24\"\n",
              "       width=\"24px\">\n",
              "    <path d=\"M0 0h24v24H0V0z\" fill=\"none\"/>\n",
              "    <path d=\"M18.56 5.44l.94 2.06.94-2.06 2.06-.94-2.06-.94-.94-2.06-.94 2.06-2.06.94zm-11 1L8.5 8.5l.94-2.06 2.06-.94-2.06-.94L8.5 2.5l-.94 2.06-2.06.94zm10 10l.94 2.06.94-2.06 2.06-.94-2.06-.94-.94-2.06-.94 2.06-2.06.94z\"/><path d=\"M17.41 7.96l-1.37-1.37c-.4-.4-.92-.59-1.43-.59-.52 0-1.04.2-1.43.59L10.3 9.45l-7.72 7.72c-.78.78-.78 2.05 0 2.83L4 21.41c.39.39.9.59 1.41.59.51 0 1.02-.2 1.41-.59l7.78-7.78 2.81-2.81c.8-.78.8-2.07 0-2.86zM5.41 20L4 18.59l7.72-7.72 1.47 1.35L5.41 20z\"/>\n",
              "  </svg>\n",
              "      </button>\n",
              "      \n",
              "  <style>\n",
              "    .colab-df-container {\n",
              "      display:flex;\n",
              "      flex-wrap:wrap;\n",
              "      gap: 12px;\n",
              "    }\n",
              "\n",
              "    .colab-df-convert {\n",
              "      background-color: #E8F0FE;\n",
              "      border: none;\n",
              "      border-radius: 50%;\n",
              "      cursor: pointer;\n",
              "      display: none;\n",
              "      fill: #1967D2;\n",
              "      height: 32px;\n",
              "      padding: 0 0 0 0;\n",
              "      width: 32px;\n",
              "    }\n",
              "\n",
              "    .colab-df-convert:hover {\n",
              "      background-color: #E2EBFA;\n",
              "      box-shadow: 0px 1px 2px rgba(60, 64, 67, 0.3), 0px 1px 3px 1px rgba(60, 64, 67, 0.15);\n",
              "      fill: #174EA6;\n",
              "    }\n",
              "\n",
              "    [theme=dark] .colab-df-convert {\n",
              "      background-color: #3B4455;\n",
              "      fill: #D2E3FC;\n",
              "    }\n",
              "\n",
              "    [theme=dark] .colab-df-convert:hover {\n",
              "      background-color: #434B5C;\n",
              "      box-shadow: 0px 1px 3px 1px rgba(0, 0, 0, 0.15);\n",
              "      filter: drop-shadow(0px 1px 2px rgba(0, 0, 0, 0.3));\n",
              "      fill: #FFFFFF;\n",
              "    }\n",
              "  </style>\n",
              "\n",
              "      <script>\n",
              "        const buttonEl =\n",
              "          document.querySelector('#df-08f9768a-8714-4e51-9f73-d136b95eadbb button.colab-df-convert');\n",
              "        buttonEl.style.display =\n",
              "          google.colab.kernel.accessAllowed ? 'block' : 'none';\n",
              "\n",
              "        async function convertToInteractive(key) {\n",
              "          const element = document.querySelector('#df-08f9768a-8714-4e51-9f73-d136b95eadbb');\n",
              "          const dataTable =\n",
              "            await google.colab.kernel.invokeFunction('convertToInteractive',\n",
              "                                                     [key], {});\n",
              "          if (!dataTable) return;\n",
              "\n",
              "          const docLinkHtml = 'Like what you see? Visit the ' +\n",
              "            '<a target=\"_blank\" href=https://colab.research.google.com/notebooks/data_table.ipynb>data table notebook</a>'\n",
              "            + ' to learn more about interactive tables.';\n",
              "          element.innerHTML = '';\n",
              "          dataTable['output_type'] = 'display_data';\n",
              "          await google.colab.output.renderOutput(dataTable, element);\n",
              "          const docLink = document.createElement('div');\n",
              "          docLink.innerHTML = docLinkHtml;\n",
              "          element.appendChild(docLink);\n",
              "        }\n",
              "      </script>\n",
              "    </div>\n",
              "  </div>\n",
              "  "
            ]
          },
          "metadata": {},
          "execution_count": 14
        }
      ]
    },
    {
      "cell_type": "markdown",
      "source": [
        "# Preprocessing"
      ],
      "metadata": {
        "id": "FAFdR4fjo0JR"
      }
    },
    {
      "cell_type": "code",
      "source": [
        "np.random.seed(2022)\n",
        "#nltk.download('omw-1.4')\n",
        "#nltk.download('wordnet')\n",
        "import gensim\n",
        "from gensim.utils import simple_preprocess\n",
        "from gensim.parsing.preprocessing import STOPWORDS\n",
        "from nltk.stem import WordNetLemmatizer, SnowballStemmer\n",
        "from nltk.stem.porter import *"
      ],
      "metadata": {
        "id": "iTM58KRgn7Lz"
      },
      "execution_count": 15,
      "outputs": []
    },
    {
      "cell_type": "code",
      "source": [
        "def lemmatize_stemming(text):\n",
        "    stemmer = SnowballStemmer('english')\n",
        "    return stemmer.stem(WordNetLemmatizer().lemmatize(text, pos='v'))\n",
        "\n",
        "def preprocess(text):\n",
        "    result = []\n",
        "    #text = text.replace('nn',' ')\n",
        "    default_stopwords = gensim.parsing.preprocessing.STOPWORDS\n",
        "    custom_stopwords = default_stopwords.union(set([\"pink\",\"floyd\",\"moon\",\"dark\",\"side\",\"one\"]))\n",
        "    for token in gensim.utils.simple_preprocess(text):\n",
        "        if token not in custom_stopwords and len(token) > 3:\n",
        "            result.append(lemmatize_stemming(token))\n",
        "    return result"
      ],
      "metadata": {
        "id": "2Qm6NytVtq1Q"
      },
      "execution_count": 16,
      "outputs": []
    },
    {
      "cell_type": "code",
      "source": [
        "#examples\n",
        "print(preprocess(reviews['translated_reviews'].loc[0]))\n",
        "print(lemmatize_stemming('albums'))"
      ],
      "metadata": {
        "colab": {
          "base_uri": "https://localhost:8080/"
        },
        "id": "ybgikKL1tqyq",
        "outputId": "da4bdeb9-55ec-4b08-db25-971a157e0a7e"
      },
      "execution_count": 17,
      "outputs": [
        {
          "output_type": "stream",
          "name": "stdout",
          "text": [
            "['say', 'necessari', 'posit', 'negat', 'reason', 'assess', 'album', 'actual', 'music', 'review', 'fond', 'like', 'root', 'reason', 'emot', 'peopl', 'rank', 'best', 'album', 'theyv', 'hear', 'feel', 'oblig', 'explain', 'critic', 'acclaim', 'album', 'fall', 'short', 'reput', 'eardrum', 'except', 'nnwere', 'ask', 'perfect', 'hypothet', 'album', 'think', 'respons', 'abl', 'come', 'respons', 'reflect', 'characterist', 'year', 'pass', 'knowledg', 'music', 'expand', 'learn', 'appreci', 'great', 'deal', 'sound', 'idea', 'bothersom', 'album', 'domin', 'speaker', 'perspect', 'music', 'listen', 'adapt', 'embrac', 'varieti', 'divers', 'origin', 'favorit', 'sound', 'date', 'tiresom', 'nndark', 'survivor', 'simpli', 'impact', 'defin', 'simpl', 'nostalgia', 'sound', 'structur', 'serv', 'core', 'explor', 'music', 'subconsci', 'contrast', 'music', 'unintent', 'allow', 'album', 'influenc', 'feel', 'album', 'grow', 'phase', 'reverber', 'felt', 'collect', 'truli', 'terribl', 'good', 'effect', 'album', 'listen', 'arent', 'blame', 'nnthis', 'favorit', 'album', 'anymor', 'hope', 'continu', 'distanc', 'dont', 'forget', 'actual', 'music', 'merit', 'import', 'rock', 'music']\n",
            "album\n"
          ]
        }
      ]
    },
    {
      "cell_type": "code",
      "source": [
        "preprocessed_reviews = reviews['translated_reviews'].map(preprocess)\n",
        "reviews['preprocessed_reviews'] = preprocessed_reviews"
      ],
      "metadata": {
        "id": "rLWA_TXztqtx"
      },
      "execution_count": 18,
      "outputs": []
    },
    {
      "cell_type": "code",
      "source": [
        "reviews.sample(2)"
      ],
      "metadata": {
        "colab": {
          "base_uri": "https://localhost:8080/",
          "height": 243
        },
        "id": "bS2CFvotiL0R",
        "outputId": "f57b3989-5f12-46ee-b780-3aed156b784b"
      },
      "execution_count": 19,
      "outputs": [
        {
          "output_type": "execute_result",
          "data": {
            "text/plain": [
              "                                                                                                                                                                                                       Review  \\\n",
              "1092  PINK FLOYD GIVES US HERE THE BEST OF THE BEST.nTHE DARK SIDE OF THE MOON is more than an albummore than a masterpiece it is a concept and a way of thinking we all sometimes have.This album blow my...   \n",
              "1284                                                           \"A brilliant album definitely Floyds best. Leaves The Wall for dead.nAll the songs fit together perfectly.nBEST SONG: Us & ThemnWORST SONG: -\"   \n",
              "\n",
              "     language  \\\n",
              "1092       en   \n",
              "1284       en   \n",
              "\n",
              "                                                                                                                                                                                           translated_reviews  \\\n",
              "1092  PINK FLOYD GIVES US HERE THE BEST OF THE BEST.nTHE DARK SIDE OF THE MOON is more than an albummore than a masterpiece it is a concept and a way of thinking we all sometimes have.This album blow my...   \n",
              "1284                                                           \"A brilliant album definitely Floyds best. Leaves The Wall for dead.nAll the songs fit together perfectly.nBEST SONG: Us & ThemnWORST SONG: -\"   \n",
              "\n",
              "                                                                                                                                          preprocessed_reviews  \n",
              "1092  [give, best, best, nthe, albummor, masterpiec, concept, think, album, blow, mind, beauti, power, lyric, music, wonder, nnthis, album, cost, buck, worth]  \n",
              "1284                                            [brilliant, album, definit, floyd, best, leav, wall, dead, nall, song, perfect, nbest, song, themnworst, song]  "
            ],
            "text/html": [
              "\n",
              "  <div id=\"df-b873b272-33df-4c51-8ece-7822a95ba417\">\n",
              "    <div class=\"colab-df-container\">\n",
              "      <div>\n",
              "<style scoped>\n",
              "    .dataframe tbody tr th:only-of-type {\n",
              "        vertical-align: middle;\n",
              "    }\n",
              "\n",
              "    .dataframe tbody tr th {\n",
              "        vertical-align: top;\n",
              "    }\n",
              "\n",
              "    .dataframe thead th {\n",
              "        text-align: right;\n",
              "    }\n",
              "</style>\n",
              "<table border=\"1\" class=\"dataframe\">\n",
              "  <thead>\n",
              "    <tr style=\"text-align: right;\">\n",
              "      <th></th>\n",
              "      <th>Review</th>\n",
              "      <th>language</th>\n",
              "      <th>translated_reviews</th>\n",
              "      <th>preprocessed_reviews</th>\n",
              "    </tr>\n",
              "  </thead>\n",
              "  <tbody>\n",
              "    <tr>\n",
              "      <th>1092</th>\n",
              "      <td>PINK FLOYD GIVES US HERE THE BEST OF THE BEST.nTHE DARK SIDE OF THE MOON is more than an albummore than a masterpiece it is a concept and a way of thinking we all sometimes have.This album blow my...</td>\n",
              "      <td>en</td>\n",
              "      <td>PINK FLOYD GIVES US HERE THE BEST OF THE BEST.nTHE DARK SIDE OF THE MOON is more than an albummore than a masterpiece it is a concept and a way of thinking we all sometimes have.This album blow my...</td>\n",
              "      <td>[give, best, best, nthe, albummor, masterpiec, concept, think, album, blow, mind, beauti, power, lyric, music, wonder, nnthis, album, cost, buck, worth]</td>\n",
              "    </tr>\n",
              "    <tr>\n",
              "      <th>1284</th>\n",
              "      <td>\"A brilliant album definitely Floyds best. Leaves The Wall for dead.nAll the songs fit together perfectly.nBEST SONG: Us &amp; ThemnWORST SONG: -\"</td>\n",
              "      <td>en</td>\n",
              "      <td>\"A brilliant album definitely Floyds best. Leaves The Wall for dead.nAll the songs fit together perfectly.nBEST SONG: Us &amp; ThemnWORST SONG: -\"</td>\n",
              "      <td>[brilliant, album, definit, floyd, best, leav, wall, dead, nall, song, perfect, nbest, song, themnworst, song]</td>\n",
              "    </tr>\n",
              "  </tbody>\n",
              "</table>\n",
              "</div>\n",
              "      <button class=\"colab-df-convert\" onclick=\"convertToInteractive('df-b873b272-33df-4c51-8ece-7822a95ba417')\"\n",
              "              title=\"Convert this dataframe to an interactive table.\"\n",
              "              style=\"display:none;\">\n",
              "        \n",
              "  <svg xmlns=\"http://www.w3.org/2000/svg\" height=\"24px\"viewBox=\"0 0 24 24\"\n",
              "       width=\"24px\">\n",
              "    <path d=\"M0 0h24v24H0V0z\" fill=\"none\"/>\n",
              "    <path d=\"M18.56 5.44l.94 2.06.94-2.06 2.06-.94-2.06-.94-.94-2.06-.94 2.06-2.06.94zm-11 1L8.5 8.5l.94-2.06 2.06-.94-2.06-.94L8.5 2.5l-.94 2.06-2.06.94zm10 10l.94 2.06.94-2.06 2.06-.94-2.06-.94-.94-2.06-.94 2.06-2.06.94z\"/><path d=\"M17.41 7.96l-1.37-1.37c-.4-.4-.92-.59-1.43-.59-.52 0-1.04.2-1.43.59L10.3 9.45l-7.72 7.72c-.78.78-.78 2.05 0 2.83L4 21.41c.39.39.9.59 1.41.59.51 0 1.02-.2 1.41-.59l7.78-7.78 2.81-2.81c.8-.78.8-2.07 0-2.86zM5.41 20L4 18.59l7.72-7.72 1.47 1.35L5.41 20z\"/>\n",
              "  </svg>\n",
              "      </button>\n",
              "      \n",
              "  <style>\n",
              "    .colab-df-container {\n",
              "      display:flex;\n",
              "      flex-wrap:wrap;\n",
              "      gap: 12px;\n",
              "    }\n",
              "\n",
              "    .colab-df-convert {\n",
              "      background-color: #E8F0FE;\n",
              "      border: none;\n",
              "      border-radius: 50%;\n",
              "      cursor: pointer;\n",
              "      display: none;\n",
              "      fill: #1967D2;\n",
              "      height: 32px;\n",
              "      padding: 0 0 0 0;\n",
              "      width: 32px;\n",
              "    }\n",
              "\n",
              "    .colab-df-convert:hover {\n",
              "      background-color: #E2EBFA;\n",
              "      box-shadow: 0px 1px 2px rgba(60, 64, 67, 0.3), 0px 1px 3px 1px rgba(60, 64, 67, 0.15);\n",
              "      fill: #174EA6;\n",
              "    }\n",
              "\n",
              "    [theme=dark] .colab-df-convert {\n",
              "      background-color: #3B4455;\n",
              "      fill: #D2E3FC;\n",
              "    }\n",
              "\n",
              "    [theme=dark] .colab-df-convert:hover {\n",
              "      background-color: #434B5C;\n",
              "      box-shadow: 0px 1px 3px 1px rgba(0, 0, 0, 0.15);\n",
              "      filter: drop-shadow(0px 1px 2px rgba(0, 0, 0, 0.3));\n",
              "      fill: #FFFFFF;\n",
              "    }\n",
              "  </style>\n",
              "\n",
              "      <script>\n",
              "        const buttonEl =\n",
              "          document.querySelector('#df-b873b272-33df-4c51-8ece-7822a95ba417 button.colab-df-convert');\n",
              "        buttonEl.style.display =\n",
              "          google.colab.kernel.accessAllowed ? 'block' : 'none';\n",
              "\n",
              "        async function convertToInteractive(key) {\n",
              "          const element = document.querySelector('#df-b873b272-33df-4c51-8ece-7822a95ba417');\n",
              "          const dataTable =\n",
              "            await google.colab.kernel.invokeFunction('convertToInteractive',\n",
              "                                                     [key], {});\n",
              "          if (!dataTable) return;\n",
              "\n",
              "          const docLinkHtml = 'Like what you see? Visit the ' +\n",
              "            '<a target=\"_blank\" href=https://colab.research.google.com/notebooks/data_table.ipynb>data table notebook</a>'\n",
              "            + ' to learn more about interactive tables.';\n",
              "          element.innerHTML = '';\n",
              "          dataTable['output_type'] = 'display_data';\n",
              "          await google.colab.output.renderOutput(dataTable, element);\n",
              "          const docLink = document.createElement('div');\n",
              "          docLink.innerHTML = docLinkHtml;\n",
              "          element.appendChild(docLink);\n",
              "        }\n",
              "      </script>\n",
              "    </div>\n",
              "  </div>\n",
              "  "
            ]
          },
          "metadata": {},
          "execution_count": 19
        }
      ]
    },
    {
      "cell_type": "code",
      "source": [
        "words = []\n",
        "for ls in preprocessed_reviews:\n",
        "  words+=ls\n",
        "\n",
        "most_common = [item for item in Counter(words).most_common()]\n",
        "df_frequency = pd.DataFrame(most_common, columns =['word', 'freq'])\n",
        "\n",
        "df_frequency[0:15]"
      ],
      "metadata": {
        "colab": {
          "base_uri": "https://localhost:8080/",
          "height": 520
        },
        "id": "DhJb36vC9MsC",
        "outputId": "417643d6-2df1-4c30-a9c0-8d8f4ab2ec0e"
      },
      "execution_count": 20,
      "outputs": [
        {
          "output_type": "execute_result",
          "data": {
            "text/plain": [
              "      word  freq\n",
              "0    album  3771\n",
              "1     time  1418\n",
              "2     song  1392\n",
              "3     like  1110\n",
              "4    music   883\n",
              "5    great   852\n",
              "6   listen   841\n",
              "7    sound   650\n",
              "8     best   603\n",
              "9    track   588\n",
              "10    rock   569\n",
              "11   money   547\n",
              "12  record   476\n",
              "13   think   469\n",
              "14    good   446"
            ],
            "text/html": [
              "\n",
              "  <div id=\"df-15626ff3-4cc7-47c5-9bd6-dc18cd66014f\">\n",
              "    <div class=\"colab-df-container\">\n",
              "      <div>\n",
              "<style scoped>\n",
              "    .dataframe tbody tr th:only-of-type {\n",
              "        vertical-align: middle;\n",
              "    }\n",
              "\n",
              "    .dataframe tbody tr th {\n",
              "        vertical-align: top;\n",
              "    }\n",
              "\n",
              "    .dataframe thead th {\n",
              "        text-align: right;\n",
              "    }\n",
              "</style>\n",
              "<table border=\"1\" class=\"dataframe\">\n",
              "  <thead>\n",
              "    <tr style=\"text-align: right;\">\n",
              "      <th></th>\n",
              "      <th>word</th>\n",
              "      <th>freq</th>\n",
              "    </tr>\n",
              "  </thead>\n",
              "  <tbody>\n",
              "    <tr>\n",
              "      <th>0</th>\n",
              "      <td>album</td>\n",
              "      <td>3771</td>\n",
              "    </tr>\n",
              "    <tr>\n",
              "      <th>1</th>\n",
              "      <td>time</td>\n",
              "      <td>1418</td>\n",
              "    </tr>\n",
              "    <tr>\n",
              "      <th>2</th>\n",
              "      <td>song</td>\n",
              "      <td>1392</td>\n",
              "    </tr>\n",
              "    <tr>\n",
              "      <th>3</th>\n",
              "      <td>like</td>\n",
              "      <td>1110</td>\n",
              "    </tr>\n",
              "    <tr>\n",
              "      <th>4</th>\n",
              "      <td>music</td>\n",
              "      <td>883</td>\n",
              "    </tr>\n",
              "    <tr>\n",
              "      <th>5</th>\n",
              "      <td>great</td>\n",
              "      <td>852</td>\n",
              "    </tr>\n",
              "    <tr>\n",
              "      <th>6</th>\n",
              "      <td>listen</td>\n",
              "      <td>841</td>\n",
              "    </tr>\n",
              "    <tr>\n",
              "      <th>7</th>\n",
              "      <td>sound</td>\n",
              "      <td>650</td>\n",
              "    </tr>\n",
              "    <tr>\n",
              "      <th>8</th>\n",
              "      <td>best</td>\n",
              "      <td>603</td>\n",
              "    </tr>\n",
              "    <tr>\n",
              "      <th>9</th>\n",
              "      <td>track</td>\n",
              "      <td>588</td>\n",
              "    </tr>\n",
              "    <tr>\n",
              "      <th>10</th>\n",
              "      <td>rock</td>\n",
              "      <td>569</td>\n",
              "    </tr>\n",
              "    <tr>\n",
              "      <th>11</th>\n",
              "      <td>money</td>\n",
              "      <td>547</td>\n",
              "    </tr>\n",
              "    <tr>\n",
              "      <th>12</th>\n",
              "      <td>record</td>\n",
              "      <td>476</td>\n",
              "    </tr>\n",
              "    <tr>\n",
              "      <th>13</th>\n",
              "      <td>think</td>\n",
              "      <td>469</td>\n",
              "    </tr>\n",
              "    <tr>\n",
              "      <th>14</th>\n",
              "      <td>good</td>\n",
              "      <td>446</td>\n",
              "    </tr>\n",
              "  </tbody>\n",
              "</table>\n",
              "</div>\n",
              "      <button class=\"colab-df-convert\" onclick=\"convertToInteractive('df-15626ff3-4cc7-47c5-9bd6-dc18cd66014f')\"\n",
              "              title=\"Convert this dataframe to an interactive table.\"\n",
              "              style=\"display:none;\">\n",
              "        \n",
              "  <svg xmlns=\"http://www.w3.org/2000/svg\" height=\"24px\"viewBox=\"0 0 24 24\"\n",
              "       width=\"24px\">\n",
              "    <path d=\"M0 0h24v24H0V0z\" fill=\"none\"/>\n",
              "    <path d=\"M18.56 5.44l.94 2.06.94-2.06 2.06-.94-2.06-.94-.94-2.06-.94 2.06-2.06.94zm-11 1L8.5 8.5l.94-2.06 2.06-.94-2.06-.94L8.5 2.5l-.94 2.06-2.06.94zm10 10l.94 2.06.94-2.06 2.06-.94-2.06-.94-.94-2.06-.94 2.06-2.06.94z\"/><path d=\"M17.41 7.96l-1.37-1.37c-.4-.4-.92-.59-1.43-.59-.52 0-1.04.2-1.43.59L10.3 9.45l-7.72 7.72c-.78.78-.78 2.05 0 2.83L4 21.41c.39.39.9.59 1.41.59.51 0 1.02-.2 1.41-.59l7.78-7.78 2.81-2.81c.8-.78.8-2.07 0-2.86zM5.41 20L4 18.59l7.72-7.72 1.47 1.35L5.41 20z\"/>\n",
              "  </svg>\n",
              "      </button>\n",
              "      \n",
              "  <style>\n",
              "    .colab-df-container {\n",
              "      display:flex;\n",
              "      flex-wrap:wrap;\n",
              "      gap: 12px;\n",
              "    }\n",
              "\n",
              "    .colab-df-convert {\n",
              "      background-color: #E8F0FE;\n",
              "      border: none;\n",
              "      border-radius: 50%;\n",
              "      cursor: pointer;\n",
              "      display: none;\n",
              "      fill: #1967D2;\n",
              "      height: 32px;\n",
              "      padding: 0 0 0 0;\n",
              "      width: 32px;\n",
              "    }\n",
              "\n",
              "    .colab-df-convert:hover {\n",
              "      background-color: #E2EBFA;\n",
              "      box-shadow: 0px 1px 2px rgba(60, 64, 67, 0.3), 0px 1px 3px 1px rgba(60, 64, 67, 0.15);\n",
              "      fill: #174EA6;\n",
              "    }\n",
              "\n",
              "    [theme=dark] .colab-df-convert {\n",
              "      background-color: #3B4455;\n",
              "      fill: #D2E3FC;\n",
              "    }\n",
              "\n",
              "    [theme=dark] .colab-df-convert:hover {\n",
              "      background-color: #434B5C;\n",
              "      box-shadow: 0px 1px 3px 1px rgba(0, 0, 0, 0.15);\n",
              "      filter: drop-shadow(0px 1px 2px rgba(0, 0, 0, 0.3));\n",
              "      fill: #FFFFFF;\n",
              "    }\n",
              "  </style>\n",
              "\n",
              "      <script>\n",
              "        const buttonEl =\n",
              "          document.querySelector('#df-15626ff3-4cc7-47c5-9bd6-dc18cd66014f button.colab-df-convert');\n",
              "        buttonEl.style.display =\n",
              "          google.colab.kernel.accessAllowed ? 'block' : 'none';\n",
              "\n",
              "        async function convertToInteractive(key) {\n",
              "          const element = document.querySelector('#df-15626ff3-4cc7-47c5-9bd6-dc18cd66014f');\n",
              "          const dataTable =\n",
              "            await google.colab.kernel.invokeFunction('convertToInteractive',\n",
              "                                                     [key], {});\n",
              "          if (!dataTable) return;\n",
              "\n",
              "          const docLinkHtml = 'Like what you see? Visit the ' +\n",
              "            '<a target=\"_blank\" href=https://colab.research.google.com/notebooks/data_table.ipynb>data table notebook</a>'\n",
              "            + ' to learn more about interactive tables.';\n",
              "          element.innerHTML = '';\n",
              "          dataTable['output_type'] = 'display_data';\n",
              "          await google.colab.output.renderOutput(dataTable, element);\n",
              "          const docLink = document.createElement('div');\n",
              "          docLink.innerHTML = docLinkHtml;\n",
              "          element.appendChild(docLink);\n",
              "        }\n",
              "      </script>\n",
              "    </div>\n",
              "  </div>\n",
              "  "
            ]
          },
          "metadata": {},
          "execution_count": 20
        }
      ]
    },
    {
      "cell_type": "code",
      "source": [
        "import matplotlib.pyplot as plt\n",
        "import seaborn as sns\n",
        "sns.set_style(\"darkgrid\")\n",
        "sns.barplot( x='freq', y='word', data=df_frequency[0:15] ,color='cornflowerblue', linewidth=0)"
      ],
      "metadata": {
        "colab": {
          "base_uri": "https://localhost:8080/",
          "height": 411
        },
        "id": "TudNwi_hFcfC",
        "outputId": "576bec45-e25f-4f26-b0ce-acb80e7d7647"
      },
      "execution_count": 46,
      "outputs": [
        {
          "output_type": "execute_result",
          "data": {
            "text/plain": [
              "<matplotlib.axes._subplots.AxesSubplot at 0x7f454a5dc5d0>"
            ]
          },
          "metadata": {},
          "execution_count": 46
        },
        {
          "output_type": "display_data",
          "data": {
            "text/plain": [
              "<Figure size 576x432 with 1 Axes>"
            ],
            "image/png": "[encoded data removed]"
          },
          "metadata": {}
        }
      ]
    },
    {
      "cell_type": "markdown",
      "source": [
        "# Reviews readability, sentiment and complexity analysis"
      ],
      "metadata": {
        "id": "ggH3Dj-g_s7E"
      }
    },
    {
      "cell_type": "markdown",
      "source": [
        "Textblob library is used for sentiment analysis.\n",
        "The sentiment property returns a named tuple of the form Sentiment (polarity, subjectivity). The polarity score is a float within the range [-1.0, 1.0]. The subjectivity is a float within the range [0.0, 1.0] where 0.0 is very objective and 1.0 is very subjective."
      ],
      "metadata": {
        "id": "4zNa5PHP_6HM"
      }
    },
    {
      "cell_type": "code",
      "source": [
        "from textblob import TextBlob\n",
        "\n",
        "def get_polarity(text):\n",
        "    text_blob = TextBlob(text)\n",
        "    return text_blob.sentiment.polarity\n",
        "\n",
        "def get_subjectivity(text):\n",
        "    text_blob = TextBlob(text)\n",
        "    return text_blob.sentiment.subjectivity"
      ],
      "metadata": {
        "id": "e7A41qaY_ruj"
      },
      "execution_count": 22,
      "outputs": []
    },
    {
      "cell_type": "markdown",
      "source": [
        "Textstat library is used for readability and complexity analysis."
      ],
      "metadata": {
        "id": "DhA_hKRHAtUF"
      }
    },
    {
      "cell_type": "code",
      "source": [
        "!pip install textstat\n",
        "import textstat\n",
        "from nltk.corpus import stopwords\n",
        "\n",
        "stop_words = stopwords.words('english')\n",
        "\n",
        "\n",
        "def get_readability(text):\n",
        "    \"\"\"\n",
        "    Score\t     Understood by\n",
        "    4.9 or    lower average 4th-grade student or lower\n",
        "    5.0–5.9\t  average 5th or 6th-grade student\n",
        "    6.0–6.9\t  average 7th or 8th-grade student\n",
        "    7.0–7.9\t  average 9th or 10th-grade student\n",
        "    8.0–8.9\t  average 11th or 12th-grade student\n",
        "    9.0–9.9\t  average 13th to 15th-grade (college) student  \n",
        "    \"\"\"\n",
        "    score = textstat.dale_chall_readability_score(text)\n",
        "    return score\n",
        "\n",
        "def get_reading_ease(text):\n",
        "    \"\"\"\n",
        "    Score\t  Difficulty\n",
        "    90-10\t  Very Easy\n",
        "    80-89\t  Easy\n",
        "    70-79\t  Fairly Easy\n",
        "    60-69\t  Standard\n",
        "    50-59\t  Fairly Difficult\n",
        "    30-49\t  Difficult\n",
        "    0-29\t  Very Confusing\n",
        "    \"\"\"\n",
        "    score = textstat.flesch_reading_ease(text)\n",
        "    return score\n",
        "\n",
        "\n",
        "def get_difficult_words(text):\n",
        "    \"\"\"\n",
        "    returns number of words considered difficult in input text\n",
        "    \"\"\"\n",
        "    score = textstat.difficult_words(text)\n",
        "    return score"
      ],
      "metadata": {
        "colab": {
          "base_uri": "https://localhost:8080/"
        },
        "id": "0VHZGpS0_rw0",
        "outputId": "85e64b7f-d6d1-46af-f9d5-455d62d298a5"
      },
      "execution_count": 23,
      "outputs": [
        {
          "output_type": "stream",
          "name": "stdout",
          "text": [
            "Looking in indexes: https://pypi.org/simple, https://us-python.pkg.dev/colab-wheels/public/simple/\n",
            "Requirement already satisfied: textstat in /usr/local/lib/python3.7/dist-packages (0.7.3)\n",
            "Requirement already satisfied: pyphen in /usr/local/lib/python3.7/dist-packages (from textstat) (0.12.0)\n"
          ]
        }
      ]
    },
    {
      "cell_type": "code",
      "source": [
        "def extract_features(df,col):\n",
        "    \"\"\"\n",
        "    count: number of words in input text\n",
        "    char count: number of chars in input text\n",
        "    \"\"\"\n",
        "    \n",
        "    df['polarity'] = df[col].apply(lambda x:get_polarity(x)) \n",
        "    df['subjectivity'] = df[col].apply(lambda x:get_subjectivity(x)) \n",
        "    \n",
        "    df['readability_score'] = df[col].apply(lambda x:get_readability(x)) \n",
        "    df['reading_ease'] = df[col].apply(lambda x: get_reading_ease(x))\n",
        "    df['difficult_words'] = df[col].apply(lambda x:get_difficult_words(x)) \n",
        "    \n",
        "    \n",
        "    df['count']= df[col].apply(lambda x: len(str(x).split()))\n",
        "    df['char count']= df[col].apply(lambda x: len(x))"
      ],
      "metadata": {
        "id": "nOtgpIdH_rzM"
      },
      "execution_count": 24,
      "outputs": []
    },
    {
      "cell_type": "code",
      "source": [
        "extract_features(reviews,'translated_reviews')"
      ],
      "metadata": {
        "id": "Yzs1ez9w_r1C"
      },
      "execution_count": 25,
      "outputs": []
    },
    {
      "cell_type": "code",
      "source": [
        "reviews.sample(2)"
      ],
      "metadata": {
        "colab": {
          "base_uri": "https://localhost:8080/",
          "height": 278
        },
        "id": "d2uT223g_r45",
        "outputId": "85c62aa8-b9e5-41bc-a278-569eae2e4c0f"
      },
      "execution_count": 26,
      "outputs": [
        {
          "output_type": "execute_result",
          "data": {
            "text/plain": [
              "                                                                                                                                                                                                    Review  \\\n",
              "840                                                                                                                                                                            for me is only us and them!   \n",
              "73   its nothing special on its own but when you consider the decades of lavish praise and idolizing by people who have never heard music any more \"experimental\" than this its hard to not be harsh on it   \n",
              "\n",
              "    language  \\\n",
              "840       en   \n",
              "73        en   \n",
              "\n",
              "                                                                                                                                                                                        translated_reviews  \\\n",
              "840                                                                                                                                                                            for me is only us and them!   \n",
              "73   its nothing special on its own but when you consider the decades of lavish praise and idolizing by people who have never heard music any more \"experimental\" than this its hard to not be harsh on it   \n",
              "\n",
              "                                                                           preprocessed_reviews  \\\n",
              "840                                                                                          []   \n",
              "73   [special, consid, decad, lavish, prais, idol, peopl, hear, music, experiment, hard, harsh]   \n",
              "\n",
              "     polarity  subjectivity  readability_score  reading_ease  difficult_words  \\\n",
              "840  0.000000      1.000000               0.35        106.67                0   \n",
              "73   0.177579      0.618849               8.46         50.84                5   \n",
              "\n",
              "     count  char count  \n",
              "840      7          27  \n",
              "73      37         197  "
            ],
            "text/html": [
              "\n",
              "  <div id=\"df-b49a96ea-bac1-4b01-a28a-d1341969fd27\">\n",
              "    <div class=\"colab-df-container\">\n",
              "      <div>\n",
              "<style scoped>\n",
              "    .dataframe tbody tr th:only-of-type {\n",
              "        vertical-align: middle;\n",
              "    }\n",
              "\n",
              "    .dataframe tbody tr th {\n",
              "        vertical-align: top;\n",
              "    }\n",
              "\n",
              "    .dataframe thead th {\n",
              "        text-align: right;\n",
              "    }\n",
              "</style>\n",
              "<table border=\"1\" class=\"dataframe\">\n",
              "  <thead>\n",
              "    <tr style=\"text-align: right;\">\n",
              "      <th></th>\n",
              "      <th>Review</th>\n",
              "      <th>language</th>\n",
              "      <th>translated_reviews</th>\n",
              "      <th>preprocessed_reviews</th>\n",
              "      <th>polarity</th>\n",
              "      <th>subjectivity</th>\n",
              "      <th>readability_score</th>\n",
              "      <th>reading_ease</th>\n",
              "      <th>difficult_words</th>\n",
              "      <th>count</th>\n",
              "      <th>char count</th>\n",
              "    </tr>\n",
              "  </thead>\n",
              "  <tbody>\n",
              "    <tr>\n",
              "      <th>840</th>\n",
              "      <td>for me is only us and them!</td>\n",
              "      <td>en</td>\n",
              "      <td>for me is only us and them!</td>\n",
              "      <td>[]</td>\n",
              "      <td>0.000000</td>\n",
              "      <td>1.000000</td>\n",
              "      <td>0.35</td>\n",
              "      <td>106.67</td>\n",
              "      <td>0</td>\n",
              "      <td>7</td>\n",
              "      <td>27</td>\n",
              "    </tr>\n",
              "    <tr>\n",
              "      <th>73</th>\n",
              "      <td>its nothing special on its own but when you consider the decades of lavish praise and idolizing by people who have never heard music any more \"experimental\" than this its hard to not be harsh on it</td>\n",
              "      <td>en</td>\n",
              "      <td>its nothing special on its own but when you consider the decades of lavish praise and idolizing by people who have never heard music any more \"experimental\" than this its hard to not be harsh on it</td>\n",
              "      <td>[special, consid, decad, lavish, prais, idol, peopl, hear, music, experiment, hard, harsh]</td>\n",
              "      <td>0.177579</td>\n",
              "      <td>0.618849</td>\n",
              "      <td>8.46</td>\n",
              "      <td>50.84</td>\n",
              "      <td>5</td>\n",
              "      <td>37</td>\n",
              "      <td>197</td>\n",
              "    </tr>\n",
              "  </tbody>\n",
              "</table>\n",
              "</div>\n",
              "      <button class=\"colab-df-convert\" onclick=\"convertToInteractive('df-b49a96ea-bac1-4b01-a28a-d1341969fd27')\"\n",
              "              title=\"Convert this dataframe to an interactive table.\"\n",
              "              style=\"display:none;\">\n",
              "        \n",
              "  <svg xmlns=\"http://www.w3.org/2000/svg\" height=\"24px\"viewBox=\"0 0 24 24\"\n",
              "       width=\"24px\">\n",
              "    <path d=\"M0 0h24v24H0V0z\" fill=\"none\"/>\n",
              "    <path d=\"M18.56 5.44l.94 2.06.94-2.06 2.06-.94-2.06-.94-.94-2.06-.94 2.06-2.06.94zm-11 1L8.5 8.5l.94-2.06 2.06-.94-2.06-.94L8.5 2.5l-.94 2.06-2.06.94zm10 10l.94 2.06.94-2.06 2.06-.94-2.06-.94-.94-2.06-.94 2.06-2.06.94z\"/><path d=\"M17.41 7.96l-1.37-1.37c-.4-.4-.92-.59-1.43-.59-.52 0-1.04.2-1.43.59L10.3 9.45l-7.72 7.72c-.78.78-.78 2.05 0 2.83L4 21.41c.39.39.9.59 1.41.59.51 0 1.02-.2 1.41-.59l7.78-7.78 2.81-2.81c.8-.78.8-2.07 0-2.86zM5.41 20L4 18.59l7.72-7.72 1.47 1.35L5.41 20z\"/>\n",
              "  </svg>\n",
              "      </button>\n",
              "      \n",
              "  <style>\n",
              "    .colab-df-container {\n",
              "      display:flex;\n",
              "      flex-wrap:wrap;\n",
              "      gap: 12px;\n",
              "    }\n",
              "\n",
              "    .colab-df-convert {\n",
              "      background-color: #E8F0FE;\n",
              "      border: none;\n",
              "      border-radius: 50%;\n",
              "      cursor: pointer;\n",
              "      display: none;\n",
              "      fill: #1967D2;\n",
              "      height: 32px;\n",
              "      padding: 0 0 0 0;\n",
              "      width: 32px;\n",
              "    }\n",
              "\n",
              "    .colab-df-convert:hover {\n",
              "      background-color: #E2EBFA;\n",
              "      box-shadow: 0px 1px 2px rgba(60, 64, 67, 0.3), 0px 1px 3px 1px rgba(60, 64, 67, 0.15);\n",
              "      fill: #174EA6;\n",
              "    }\n",
              "\n",
              "    [theme=dark] .colab-df-convert {\n",
              "      background-color: #3B4455;\n",
              "      fill: #D2E3FC;\n",
              "    }\n",
              "\n",
              "    [theme=dark] .colab-df-convert:hover {\n",
              "      background-color: #434B5C;\n",
              "      box-shadow: 0px 1px 3px 1px rgba(0, 0, 0, 0.15);\n",
              "      filter: drop-shadow(0px 1px 2px rgba(0, 0, 0, 0.3));\n",
              "      fill: #FFFFFF;\n",
              "    }\n",
              "  </style>\n",
              "\n",
              "      <script>\n",
              "        const buttonEl =\n",
              "          document.querySelector('#df-b49a96ea-bac1-4b01-a28a-d1341969fd27 button.colab-df-convert');\n",
              "        buttonEl.style.display =\n",
              "          google.colab.kernel.accessAllowed ? 'block' : 'none';\n",
              "\n",
              "        async function convertToInteractive(key) {\n",
              "          const element = document.querySelector('#df-b49a96ea-bac1-4b01-a28a-d1341969fd27');\n",
              "          const dataTable =\n",
              "            await google.colab.kernel.invokeFunction('convertToInteractive',\n",
              "                                                     [key], {});\n",
              "          if (!dataTable) return;\n",
              "\n",
              "          const docLinkHtml = 'Like what you see? Visit the ' +\n",
              "            '<a target=\"_blank\" href=https://colab.research.google.com/notebooks/data_table.ipynb>data table notebook</a>'\n",
              "            + ' to learn more about interactive tables.';\n",
              "          element.innerHTML = '';\n",
              "          dataTable['output_type'] = 'display_data';\n",
              "          await google.colab.output.renderOutput(dataTable, element);\n",
              "          const docLink = document.createElement('div');\n",
              "          docLink.innerHTML = docLinkHtml;\n",
              "          element.appendChild(docLink);\n",
              "        }\n",
              "      </script>\n",
              "    </div>\n",
              "  </div>\n",
              "  "
            ]
          },
          "metadata": {},
          "execution_count": 26
        }
      ]
    },
    {
      "cell_type": "code",
      "source": [
        "reviews.insert(1, 'rating', df['Rating'])\n",
        "reviews._get_numeric_data().columns"
      ],
      "metadata": {
        "colab": {
          "base_uri": "https://localhost:8080/"
        },
        "id": "fiLhEJLz_r7v",
        "outputId": "476ca14e-2305-44a7-b26f-a17e2f490c0e"
      },
      "execution_count": 27,
      "outputs": [
        {
          "output_type": "execute_result",
          "data": {
            "text/plain": [
              "Index(['rating', 'polarity', 'subjectivity', 'readability_score',\n",
              "       'reading_ease', 'difficult_words', 'count', 'char count'],\n",
              "      dtype='object')"
            ]
          },
          "metadata": {},
          "execution_count": 27
        }
      ]
    },
    {
      "cell_type": "code",
      "source": [
        "def print_average_scores(df):\n",
        "    for col in reviews._get_numeric_data().columns:\n",
        "        print('Average '+ str(col)+':',df[col].mean())\n",
        "                \n",
        "print_average_scores(reviews)"
      ],
      "metadata": {
        "colab": {
          "base_uri": "https://localhost:8080/"
        },
        "id": "RYqIqJsk_r95",
        "outputId": "2c28601b-1792-447a-a4c7-9aeb37f238c2"
      },
      "execution_count": 28,
      "outputs": [
        {
          "output_type": "stream",
          "name": "stdout",
          "text": [
            "Average rating: 4.393574297188755\n",
            "Average polarity: 0.26532106702030545\n",
            "Average subjectivity: 0.5273205295014968\n",
            "Average readability_score: 8.820515394912984\n",
            "Average reading_ease: 71.8389625167336\n",
            "Average difficult_words: 19.859437751004016\n",
            "Average count: 137.85140562248995\n",
            "Average char count: 763.3507362784471\n"
          ]
        }
      ]
    },
    {
      "cell_type": "markdown",
      "source": [
        "# Plotting distributions"
      ],
      "metadata": {
        "id": "8tPbvyw0D_VU"
      }
    },
    {
      "cell_type": "code",
      "source": [
        "sns.set(rc={\"figure.figsize\": (8, 6)})\n",
        "sns.histplot(reviews.rating)"
      ],
      "metadata": {
        "colab": {
          "base_uri": "https://localhost:8080/",
          "height": 411
        },
        "id": "vzsZKz8l_sEt",
        "outputId": "b23806a3-d6b2-47b2-fc01-92d591d7813c"
      },
      "execution_count": 29,
      "outputs": [
        {
          "output_type": "execute_result",
          "data": {
            "text/plain": [
              "<matplotlib.axes._subplots.AxesSubplot at 0x7f4550d9e590>"
            ]
          },
          "metadata": {},
          "execution_count": 29
        },
        {
          "output_type": "display_data",
          "data": {
            "text/plain": [
              "<Figure size 576x432 with 1 Axes>"
            ],
            "image/png": "[encoded data removed]"
          },
          "metadata": {}
        }
      ]
    },
    {
      "cell_type": "code",
      "source": [
        "import seaborn as sns\n",
        "\n",
        "x1, x2 =  reviews.subjectivity, reviews.polarity\n",
        "\n",
        "# plot\n",
        "fig, (ax1, ax2) = plt.subplots(1,2)\n",
        "fig.set_figheight(6)\n",
        "fig.set_figwidth(15)\n",
        "\n",
        "\n",
        "sns.histplot(x1, kde=True, ax=ax1)\n",
        "sns.histplot(x2, kde=True, ax=ax2, color=\"y\")\n",
        "plt.tight_layout()\n"
      ],
      "metadata": {
        "colab": {
          "base_uri": "https://localhost:8080/",
          "height": 437
        },
        "id": "I5yDdCr6E6-p",
        "outputId": "204d24d1-8eca-46dc-d6c2-c141f977bc3e"
      },
      "execution_count": 30,
      "outputs": [
        {
          "output_type": "display_data",
          "data": {
            "text/plain": [
              "<Figure size 1080x432 with 2 Axes>"
            ],
            "image/png": "[encoded data removed]"
          },
          "metadata": {}
        }
      ]
    },
    {
      "cell_type": "code",
      "source": [
        "x3, x4 =  reviews.readability_score, reviews.reading_ease\n",
        "\n",
        "fig, (ax3, ax4) = plt.subplots(1,2)\n",
        "fig.set_figheight(6)\n",
        "fig.set_figwidth(15)\n",
        "\n",
        "\n",
        "sns.histplot(x3, kde=True, ax=ax3)\n",
        "sns.histplot(x4, kde=True, ax=ax4, color=\"y\")\n",
        "plt.tight_layout()"
      ],
      "metadata": {
        "colab": {
          "base_uri": "https://localhost:8080/",
          "height": 437
        },
        "id": "h4Bb6UgyE68A",
        "outputId": "594ad6cb-3edf-47bf-eec2-789b3b177d3e"
      },
      "execution_count": 31,
      "outputs": [
        {
          "output_type": "display_data",
          "data": {
            "text/plain": [
              "<Figure size 1080x432 with 2 Axes>"
            ],
            "image/png": "[encoded data removed]"
          },
          "metadata": {}
        }
      ]
    },
    {
      "cell_type": "markdown",
      "source": [
        "# Topic modeling"
      ],
      "metadata": {
        "id": "-aCH5cxdtZF1"
      }
    },
    {
      "cell_type": "markdown",
      "source": [
        "LDA Bag of Words model"
      ],
      "metadata": {
        "id": "AIK6yjTYLQ1c"
      }
    },
    {
      "cell_type": "code",
      "source": [
        "dictionary = gensim.corpora.Dictionary(preprocessed_reviews)\n",
        "i = 0\n",
        "for (idx, word) in dictionary.iteritems():\n",
        "    print(idx, word)\n",
        "    if i > 4:\n",
        "        break\n",
        "    i+= 1"
      ],
      "metadata": {
        "colab": {
          "base_uri": "https://localhost:8080/"
        },
        "id": "ODkbM-vbtqrH",
        "outputId": "e9469011-b819-4625-aa4b-0fa4a84d08d2"
      },
      "execution_count": 32,
      "outputs": [
        {
          "output_type": "stream",
          "name": "stdout",
          "text": [
            "0 abl\n",
            "1 acclaim\n",
            "2 actual\n",
            "3 adapt\n",
            "4 album\n",
            "5 allow\n"
          ]
        }
      ]
    },
    {
      "cell_type": "code",
      "source": [
        "dictionary.filter_extremes(no_below=15, no_above=0.5, keep_n=100000)"
      ],
      "metadata": {
        "id": "QGczPe3ftqpM"
      },
      "execution_count": 33,
      "outputs": []
    },
    {
      "cell_type": "code",
      "source": [
        "bow_corpus = [dictionary.doc2bow(doc) for doc in preprocessed_reviews]"
      ],
      "metadata": {
        "id": "vASRH50Ctqmm"
      },
      "execution_count": 34,
      "outputs": []
    },
    {
      "cell_type": "code",
      "source": [
        "bow_doc_example = bow_corpus[218]\n",
        "for i in range(len(bow_doc_example)):\n",
        "    print(\"Word {} (\\\"{}\\\") appears {} time.\".format(bow_doc_example[i][0], \n",
        "                                               dictionary[bow_doc_example[i][0]], \n",
        "bow_doc_example[i][1]))"
      ],
      "metadata": {
        "colab": {
          "base_uri": "https://localhost:8080/"
        },
        "id": "zq6DwcpZtqkM",
        "outputId": "8e89ddb2-871a-49e0-9e08-12eec7424277"
      },
      "execution_count": 35,
      "outputs": [
        {
          "output_type": "stream",
          "name": "stdout",
          "text": [
            "Word 10 (\"come\") appears 1 time.\n",
            "Word 38 (\"listen\") appears 1 time.\n",
            "Word 63 (\"think\") appears 2 time.\n",
            "Word 108 (\"minut\") appears 1 time.\n",
            "Word 146 (\"time\") appears 1 time.\n",
            "Word 218 (\"record\") appears 1 time.\n",
            "Word 248 (\"eclips\") appears 2 time.\n",
            "Word 250 (\"entir\") appears 1 time.\n",
            "Word 256 (\"life\") appears 1 time.\n",
            "Word 555 (\"total\") appears 2 time.\n",
            "Word 632 (\"headphon\") appears 1 time.\n",
            "Word 667 (\"watch\") appears 1 time.\n"
          ]
        }
      ]
    },
    {
      "cell_type": "code",
      "source": [
        "lda_model = gensim.models.LdaMulticore(bow_corpus, num_topics=4, id2word=dictionary, passes=2, workers=2)"
      ],
      "metadata": {
        "colab": {
          "base_uri": "https://localhost:8080/"
        },
        "id": "LLEXyEbTtqe4",
        "outputId": "488deab4-369e-403d-91f8-1b882220641b"
      },
      "execution_count": 36,
      "outputs": [
        {
          "output_type": "stream",
          "name": "stderr",
          "text": [
            "WARNING:gensim.models.ldamulticore:too few updates, training might not converge; consider increasing the number of passes or iterations to improve accuracy\n"
          ]
        }
      ]
    },
    {
      "cell_type": "code",
      "source": [
        "for idx, topic in lda_model.print_topics(-1):\n",
        "    print('Topic: {} \\nWords: {}'.format(idx, topic))"
      ],
      "metadata": {
        "colab": {
          "base_uri": "https://localhost:8080/"
        },
        "id": "Qr07xRsZtqaz",
        "outputId": "3c2d0d01-4ecc-4fe9-e543-41c25b5c562c"
      },
      "execution_count": 37,
      "outputs": [
        {
          "output_type": "stream",
          "name": "stdout",
          "text": [
            "Topic: 0 \n",
            "Words: 0.039*\"time\" + 0.029*\"song\" + 0.017*\"like\" + 0.015*\"great\" + 0.014*\"money\" + 0.011*\"music\" + 0.010*\"rock\" + 0.010*\"listen\" + 0.010*\"sound\" + 0.009*\"work\"\n",
            "Topic: 1 \n",
            "Words: 0.021*\"best\" + 0.020*\"time\" + 0.019*\"music\" + 0.015*\"like\" + 0.015*\"hear\" + 0.015*\"great\" + 0.012*\"listen\" + 0.011*\"rock\" + 0.010*\"sound\" + 0.008*\"band\"\n",
            "Topic: 2 \n",
            "Words: 0.031*\"song\" + 0.026*\"like\" + 0.019*\"great\" + 0.019*\"time\" + 0.017*\"track\" + 0.016*\"sound\" + 0.015*\"music\" + 0.012*\"listen\" + 0.011*\"rock\" + 0.011*\"good\"\n",
            "Topic: 3 \n",
            "Words: 0.030*\"listen\" + 0.023*\"time\" + 0.020*\"music\" + 0.017*\"song\" + 0.016*\"record\" + 0.013*\"best\" + 0.013*\"think\" + 0.013*\"like\" + 0.011*\"dont\" + 0.009*\"year\"\n"
          ]
        }
      ]
    },
    {
      "cell_type": "code",
      "source": [
        "!pip install pyLDAvis\n",
        "import pyLDAvis.gensim_models as gensimvis\n",
        "import pickle \n",
        "import pyLDAvis\n",
        "import os\n",
        "# # Visualize the topics\n",
        "pyLDAvis.enable_notebook()\n",
        "LDAvis_prepared = gensimvis.prepare(lda_model, bow_corpus, dictionary)\n",
        "LDAvis_prepared"
      ],
      "metadata": {
        "colab": {
          "base_uri": "https://localhost:8080/",
          "height": 1000
        },
        "id": "FHdB8IPMtqYj",
        "outputId": "e04bbb02-b8bb-4330-9d81-ee448c85a21d"
      },
      "execution_count": 38,
      "outputs": [
        {
          "output_type": "stream",
          "name": "stdout",
          "text": [
            "Looking in indexes: https://pypi.org/simple, https://us-python.pkg.dev/colab-wheels/public/simple/\n",
            "Requirement already satisfied: pyLDAvis in /usr/local/lib/python3.7/dist-packages (3.3.1)\n",
            "Requirement already satisfied: setuptools in /usr/local/lib/python3.7/dist-packages (from pyLDAvis) (57.4.0)\n",
            "Requirement already satisfied: numpy>=1.20.0 in /usr/local/lib/python3.7/dist-packages (from pyLDAvis) (1.21.6)\n",
            "Requirement already satisfied: scikit-learn in /usr/local/lib/python3.7/dist-packages (from pyLDAvis) (1.0.2)\n",
            "Requirement already satisfied: gensim in /usr/local/lib/python3.7/dist-packages (from pyLDAvis) (3.6.0)\n",
            "Requirement already satisfied: future in /usr/local/lib/python3.7/dist-packages (from pyLDAvis) (0.16.0)\n",
            "Requirement already satisfied: scipy in /usr/local/lib/python3.7/dist-packages (from pyLDAvis) (1.7.3)\n",
            "Requirement already satisfied: numexpr in /usr/local/lib/python3.7/dist-packages (from pyLDAvis) (2.8.3)\n",
            "Requirement already satisfied: jinja2 in /usr/local/lib/python3.7/dist-packages (from pyLDAvis) (2.11.3)\n",
            "Requirement already satisfied: joblib in /usr/local/lib/python3.7/dist-packages (from pyLDAvis) (1.1.0)\n",
            "Requirement already satisfied: sklearn in /usr/local/lib/python3.7/dist-packages (from pyLDAvis) (0.0)\n",
            "Requirement already satisfied: pandas>=1.2.0 in /usr/local/lib/python3.7/dist-packages (from pyLDAvis) (1.3.5)\n",
            "Requirement already satisfied: funcy in /usr/local/lib/python3.7/dist-packages (from pyLDAvis) (1.17)\n",
            "Requirement already satisfied: pytz>=2017.3 in /usr/local/lib/python3.7/dist-packages (from pandas>=1.2.0->pyLDAvis) (2022.2.1)\n",
            "Requirement already satisfied: python-dateutil>=2.7.3 in /usr/local/lib/python3.7/dist-packages (from pandas>=1.2.0->pyLDAvis) (2.8.2)\n",
            "Requirement already satisfied: six>=1.5 in /usr/local/lib/python3.7/dist-packages (from python-dateutil>=2.7.3->pandas>=1.2.0->pyLDAvis) (1.15.0)\n",
            "Requirement already satisfied: smart-open>=1.2.1 in /usr/local/lib/python3.7/dist-packages (from gensim->pyLDAvis) (5.2.1)\n",
            "Requirement already satisfied: MarkupSafe>=0.23 in /usr/local/lib/python3.7/dist-packages (from jinja2->pyLDAvis) (2.0.1)\n",
            "Requirement already satisfied: packaging in /usr/local/lib/python3.7/dist-packages (from numexpr->pyLDAvis) (21.3)\n",
            "Requirement already satisfied: pyparsing!=3.0.5,>=2.0.2 in /usr/local/lib/python3.7/dist-packages (from packaging->numexpr->pyLDAvis) (3.0.9)\n",
            "Requirement already satisfied: threadpoolctl>=2.0.0 in /usr/local/lib/python3.7/dist-packages (from scikit-learn->pyLDAvis) (3.1.0)\n"
          ]
        },
        {
          "output_type": "stream",
          "name": "stderr",
          "text": [
            "/usr/local/lib/python3.7/dist-packages/past/types/oldstr.py:5: DeprecationWarning: Using or importing the ABCs from 'collections' instead of from 'collections.abc' is deprecated since Python 3.3,and in 3.9 it will stop working\n",
            "  from collections import Iterable\n",
            "/usr/local/lib/python3.7/dist-packages/pyLDAvis/_prepare.py:247: FutureWarning: In a future version of pandas all arguments of DataFrame.drop except for the argument 'labels' will be keyword-only\n",
            "  by='saliency', ascending=False).head(R).drop('saliency', 1)\n"
          ]
        },
        {
          "output_type": "execute_result",
          "data": {
            "text/plain": [
              "PreparedData(topic_coordinates=              x         y  topics  cluster       Freq\n",
              "topic                                                \n",
              "2      0.020365 -0.001314       1        1  37.874306\n",
              "0      0.023938 -0.000970       2        1  26.548205\n",
              "3     -0.024417 -0.021051       3        1  22.491926\n",
              "1     -0.019885  0.023335       4        1  13.085563, topic_info=       Term         Freq        Total Category  logprob  loglift\n",
              "8      best   602.000000   602.000000  Default  30.0000  30.0000\n",
              "38   listen   857.000000   857.000000  Default  29.0000  29.0000\n",
              "146    time  1396.000000  1396.000000  Default  28.0000  28.0000\n",
              "39    music   880.000000   880.000000  Default  27.0000  27.0000\n",
              "31     hear   421.000000   421.000000  Default  26.0000  26.0000\n",
              "..      ...          ...          ...      ...      ...      ...\n",
              "120    play    39.241072   258.763060   Topic4  -5.2254   0.1475\n",
              "218  record    48.553021   483.616840   Topic4  -5.0125  -0.2650\n",
              "256    life    39.790559   307.927536   Topic4  -5.2115  -0.0126\n",
              "133    song    60.065118  1355.763481   Topic4  -4.7997  -1.0830\n",
              "25     feel    39.319682   326.870856   Topic4  -5.2234  -0.0842\n",
              "\n",
              "[291 rows x 6 columns], token_table=      Topic      Freq     Term\n",
              "term                          \n",
              "661       1  0.243878     abil\n",
              "661       2  0.146327     abil\n",
              "661       3  0.438981     abil\n",
              "661       4  0.146327     abil\n",
              "241       1  0.344444  absolut\n",
              "...     ...       ...      ...\n",
              "290       4  0.118607    write\n",
              "65        1  0.301087     year\n",
              "65        2  0.157546     year\n",
              "65        3  0.392113     year\n",
              "65        4  0.150544     year\n",
              "\n",
              "[764 rows x 3 columns], R=30, lambda_step=0.01, plot_opts={'xlab': 'PC1', 'ylab': 'PC2'}, topic_order=[3, 1, 4, 2])"
            ],
            "text/html": [
              "\n",
              "<link rel=\"stylesheet\" type=\"text/css\" href=\"https://cdn.jsdelivr.net/gh/bmabey/pyLDAvis@3.3.1/pyLDAvis/js/ldavis.v1.0.0.css\">\n",
              "\n",
              "\n",
              "<div id=\"ldavis_el56221399355866987042727648996\"></div>\n",
              "<script type=\"text/javascript\">\n",
              "\n",
              "var ldavis_el56221399355866987042727648996_data = {\"mdsDat\": {\"x\": [0.020364571636374798, 0.023938027122873736, -0.024417397025137365, -0.019885201734111162], \"y\": [-0.001314436244324636, -0.0009697989196980443, -0.02105061119853061, 0.023334846362553292], \"topics\": [1, 2, 3, 4], \"cluster\": [1, 1, 1, 1], \"Freq\": [37.8743057758187, 26.5482053797444, 22.491925521735936, 13.085563322700972]}, \"tinfo\": {\"Term\": [\"best\", \"listen\", \"time\", \"music\", \"hear\", \"record\", \"thing\", \"go\", \"prog\", \"better\", \"think\", \"year\", \"world\", \"review\", \"know\", \"great\", \"band\", \"perfect\", \"rock\", \"money\", \"greatest\", \"absolut\", \"dont\", \"doesnt\", \"vinyl\", \"peopl\", \"play\", \"point\", \"work\", \"probabl\", \"check\", \"chorus\", \"tune\", \"notabl\", \"ntime\", \"colour\", \"track\", \"ignor\", \"melod\", \"repetit\", \"earlier\", \"vocalist\", \"nnthe\", \"damag\", \"slight\", \"past\", \"discuss\", \"bunch\", \"nnpink\", \"main\", \"blue\", \"filler\", \"overr\", \"vers\", \"relax\", \"nice\", \"power\", \"instrument\", \"nnthis\", \"credit\", \"chord\", \"second\", \"like\", \"good\", \"sound\", \"breath\", \"song\", \"great\", \"vocal\", \"think\", \"long\", \"brain\", \"progress\", \"rock\", \"eclips\", \"littl\", \"pretti\", \"feel\", \"guitar\", \"music\", \"money\", \"come\", \"solo\", \"dont\", \"gilmour\", \"time\", \"perfect\", \"listen\", \"start\", \"lyric\", \"best\", \"record\", \"hear\", \"band\", \"mad\", \"lunat\", \"everyday\", \"mason\", \"sum\", \"fine\", \"age\", \"content\", \"nick\", \"influenti\", \"arguabl\", \"purpos\", \"part\", \"crimson\", \"choic\", \"torri\", \"dick\", \"draw\", \"chill\", \"icon\", \"serious\", \"climax\", \"synth\", \"subject\", \"bass\", \"sonic\", \"death\", \"topic\", \"king\", \"clare\", \"floyd\", \"present\", \"work\", \"water\", \"time\", \"solo\", \"money\", \"say\", \"life\", \"roger\", \"wright\", \"eclips\", \"brain\", \"song\", \"guitar\", \"prog\", \"keyboard\", \"band\", \"peopl\", \"lyric\", \"mean\", \"great\", \"like\", \"speak\", \"rock\", \"breath\", \"sound\", \"know\", \"best\", \"hear\", \"damag\", \"music\", \"track\", \"listen\", \"record\", \"concept\", \"tape\", \"marvel\", \"sacd\", \"guy\", \"player\", \"sit\", \"night\", \"poster\", \"edit\", \"week\", \"brillianc\", \"chart\", \"billboard\", \"wasnt\", \"state\", \"site\", \"lie\", \"mere\", \"asid\", \"rate\", \"headphon\", \"moon_\", \"middl\", \"acclaim\", \"abil\", \"talent\", \"stun\", \"sure\", \"star\", \"surround\", \"listen\", \"greatest\", \"record\", \"probabl\", \"year\", \"hard\", \"mind\", \"think\", \"thing\", \"dont\", \"write\", \"music\", \"word\", \"better\", \"isnt\", \"best\", \"play\", \"review\", \"know\", \"come\", \"time\", \"peopl\", \"love\", \"experi\", \"floyd\", \"song\", \"say\", \"like\", \"product\", \"good\", \"lyric\", \"rock\", \"hear\", \"great\", \"feel\", \"sound\", \"band\", \"work\", \"vinyl\", \"magic\", \"wizard\", \"beatl\", \"own\", \"earli\", \"stori\", \"precis\", \"stereo\", \"watch\", \"hate\", \"heavi\", \"collect\", \"contribut\", \"prog\", \"outsid\", \"flaw\", \"absolut\", \"bell\", \"origin\", \"regular\", \"dream\", \"ring\", \"imposs\", \"number\", \"nnif\", \"rainbow\", \"soon\", \"read\", \"world\", \"buy\", \"go\", \"hear\", \"best\", \"stop\", \"doesnt\", \"brilliant\", \"review\", \"better\", \"point\", \"music\", \"perfect\", \"thing\", \"theme\", \"interest\", \"rock\", \"band\", \"great\", \"start\", \"time\", \"know\", \"like\", \"concept\", \"listen\", \"sound\", \"year\", \"good\", \"money\", \"play\", \"record\", \"life\", \"song\", \"feel\"], \"Freq\": [602.0, 857.0, 1396.0, 880.0, 421.0, 483.0, 300.0, 225.0, 124.0, 202.0, 470.0, 285.0, 146.0, 156.0, 353.0, 828.0, 380.0, 317.0, 557.0, 530.0, 235.0, 101.0, 397.0, 153.0, 52.0, 287.0, 258.0, 166.0, 307.0, 195.0, 14.824393929429208, 34.974447334464344, 41.83235766843619, 13.355831769382164, 11.321184859885026, 108.44181684041236, 361.59953967059715, 10.450758308547831, 11.047373363721425, 12.84065175965996, 14.885441019381545, 13.149013133142496, 89.0988024489585, 163.93490614907938, 20.446904298878632, 20.37354527342174, 16.951797063091487, 9.165422849619533, 10.1903668958378, 35.25506997625801, 15.913980553953525, 11.946820730286953, 74.23503146861547, 20.69454678596112, 24.51629891446949, 47.26953259821275, 39.15197948901352, 128.13089299092428, 28.0025803019217, 10.306760536515, 28.633522744365678, 54.431415966035416, 558.6403848495747, 232.5713799614285, 328.3252555736842, 170.79223137110034, 649.3819063098467, 397.842691640167, 129.63581076244125, 222.97505227603088, 73.27300416629348, 126.65384424913569, 90.15414773208757, 233.24257712271265, 100.16631792282146, 65.68611317820621, 74.45833772375715, 144.5941928701719, 135.3493552093264, 322.5126846167904, 211.14485566644382, 147.0857372304842, 116.38293657033448, 160.0260731364842, 94.79929742426653, 393.68987186095563, 130.28813683408222, 256.2142099882615, 100.97518848431625, 129.29173543387193, 153.27781474887297, 137.54331851508337, 125.72305405794006, 114.5146298589615, 27.28378222451681, 13.189438820362458, 8.369130956208256, 30.901604915769177, 9.942502760934739, 18.024154917506095, 9.794624936104432, 11.938417840482092, 17.580775624855384, 9.538035692302445, 10.476381989931564, 10.909370845934768, 42.85471705151511, 12.099834510245003, 9.73328784234656, 36.887757855968204, 10.922552974657734, 9.421426541983964, 13.676723502333218, 28.724097159780243, 9.959339938356495, 19.80734306090368, 33.051011361465235, 18.611914665192586, 29.503721976785965, 17.493902303307294, 46.63891080433097, 12.562164566941268, 14.515159965728552, 28.19550060489287, 74.98160251226892, 28.514375600778372, 133.8026303658689, 104.18155047937755, 571.9756034086613, 111.43854368992596, 208.77450676080826, 96.66869352031341, 117.94587452181183, 60.06134562392438, 45.5750279731754, 83.06475046434737, 98.33948331560633, 429.75343653522174, 111.33242492572435, 49.1244679947128, 25.79686671079381, 127.61854301098658, 100.31503627566998, 122.58867212836813, 71.21727113158991, 215.31744717605662, 249.0986169835239, 66.11300337842727, 145.27393436125874, 91.97400490648789, 142.47078600869278, 95.51147167090167, 132.19662850592712, 104.76631001971627, 79.81688901069464, 162.4467696734213, 117.16087828246093, 143.01231912679648, 101.85816647284574, 72.54668179098907, 15.91860169661438, 11.485393670349142, 13.768959212991222, 14.658586165143667, 17.921134671103506, 10.395707742770625, 13.749747466194862, 9.555779633440189, 16.841499907809474, 26.323778075591996, 11.507989627881418, 30.158401272993828, 14.827056497089274, 16.360533191675632, 17.18109479737709, 9.114383217427562, 9.545784678005287, 10.827857438034354, 9.76214786973566, 17.961323268570137, 13.943755595462598, 30.19696784365821, 18.070226819659183, 10.450575609799074, 9.46761276793683, 7.985965012576154, 9.790937020512878, 46.48574058404312, 62.57339660065072, 8.990255097937235, 371.05610101620834, 98.77486239124349, 195.66233381140552, 80.76554698492049, 112.4095934114609, 41.575125248794244, 59.34552530495816, 166.52629413390616, 109.37286724363265, 139.84539860737792, 59.00758310156529, 255.26337140683594, 50.13841646533055, 72.36843540721301, 35.92156031937171, 167.2489910225886, 84.83586191845858, 56.77596037581817, 107.34978080980778, 101.7892334966091, 287.9322934974158, 86.21654398026739, 79.67708086237643, 51.49757856758482, 55.501984610069265, 216.56302076050582, 70.30899571742421, 159.58964906507245, 52.53047822739847, 87.36583245797038, 79.54519884158391, 96.66544500433993, 83.48019790460953, 108.59473820947079, 73.23267931887595, 91.26805811176393, 76.2049565657696, 68.5930928365244, 24.811451077650776, 15.891417960347999, 17.16147429242033, 13.572057987641553, 9.471028926803717, 17.097076553134006, 16.2209866586973, 7.119004615936529, 9.502119335834756, 14.694231234340005, 11.376736031524231, 5.569462044397851, 18.435901611703372, 8.737256031617335, 40.482513863469734, 5.713398415416002, 9.827142920976803, 32.2514370074243, 7.418680552352943, 21.824286480593553, 5.354606278476617, 6.3649791685623045, 7.545438332068516, 8.699346678682758, 12.865663644877035, 5.144040382533561, 4.978070277792228, 6.505562127705621, 12.57903356787946, 43.09013645056571, 16.285780216102587, 59.80556959024852, 108.02542392308602, 150.23942970825, 13.64607937346837, 37.90433131071564, 25.998093412824375, 37.445793857192264, 46.13589062318076, 38.01411053167588, 140.5068295588386, 60.274061954403365, 57.70618426306404, 31.24680985052689, 19.08866005116286, 82.41332792302146, 61.668537681467, 106.35222428866285, 44.209836258718184, 143.3536350123627, 55.05286082173463, 112.63234591334535, 42.44307745226127, 86.84867889721659, 70.49734066811415, 42.51280939280746, 51.6427059563014, 54.48349769248156, 39.24107195369715, 48.553021068851905, 39.790559237491486, 60.0651175537159, 39.319681771881584], \"Total\": [602.0, 857.0, 1396.0, 880.0, 421.0, 483.0, 300.0, 225.0, 124.0, 202.0, 470.0, 285.0, 146.0, 156.0, 353.0, 828.0, 380.0, 317.0, 557.0, 530.0, 235.0, 101.0, 397.0, 153.0, 52.0, 287.0, 258.0, 166.0, 307.0, 195.0, 21.01994590147743, 49.880500498351104, 60.139482246000604, 20.138630805268345, 17.249229463551753, 165.3246088035089, 567.538268232031, 16.4144624220587, 17.36305374816321, 20.255612426048344, 23.830835714676102, 21.29537880702121, 144.68974107942418, 274.043486307184, 34.283309696070404, 34.20146711315261, 28.53787109986709, 15.46728625779154, 17.25906068881978, 59.761831725901914, 27.00718725862278, 20.36605923339412, 127.32131534155647, 35.52709532861595, 42.19170953050783, 81.91504923068848, 67.9937496610866, 223.3989915376617, 49.254471187679954, 18.288301333710997, 51.07325006506287, 98.03334401004238, 1079.9609968115165, 437.80207346774444, 632.5614403622551, 320.3365947418348, 1355.7634811592902, 828.1071013143574, 253.40112631213543, 470.93751055994005, 140.3919834682103, 258.73266609647305, 182.61937354552117, 557.5952844113327, 211.74436988527117, 130.55557359681475, 151.16490603020065, 326.8708557428327, 303.39482501928165, 880.7296552558863, 530.5801217890191, 348.9127132497438, 263.56468247081966, 397.3749721510315, 205.83357449940226, 1396.9514037793956, 317.1048620694171, 857.1313090284829, 241.1025959434861, 368.24495438312175, 602.9628639856387, 483.6168398681865, 421.9949859053519, 380.0066671171847, 48.62378771288498, 24.0111859459512, 15.521050675024673, 59.01939599817676, 19.38160158441915, 35.890973271561066, 19.7764160565002, 24.447088069497738, 36.01653300968165, 19.6586900661311, 21.80549850301354, 22.72164375356275, 89.70138251656408, 25.546765087494528, 20.71251556999461, 78.78501520315285, 23.330325936861644, 20.197647580934813, 29.444062115539147, 62.03097765280866, 21.5671837051914, 43.16325792813505, 72.22036545085795, 40.9097448678077, 65.21076655618161, 38.701010800919605, 103.26828967814251, 28.005841141921252, 32.47786436434028, 63.20550449601056, 168.6743108357306, 64.0387838793222, 307.07370262654945, 237.98967059039649, 1396.9514037793956, 263.56468247081966, 530.5801217890191, 245.27213462374573, 307.9275356686368, 146.8495126791364, 109.23408284114146, 211.74436988527117, 258.73266609647305, 1355.7634811592902, 303.39482501928165, 124.02465287369543, 58.650492425900154, 380.0066671171847, 287.87287961901905, 368.24495438312175, 197.65142002063587, 828.1071013143574, 1079.9609968115165, 191.67282015024765, 557.5952844113327, 320.3365947418348, 632.5614403622551, 353.97852110268923, 602.9628639856387, 421.9949859053519, 274.043486307184, 880.7296552558863, 567.538268232031, 857.1313090284829, 483.6168398681865, 244.80641493429715, 27.194292706507994, 19.802138867036348, 24.054009295622336, 26.07054169865178, 32.22994285320393, 18.72358276228925, 25.00001583178564, 17.628016367716327, 31.092243064973825, 48.76999183058974, 21.683629080604813, 58.91176359270932, 29.872422186892678, 32.97588005094155, 34.91560701252405, 18.524481032939907, 19.57826596560008, 22.503405364602667, 20.463842864251767, 38.005288336231374, 29.720796840621205, 64.55127472488545, 38.85115299364357, 22.488171967064723, 20.502023927896616, 17.34467803499215, 21.50508828573429, 104.13229499053605, 140.992866842159, 20.447330272055325, 857.1313090284829, 235.88576885177775, 483.6168398681865, 195.07265444670435, 285.631600769683, 98.73673743976757, 148.2119249743198, 470.93751055994005, 300.94430139879074, 397.3749721510315, 151.76226499545902, 880.7296552558863, 127.52141145426802, 202.93930945825477, 88.24730263951237, 602.9628639856387, 258.7630596763765, 156.5645581934429, 353.97852110268923, 348.9127132497438, 1396.9514037793956, 287.87287961901905, 260.6300055375421, 151.07451501077438, 168.6743108357306, 1355.7634811592902, 245.27213462374573, 1079.9609968115165, 164.90650123053842, 437.80207346774444, 368.24495438312175, 557.5952844113327, 421.9949859053519, 828.1071013143574, 326.8708557428327, 632.5614403622551, 380.0066671171847, 307.07370262654945, 52.054504860079035, 34.35975319376662, 44.42733916027252, 35.259444901959085, 24.777193138471034, 46.83843086311968, 45.26049993931248, 19.940251011011178, 26.69545085897462, 42.276694209131406, 33.28175535172929, 16.51211253927425, 55.28489219037657, 26.649095322192412, 124.02465287369543, 17.525071767368473, 30.29569527450075, 101.61314831128148, 23.395027192999343, 69.20368312764188, 17.035664376286224, 20.491864318663033, 24.39697965052826, 28.13885428358021, 42.30622695044492, 17.04624835545081, 16.585070002727292, 21.809875649915757, 42.35391709106605, 146.3948209025816, 56.845355001329544, 225.30146621969598, 421.9949859053519, 602.9628639856387, 47.941088685669925, 153.60768422313203, 100.69158056575029, 156.5645581934429, 202.93930945825477, 166.84195124930363, 880.7296552558863, 317.1048620694171, 300.94430139879074, 143.5184157030553, 74.67110898049978, 557.5952844113327, 380.0066671171847, 828.1071013143574, 241.1025959434861, 1396.9514037793956, 353.97852110268923, 1079.9609968115165, 244.80641493429715, 857.1313090284829, 632.5614403622551, 285.631600769683, 437.80207346774444, 530.5801217890191, 258.7630596763765, 483.6168398681865, 307.9275356686368, 1355.7634811592902, 326.8708557428327], \"Category\": [\"Default\", \"Default\", \"Default\", \"Default\", \"Default\", \"Default\", \"Default\", \"Default\", \"Default\", \"Default\", \"Default\", \"Default\", \"Default\", \"Default\", \"Default\", \"Default\", \"Default\", \"Default\", \"Default\", \"Default\", \"Default\", \"Default\", \"Default\", \"Default\", \"Default\", \"Default\", \"Default\", \"Default\", \"Default\", \"Default\", \"Topic1\", \"Topic1\", \"Topic1\", \"Topic1\", \"Topic1\", \"Topic1\", \"Topic1\", \"Topic1\", \"Topic1\", \"Topic1\", \"Topic1\", \"Topic1\", \"Topic1\", \"Topic1\", \"Topic1\", \"Topic1\", \"Topic1\", \"Topic1\", \"Topic1\", \"Topic1\", \"Topic1\", \"Topic1\", \"Topic1\", \"Topic1\", \"Topic1\", \"Topic1\", \"Topic1\", \"Topic1\", \"Topic1\", \"Topic1\", \"Topic1\", \"Topic1\", \"Topic1\", \"Topic1\", \"Topic1\", \"Topic1\", \"Topic1\", \"Topic1\", \"Topic1\", \"Topic1\", \"Topic1\", \"Topic1\", \"Topic1\", \"Topic1\", \"Topic1\", \"Topic1\", \"Topic1\", \"Topic1\", \"Topic1\", \"Topic1\", \"Topic1\", \"Topic1\", \"Topic1\", \"Topic1\", \"Topic1\", \"Topic1\", \"Topic1\", \"Topic1\", \"Topic1\", \"Topic1\", \"Topic1\", \"Topic1\", \"Topic1\", \"Topic1\", \"Topic2\", \"Topic2\", \"Topic2\", \"Topic2\", \"Topic2\", \"Topic2\", \"Topic2\", \"Topic2\", \"Topic2\", \"Topic2\", \"Topic2\", \"Topic2\", \"Topic2\", \"Topic2\", \"Topic2\", \"Topic2\", \"Topic2\", \"Topic2\", \"Topic2\", \"Topic2\", \"Topic2\", \"Topic2\", \"Topic2\", \"Topic2\", \"Topic2\", \"Topic2\", \"Topic2\", \"Topic2\", \"Topic2\", \"Topic2\", \"Topic2\", \"Topic2\", \"Topic2\", \"Topic2\", \"Topic2\", \"Topic2\", \"Topic2\", \"Topic2\", \"Topic2\", \"Topic2\", \"Topic2\", \"Topic2\", \"Topic2\", \"Topic2\", \"Topic2\", \"Topic2\", \"Topic2\", \"Topic2\", \"Topic2\", \"Topic2\", \"Topic2\", \"Topic2\", \"Topic2\", \"Topic2\", \"Topic2\", \"Topic2\", \"Topic2\", \"Topic2\", \"Topic2\", \"Topic2\", \"Topic2\", \"Topic2\", \"Topic2\", \"Topic2\", \"Topic2\", \"Topic2\", \"Topic3\", \"Topic3\", \"Topic3\", \"Topic3\", \"Topic3\", \"Topic3\", \"Topic3\", \"Topic3\", \"Topic3\", \"Topic3\", \"Topic3\", \"Topic3\", \"Topic3\", \"Topic3\", \"Topic3\", \"Topic3\", \"Topic3\", \"Topic3\", \"Topic3\", \"Topic3\", \"Topic3\", \"Topic3\", \"Topic3\", \"Topic3\", \"Topic3\", \"Topic3\", \"Topic3\", \"Topic3\", \"Topic3\", \"Topic3\", \"Topic3\", \"Topic3\", \"Topic3\", \"Topic3\", \"Topic3\", \"Topic3\", \"Topic3\", \"Topic3\", \"Topic3\", \"Topic3\", \"Topic3\", \"Topic3\", \"Topic3\", \"Topic3\", \"Topic3\", \"Topic3\", \"Topic3\", \"Topic3\", \"Topic3\", \"Topic3\", \"Topic3\", \"Topic3\", \"Topic3\", \"Topic3\", \"Topic3\", \"Topic3\", \"Topic3\", \"Topic3\", \"Topic3\", \"Topic3\", \"Topic3\", \"Topic3\", \"Topic3\", \"Topic3\", \"Topic3\", \"Topic3\", \"Topic3\", \"Topic3\", \"Topic4\", \"Topic4\", \"Topic4\", \"Topic4\", \"Topic4\", \"Topic4\", \"Topic4\", \"Topic4\", \"Topic4\", \"Topic4\", \"Topic4\", \"Topic4\", \"Topic4\", \"Topic4\", \"Topic4\", \"Topic4\", \"Topic4\", \"Topic4\", \"Topic4\", \"Topic4\", \"Topic4\", \"Topic4\", \"Topic4\", \"Topic4\", \"Topic4\", \"Topic4\", \"Topic4\", \"Topic4\", \"Topic4\", \"Topic4\", \"Topic4\", \"Topic4\", \"Topic4\", \"Topic4\", \"Topic4\", \"Topic4\", \"Topic4\", \"Topic4\", \"Topic4\", \"Topic4\", \"Topic4\", \"Topic4\", \"Topic4\", \"Topic4\", \"Topic4\", \"Topic4\", \"Topic4\", \"Topic4\", \"Topic4\", \"Topic4\", \"Topic4\", \"Topic4\", \"Topic4\", \"Topic4\", \"Topic4\", \"Topic4\", \"Topic4\", \"Topic4\", \"Topic4\", \"Topic4\", \"Topic4\", \"Topic4\", \"Topic4\"], \"logprob\": [30.0, 29.0, 28.0, 27.0, 26.0, 25.0, 24.0, 23.0, 22.0, 21.0, 20.0, 19.0, 18.0, 17.0, 16.0, 15.0, 14.0, 13.0, 12.0, 11.0, 10.0, 9.0, 8.0, 7.0, 6.0, 5.0, 4.0, 3.0, 2.0, 1.0, -7.2616, -6.4033, -6.2242, -7.3659, -7.5312, -5.2717, -4.0673, -7.6112, -7.5557, -7.4053, -7.2575, -7.3815, -5.4681, -4.8584, -6.94, -6.9436, -7.1275, -7.7424, -7.6364, -6.3953, -7.1907, -7.4774, -5.6506, -6.928, -6.7585, -6.102, -6.2904, -5.1048, -6.6256, -7.6251, -6.6033, -5.9609, -3.6324, -4.5087, -4.1639, -4.8174, -3.4819, -3.9718, -5.0931, -4.5508, -5.6637, -5.1164, -5.4564, -4.5058, -5.351, -5.773, -5.6476, -4.9839, -5.05, -4.1817, -4.6053, -4.9669, -5.201, -4.8825, -5.4061, -3.9823, -5.0881, -4.4119, -5.343, -5.0958, -4.9256, -5.0339, -5.1238, -5.2172, -6.2963, -7.0232, -7.478, -6.1718, -7.3057, -6.7109, -7.3207, -7.1228, -6.7358, -7.3473, -7.2534, -7.2129, -5.8448, -7.1094, -7.327, -5.9947, -7.2117, -7.3596, -6.9869, -6.2448, -7.3041, -6.6165, -6.1045, -6.6788, -6.2181, -6.7407, -5.7601, -7.0719, -6.9274, -6.2634, -5.2853, -6.2522, -4.7062, -4.9564, -3.2535, -4.8891, -4.2613, -5.0313, -4.8323, -5.5072, -5.7832, -5.1829, -5.0141, -3.5394, -4.89, -5.7082, -6.3523, -4.7535, -4.9943, -4.7937, -5.3368, -4.2305, -4.0847, -5.4112, -4.6239, -5.0811, -4.6434, -5.0433, -4.7183, -4.9508, -5.2228, -4.5122, -4.839, -4.6396, -4.979, -5.3183, -6.6693, -6.9957, -6.8143, -6.7517, -6.5508, -7.0954, -6.8157, -7.1796, -6.6129, -6.1663, -6.9937, -6.0303, -6.7403, -6.6419, -6.593, -7.2269, -7.1807, -7.0546, -7.1582, -6.5485, -6.8017, -6.029, -6.5425, -7.0901, -7.1889, -7.3591, -7.1553, -5.5976, -5.3004, -7.2406, -3.5204, -4.8439, -4.1604, -5.0452, -4.7146, -5.7093, -5.3534, -4.3216, -4.742, -4.4962, -5.3591, -3.8945, -5.522, -5.155, -5.8554, -4.3173, -4.996, -5.3976, -4.7607, -4.8139, -3.774, -4.9799, -5.0588, -5.4952, -5.4203, -4.0589, -5.1839, -4.3642, -5.4754, -4.9667, -5.0604, -4.8655, -5.0122, -4.7491, -5.1431, -4.923, -5.1033, -5.2086, -5.6838, -6.1293, -6.0524, -6.2871, -6.6469, -6.0562, -6.1088, -6.9323, -6.6436, -6.2077, -6.4635, -7.1778, -5.9808, -6.7275, -5.1942, -7.1523, -6.61, -5.4216, -6.8911, -5.8121, -7.2172, -7.0443, -6.8742, -6.7319, -6.3406, -7.2573, -7.2901, -7.0225, -6.3631, -5.1318, -6.1048, -4.804, -4.2127, -3.8829, -6.2817, -5.2601, -5.6371, -5.2722, -5.0635, -5.2572, -3.9499, -4.7962, -4.8398, -5.4532, -5.946, -4.4834, -4.7733, -4.2284, -5.1062, -3.9298, -4.8868, -4.171, -5.147, -4.4309, -4.6395, -5.1453, -4.9508, -4.8972, -5.2254, -5.0125, -5.2115, -4.7997, -5.2234], \"loglift\": [30.0, 29.0, 28.0, 27.0, 26.0, 25.0, 24.0, 23.0, 22.0, 21.0, 20.0, 19.0, 18.0, 17.0, 16.0, 15.0, 14.0, 13.0, 12.0, 11.0, 10.0, 9.0, 8.0, 7.0, 6.0, 5.0, 4.0, 3.0, 2.0, 1.0, 0.6217, 0.6159, 0.6079, 0.5602, 0.5498, 0.5492, 0.5201, 0.5194, 0.5187, 0.5151, 0.5003, 0.4888, 0.4861, 0.4571, 0.4541, 0.4529, 0.45, 0.4476, 0.444, 0.4431, 0.442, 0.4375, 0.4314, 0.4305, 0.428, 0.4211, 0.4189, 0.415, 0.4062, 0.3974, 0.3922, 0.3825, 0.3117, 0.3383, 0.3151, 0.342, 0.2348, 0.2378, 0.3007, 0.2232, 0.3207, 0.2566, 0.265, 0.0993, 0.2223, 0.284, 0.2628, 0.1553, 0.1637, -0.0337, 0.0495, 0.1071, 0.1535, 0.0614, 0.1956, -0.2956, 0.0814, -0.2367, 0.1005, -0.0758, -0.3987, -0.2865, -0.24, -0.2286, 0.7484, 0.7271, 0.7086, 0.6791, 0.6587, 0.6374, 0.6236, 0.6095, 0.609, 0.603, 0.5932, 0.5925, 0.5875, 0.5789, 0.571, 0.5674, 0.5673, 0.5636, 0.5594, 0.5563, 0.5535, 0.5473, 0.5445, 0.5386, 0.5331, 0.5322, 0.5313, 0.5245, 0.5208, 0.519, 0.5155, 0.5171, 0.4955, 0.5001, 0.4333, 0.4654, 0.3935, 0.3951, 0.3666, 0.4322, 0.4521, 0.3904, 0.3588, 0.1773, 0.3237, 0.4001, 0.5049, 0.2351, 0.272, 0.2263, 0.3054, -0.0208, -0.1406, 0.2618, -0.0188, 0.0783, -0.1644, 0.0162, -0.1914, -0.0671, 0.0927, -0.3642, -0.2516, -0.4645, -0.2315, 0.11, 0.9565, 0.9473, 0.9341, 0.9162, 0.9051, 0.9036, 0.8942, 0.8797, 0.8789, 0.8754, 0.8585, 0.8224, 0.7915, 0.7911, 0.7829, 0.7828, 0.7737, 0.7605, 0.7519, 0.7425, 0.7352, 0.7323, 0.7265, 0.7257, 0.7194, 0.7164, 0.7052, 0.6855, 0.6796, 0.6703, 0.6548, 0.6215, 0.5871, 0.6102, 0.5595, 0.6271, 0.5767, 0.4524, 0.4799, 0.4477, 0.5474, 0.2536, 0.5585, 0.4609, 0.5932, 0.2096, 0.3768, 0.4777, 0.2989, 0.2601, -0.0873, 0.2864, 0.3069, 0.4158, 0.3805, -0.3422, 0.2425, -0.4201, 0.348, -0.1196, -0.0404, -0.2604, -0.1284, -0.5395, -0.0039, -0.444, -0.1147, -0.0069, 1.2927, 1.2626, 1.0825, 1.0789, 1.072, 1.0259, 1.0075, 1.0037, 1.0007, 0.9769, 0.9602, 0.9469, 0.9355, 0.9185, 0.9141, 0.9128, 0.9078, 0.8861, 0.8851, 0.8796, 0.8763, 0.8644, 0.8601, 0.8598, 0.8433, 0.8356, 0.8302, 0.824, 0.8196, 0.8106, 0.7836, 0.7073, 0.671, 0.644, 0.7771, 0.6343, 0.6796, 0.6031, 0.5523, 0.5546, 0.1982, 0.3733, 0.3821, 0.5091, 0.6697, 0.1218, 0.2152, -0.0187, 0.3374, -0.2431, 0.1727, -0.2269, 0.2814, -0.2558, -0.1605, 0.1288, -0.1038, -0.2424, 0.1475, -0.265, -0.0126, -1.083, -0.0842]}, \"token.table\": {\"Topic\": [1, 2, 3, 4, 1, 2, 3, 4, 1, 2, 3, 4, 1, 2, 3, 4, 1, 2, 3, 4, 1, 2, 3, 4, 1, 2, 3, 4, 1, 2, 3, 4, 1, 2, 3, 4, 1, 2, 3, 4, 1, 2, 3, 4, 1, 2, 3, 4, 1, 2, 3, 4, 1, 2, 3, 4, 1, 2, 3, 4, 1, 2, 3, 4, 1, 2, 3, 4, 1, 2, 3, 4, 1, 2, 3, 4, 1, 2, 3, 4, 1, 2, 3, 4, 1, 2, 3, 4, 1, 2, 3, 4, 1, 2, 3, 4, 1, 2, 3, 4, 1, 2, 3, 4, 1, 2, 3, 4, 1, 2, 3, 4, 1, 2, 3, 4, 1, 2, 3, 4, 1, 2, 3, 4, 1, 2, 3, 4, 1, 2, 3, 4, 1, 2, 3, 4, 1, 2, 3, 4, 1, 2, 3, 4, 1, 2, 3, 4, 1, 2, 3, 4, 1, 2, 3, 4, 1, 2, 3, 4, 1, 2, 3, 4, 1, 2, 3, 4, 1, 2, 3, 4, 1, 2, 3, 4, 1, 2, 3, 4, 1, 2, 3, 4, 1, 2, 3, 4, 1, 2, 3, 4, 1, 2, 3, 4, 1, 2, 3, 4, 1, 2, 3, 4, 1, 2, 3, 4, 1, 2, 3, 4, 1, 2, 3, 4, 1, 2, 3, 4, 1, 2, 3, 4, 1, 2, 3, 4, 1, 2, 3, 4, 1, 2, 3, 4, 1, 2, 3, 4, 1, 2, 3, 4, 1, 2, 3, 4, 1, 2, 3, 4, 1, 2, 3, 4, 1, 2, 3, 4, 1, 2, 3, 4, 1, 2, 3, 4, 1, 2, 3, 4, 1, 2, 3, 4, 1, 2, 3, 4, 1, 2, 3, 4, 1, 2, 3, 4, 1, 2, 3, 4, 1, 2, 3, 4, 1, 2, 3, 4, 1, 2, 3, 4, 1, 2, 3, 4, 1, 2, 3, 4, 1, 2, 3, 4, 1, 2, 3, 4, 1, 2, 3, 4, 1, 2, 3, 4, 1, 2, 3, 4, 1, 2, 3, 4, 1, 2, 3, 4, 1, 2, 3, 4, 1, 2, 3, 4, 1, 2, 3, 4, 1, 2, 3, 4, 1, 2, 3, 4, 1, 2, 3, 4, 1, 2, 3, 4, 1, 2, 3, 4, 1, 2, 3, 4, 1, 2, 3, 4, 1, 2, 3, 4, 1, 2, 3, 4, 1, 2, 3, 4, 1, 2, 3, 4, 1, 2, 3, 4, 1, 2, 3, 4, 1, 2, 3, 4, 1, 2, 3, 4, 1, 2, 3, 4, 1, 2, 3, 4, 1, 2, 3, 4, 1, 2, 3, 4, 1, 2, 3, 4, 1, 2, 3, 4, 1, 2, 3, 4, 1, 2, 3, 4, 1, 2, 3, 4, 1, 2, 3, 4, 1, 2, 3, 4, 1, 2, 3, 4, 1, 2, 3, 4, 1, 2, 3, 4, 1, 2, 3, 4, 1, 2, 3, 4, 1, 2, 3, 4, 1, 2, 3, 4, 1, 2, 3, 4, 1, 2, 3, 4, 1, 2, 3, 4, 1, 2, 3, 4, 1, 2, 3, 4, 1, 2, 3, 4, 1, 2, 3, 4, 1, 2, 3, 4, 1, 2, 3, 4, 1, 2, 3, 4, 1, 2, 3, 4, 1, 2, 3, 4, 1, 2, 3, 4, 1, 2, 3, 4, 1, 2, 3, 4, 1, 2, 3, 4, 1, 2, 3, 4, 1, 2, 3, 4, 1, 2, 3, 4, 1, 2, 3, 4, 1, 2, 3, 4, 1, 2, 3, 4, 1, 2, 3, 4, 1, 2, 3, 4, 1, 2, 3, 4, 1, 2, 3, 4, 1, 2, 3, 4, 1, 2, 3, 4, 1, 2, 3, 4, 1, 2, 3, 4, 1, 2, 3, 4, 1, 2, 3, 4, 1, 2, 3, 4, 1, 2, 3, 4, 1, 2, 3, 4, 1, 2, 3, 4, 1, 2, 3, 4, 1, 2, 3, 4, 1, 2, 3, 4, 1, 2, 3, 4, 1, 2, 3, 4, 1, 2, 3, 4, 1, 2, 3, 4, 1, 2, 3, 4, 1, 2, 3, 4, 1, 2, 3, 4, 1, 2, 3, 4, 1, 2, 3, 4, 1, 2, 3, 4, 1, 2, 3, 4, 1, 2, 3, 4, 1, 2, 3, 4, 1, 2, 3, 4, 1, 2, 3, 4, 1, 2, 3, 4, 1, 2, 3, 4, 1, 2, 3, 4, 1, 2, 3, 4, 1, 2, 3, 4, 1, 2, 3, 4, 1, 2, 3, 4, 1, 2, 3, 4, 1, 2, 3, 4, 1, 2, 3, 4, 1, 2, 3, 4, 1, 2, 3, 4, 1, 2, 3, 4, 1, 2, 3, 4, 1, 2, 3, 4, 1, 2, 3, 4], \"Freq\": [0.24387836135517427, 0.14632701681310456, 0.4389810504393137, 0.14632701681310456, 0.34444361366288034, 0.2066661681977282, 0.13777744546515214, 0.3149198753489192, 0.3112747452417173, 0.13340346224645028, 0.44467820748816755, 0.08893564149763351, 0.2022611169067341, 0.5056527922668352, 0.2528263961334176, 0.050565279226683524, 0.2292999630028635, 0.458599926005727, 0.2751599556034362, 0.045859992600572705, 0.29320006216825406, 0.14660003108412703, 0.48866677028042343, 0.048866677028042343, 0.30262626935578696, 0.33683619545687593, 0.19999649105252007, 0.16315503217442426, 0.3220327119128048, 0.46004673130400686, 0.13801401939120206, 0.09200934626080137, 0.17016717128370412, 0.34033434256740824, 0.11344478085580276, 0.39705673299530964, 0.4701853906496679, 0.08548825284539417, 0.12823237926809125, 0.2992088849588796, 0.25374697039989536, 0.2189189548548117, 0.27696564742995117, 0.24877153960774057, 0.2611618229187986, 0.15768261006418027, 0.35478587264440564, 0.22666875196725916, 0.23432984296370304, 0.1339027674078303, 0.5021353777793637, 0.1339027674078303, 0.5924348895271041, 0.22216308357266404, 0.11108154178633202, 0.07405436119088801, 0.4908541388146397, 0.37876933546326524, 0.07729986438025821, 0.05410990506618075, 0.5338135036923024, 0.2871979084192504, 0.1248686558344567, 0.0530691787296441, 0.3228241902671742, 0.04611774146673917, 0.5534128976008701, 0.09223548293347834, 0.39725267768421335, 0.19862633884210668, 0.14896975413158, 0.2582142404947387, 0.581873242015309, 0.12930516489229088, 0.12930516489229088, 0.19395774733843632, 0.22869062915863478, 0.10554952115013913, 0.3870149108838435, 0.28146538973370433, 0.16974538513454993, 0.1867199236480049, 0.5092361554036497, 0.13579630810763993, 0.7136079260292336, 0.0951477234705645, 0.04757386173528225, 0.190295446941129, 0.2717016411868656, 0.4754778720770148, 0.169813525741791, 0.0679254102967164, 0.24139993923496667, 0.48279987846993333, 0.19311995138797333, 0.09655997569398667, 0.5678119164740157, 0.25453637635042087, 0.0978986062886234, 0.0978986062886234, 0.7016770010388527, 0.14033540020777055, 0.08019165726158317, 0.08019165726158317, 0.4746422046499693, 0.44299939100663804, 0.04746422046499693, 0.03164281364333129, 0.3938534952181844, 0.463357053197864, 0.046335705319786404, 0.115839263299466, 0.16279311839856728, 0.19896936693158224, 0.3074981125306271, 0.32558623679713455, 0.6532602785611901, 0.19355860105516742, 0.048389650263791856, 0.10282800681055769, 0.4213088099623952, 0.20348928916551062, 0.29233672528002935, 0.08311534346196912, 0.33495854274083353, 0.29819480024488837, 0.19607329331170742, 0.171564131647744, 0.24542800283384708, 0.49085600566769416, 0.16361866855589804, 0.08180933427794902, 0.262673081970278, 0.18762362997877002, 0.18762362997877002, 0.33772253396178603, 0.5467976395143329, 0.27339881975716646, 0.10935952790286659, 0.10935952790286659, 0.27400729509297406, 0.4697267915879555, 0.19571949649498147, 0.03914389929899629, 0.5984451672614003, 0.2919244718348294, 0.06568300616283662, 0.04378867077522441, 0.3486065288018386, 0.4551251903801782, 0.14525272033409942, 0.05810108813363977, 0.30003867151037444, 0.47148934094487416, 0.12858800207587476, 0.08572533471724984, 0.5956996560994059, 0.10512346872342457, 0.24528809368799068, 0.03504115624114153, 0.39060545898760773, 0.1627522745781699, 0.20181282047693067, 0.24738345735881825, 0.4026423685767213, 0.15602391782347952, 0.35231207250463115, 0.0905945329297623, 0.39608573067446967, 0.4455964470087784, 0.04951071633430871, 0.04951071633430871, 0.3415989824617727, 0.24399927318698053, 0.1463995639121883, 0.2927991278243766, 0.2988998508706132, 0.23484988282691038, 0.10674994673950472, 0.36294981891431605, 0.6294365912968098, 0.2937370759385112, 0.04196243941978732, 0.04196243941978732, 0.4722675745956443, 0.39198208691438474, 0.08028548768125954, 0.05667210895147731, 0.2572989019570671, 0.06432472548926678, 0.5467601666587676, 0.12864945097853356, 0.19328588397867794, 0.5154290239431412, 0.06442862799289265, 0.1288572559857853, 0.21181600349812682, 0.2647700043726585, 0.33758175557513964, 0.17871975295154452, 0.4436002704201915, 0.2141518546856097, 0.22332979131499298, 0.11931317618198255, 0.5892156092880091, 0.14730390232200227, 0.14730390232200227, 0.0982026015480015, 0.27862158889749866, 0.5015188600154976, 0.11144863555899946, 0.11144863555899946, 0.36308788758046656, 0.16503994890021206, 0.13203195912016966, 0.3300798978004241, 0.16007179674381417, 0.4446438798439282, 0.33200076361679975, 0.0652144357104428, 0.461537920774319, 0.3206473975905795, 0.1360322292808519, 0.08259099634908866, 0.3550798019307624, 0.19085539353778477, 0.19085539353778477, 0.2663098514480718, 0.5322039664053042, 0.15075305486158833, 0.19871993595391188, 0.11877513413337262, 0.480614161342538, 0.2596282529865469, 0.13162548639783075, 0.12800276658871615, 0.22892436564891577, 0.26707842659040176, 0.4196946703563456, 0.08478680209219103, 0.44496474187198265, 0.3658598988725191, 0.12524933474915068, 0.06262466737457534, 0.1150724075731477, 0.15342987676419692, 0.5753620378657385, 0.15342987676419692, 0.21268679262174978, 0.2531985626449402, 0.42537358524349955, 0.11140736756377369, 0.27041842910284986, 0.27041842910284986, 0.12018596849015549, 0.3305114133479276, 0.23552531372350952, 0.16823236694536395, 0.47105062744701903, 0.10093942016721837, 0.29858174672307647, 0.2488181222692304, 0.19668480141282021, 0.2559272114769227, 0.42393121917927945, 0.18168480821969119, 0.12112320547979413, 0.36336961643938237, 0.2579356412783468, 0.46750834981700357, 0.20957270853865675, 0.0644839103195867, 0.6092188548655375, 0.18276565645966128, 0.12184377097310752, 0.06092188548655376, 0.24876634739477263, 0.10661414888347398, 0.31984244665042194, 0.31984244665042194, 0.25434044604092065, 0.5086808920818413, 0.2034723568327365, 0.10173617841636826, 0.5729658809960256, 0.22829109320935395, 0.12533628646788061, 0.0716207351245032, 0.30801738870660683, 0.3481935698422512, 0.08035236227128874, 0.25444914719241435, 0.28329477788260865, 0.20397224007547823, 0.40794448015095647, 0.10198612003773912, 0.34100310453945937, 0.4433040359012972, 0.17050155226972968, 0.051150465680918904, 0.24632161493918178, 0.46185302801096584, 0.21553141307178406, 0.09237060560219318, 0.2712028958733075, 0.2712028958733075, 0.302278227692124, 0.1553766590940824, 0.15323113932925106, 0.20430818577233473, 0.5107704644308368, 0.15323113932925106, 0.3279992475524725, 0.3832070416949679, 0.15912834782248667, 0.1299006920999891, 0.5176112856393843, 0.2305638821542159, 0.14815349857299012, 0.10463340836717427, 0.2986706905971778, 0.1668355810757673, 0.43283916488887875, 0.10150136750763465, 0.5055318450349963, 0.20680848205977118, 0.16085104160204425, 0.13021274796355964, 0.519972709243258, 0.16382701798075253, 0.16382701798075253, 0.15670410415550243, 0.31845911152407347, 0.2609062600438192, 0.3069485412280226, 0.11510570296050847, 0.3748253010184027, 0.5414143236932484, 0.041647255668711414, 0.041647255668711414, 0.35031029879580783, 0.33401679652623534, 0.21724669692763277, 0.10047659732903015, 0.18509458895188166, 0.555283766855645, 0.10283032719548982, 0.1645285235127837, 0.17462290739295794, 0.2619343610894369, 0.1164152715953053, 0.4656610863812212, 0.5856580862602699, 0.25099632268297284, 0.10039852907318914, 0.05019926453659457, 0.20199838143033147, 0.20199838143033147, 0.5554955489334116, 0.05049959535758287, 0.3219280658274943, 0.5252510547711748, 0.1016614944718403, 0.06777432964789352, 0.34404002760466096, 0.35921826411663127, 0.1669606016316737, 0.12648530426641946, 0.6335291106936566, 0.1151871110352103, 0.1151871110352103, 0.1151871110352103, 0.3555017505298915, 0.08887543763247288, 0.48881490697860086, 0.04443771881623644, 0.257392618479974, 0.2316533566319766, 0.4633067132639532, 0.0514785236959948, 0.24289543507540035, 0.2024128625628336, 0.3980786297069061, 0.15518319463150576, 0.39767792145801956, 0.3939084624868535, 0.10554485119264974, 0.10177539222148367, 0.2323734126696848, 0.2013902909803935, 0.4647468253393696, 0.09294936506787392, 0.36674136958196996, 0.18393839588940908, 0.2895326601962921, 0.1600945297555968, 0.5737651437849838, 0.15870099721712316, 0.18311653525052674, 0.08545438311691247, 0.30541529349987895, 0.4997704802725292, 0.13882513340903588, 0.05553005336361436, 0.15999989867663608, 0.07999994933831804, 0.5599996453682262, 0.2399998480149541, 0.17599180402887313, 0.23465573870516418, 0.2933196733814552, 0.2933196733814552, 0.5794058077840751, 0.23176232311363004, 0.05794058077840751, 0.11588116155681502, 0.6151092630067355, 0.1658721608108051, 0.15896082077702156, 0.055290720270268365, 0.568476309354909, 0.2436327040092467, 0.12181635200462335, 0.08121090133641556, 0.6455255139092747, 0.14896742628675572, 0.0496558087622519, 0.0993116175245038, 0.6377096451318824, 0.23189441641159364, 0.05797360410289841, 0.05797360410289841, 0.1890974586169251, 0.1890974586169251, 0.3309205525796189, 0.3072833702525033, 0.2312015672704731, 0.15895107749845028, 0.30345205704249595, 0.31790215499690055, 0.22824442907263662, 0.3423666436089549, 0.11412221453631831, 0.3423666436089549, 0.5812066879884573, 0.21206189967146416, 0.10210387761959386, 0.10210387761959386, 0.28251787685874896, 0.161438786776428, 0.201798483470535, 0.363237270246963, 0.35673920626687045, 0.47936830842110717, 0.07803670137087791, 0.07803670137087791, 0.5847702361372897, 0.11695404722745795, 0.2046695826480514, 0.08771553542059346, 0.22579410775347528, 0.34737555038996193, 0.29874297333536726, 0.1250551981403863, 0.4099590247580052, 0.20813304333867957, 0.19236538854029478, 0.18921185758061781, 0.3014340613283486, 0.2164141978767631, 0.328485836062944, 0.1507170306641743, 0.2171893394872756, 0.06205409699636445, 0.5584868729672801, 0.15513524249091112, 0.3236596047675712, 0.23974785538338608, 0.2157730698450475, 0.22776046261421679, 0.22691152064764003, 0.11345576032382002, 0.5672788016191, 0.11345576032382002, 0.5735821335695512, 0.1323651077468195, 0.14707234194091057, 0.14707234194091057, 0.20059928020921933, 0.20059928020921933, 0.25074910026152414, 0.3510487403661338, 0.34354181430830844, 0.45285057340640655, 0.10930875909809813, 0.09369322208408411, 0.4895316111612296, 0.21168934536701822, 0.21830463740973752, 0.07938350451263183, 0.2563147568879802, 0.2255569860614226, 0.41522990615852795, 0.10765219789295169, 0.34565041144323533, 0.2546897768529102, 0.32139424221914864, 0.08489659228430342, 0.16932117537459296, 0.39508274254071696, 0.10481787046998613, 0.32251652452303425, 0.49282832512600794, 0.23546242200464823, 0.18070371921286957, 0.09308979474602372, 0.22005450196427806, 0.4841199043214117, 0.22005450196427806, 0.08802180078571122, 0.30147596598493626, 0.24118077278794903, 0.12059038639397451, 0.30147596598493626, 0.07893638310171762, 0.3946819155085881, 0.47361829861030574, 0.052624255401145084, 0.283326804795848, 0.09444226826528265, 0.33054793892848927, 0.30693737186216863, 0.28534986506593313, 0.21091076983134185, 0.4052795184994412, 0.1013198796248603, 0.17610114485326578, 0.17610114485326578, 0.2935019080887763, 0.2935019080887763, 0.5925334687356788, 0.28441606499312583, 0.07110401624828146, 0.07110401624828146, 0.6417974300931153, 0.19747613233634317, 0.09873806616817159, 0.049369033084085794, 0.3001956543825792, 0.1021942653217291, 0.3640670702086599, 0.23632423855649853, 0.28692076233495695, 0.2459320820013917, 0.12296604100069584, 0.32790944266852223, 0.41786580072316054, 0.2600452407933832, 0.1739612990135046, 0.14706006720729256, 0.3200555394602784, 0.40858153973652567, 0.1225744619209577, 0.14981323123672607, 0.16629244425909373, 0.04157311106477343, 0.5820235549068281, 0.24943866638864062, 0.2242407197392053, 0.395479087540053, 0.2853972796680795, 0.0937733918909404, 0.5508329899923471, 0.15300916388676308, 0.21421282944146833, 0.08160488740627365, 0.1854669601129779, 0.4636674002824447, 0.1391002200847334, 0.1854669601129779, 0.1602257451518431, 0.10681716343456207, 0.5340858171728103, 0.1602257451518431, 0.2159304756169563, 0.10796523780847815, 0.48584357013815166, 0.16194785671271722, 0.583374247623835, 0.08750613714357525, 0.20418098666834225, 0.116674849524767, 0.440119665929986, 0.4211489906743832, 0.07208856597129082, 0.06450029586904968, 0.47869706554203034, 0.3171644656133637, 0.16005741636767426, 0.04425550682977168, 0.3100694207117417, 0.43926501267496737, 0.07751735517793543, 0.15503471035587085, 0.32095552090078233, 0.13755236610033528, 0.2292539435005588, 0.32095552090078233, 0.5185267059784122, 0.22448412271016627, 0.14385954342693755, 0.11066118725149042, 0.43824679959398755, 0.3443367711095617, 0.10956169989849689, 0.10956169989849689, 0.23405439394989663, 0.18440649220294886, 0.4468311157225299, 0.1418511478484222, 0.41890880355213667, 0.24470910306510954, 0.15346164090523817, 0.1824949243197427, 0.2577643859026064, 0.2004834112575828, 0.48688828448270105, 0.05728097464502365, 0.11237869762336095, 0.33713609287008284, 0.18729782937226824, 0.3745956587445365, 0.27116614070313827, 0.16687147120193124, 0.27116614070313827, 0.2920250746033797, 0.22094320684500823, 0.26513184821400987, 0.15466024479150575, 0.35350913095201314, 0.2790037371750846, 0.0930012457250282, 0.465006228625141, 0.1860024914500564, 0.29332864428208455, 0.46443702011330057, 0.14666432214104227, 0.09777621476069485, 0.30957193985575443, 0.5159532330929241, 0.1031906466185848, 0.1031906466185848, 0.30730139965616127, 0.10563485613180544, 0.44174576200573185, 0.1440475310888256, 0.19562456060421074, 0.14671842045315805, 0.4401552613594742, 0.19562456060421074, 0.40154878501318203, 0.45693482432534505, 0.0692325491402038, 0.0692325491402038, 0.4035820086067783, 0.057654572658111185, 0.4612365812648895, 0.057654572658111185, 0.18386210864029667, 0.07354484345611867, 0.5883587476489494, 0.18386210864029667, 0.37625833406444453, 0.2578066363034157, 0.1463226854695062, 0.21600015474069964, 0.2625070474264094, 0.18275807099306982, 0.3621932679680838, 0.19272669304723727, 0.473523546117308, 0.10404777470739054, 0.35461180359457595, 0.0679495671558469, 0.2820427388769924, 0.4094630625320803, 0.20616322029587258, 0.10236576563302008, 0.35706836832089456, 0.4641888788171629, 0.07141367366417892, 0.14282734732835783, 0.43155414658902513, 0.4696324536409979, 0.06346384508662134, 0.025385538034648537, 0.6378424509199806, 0.20615349933049096, 0.10924373468795248, 0.04757388446088253, 0.6983764813305003, 0.19953613752300012, 0.04988403438075003, 0.04988403438075003, 0.5910981408909376, 0.28147530518616076, 0.08444259155584823, 0.05629506103723215, 0.17289569892541928, 0.09605316606967738, 0.2497382317811612, 0.48026583034838694, 0.5130206084398697, 0.268349241337778, 0.14206724541411778, 0.07892624745228764, 0.6104610825572084, 0.14087563443627887, 0.14087563443627887, 0.0939170896241859, 0.21227636651959897, 0.15162597608542783, 0.4852031234733691, 0.15162597608542783, 0.331151719922702, 0.165575859961351, 0.165575859961351, 0.35480541420289496, 0.3529564950933195, 0.43699375582982414, 0.12605589110475696, 0.07983539769967941, 0.1845397069423944, 0.14353088317741788, 0.5331147089446949, 0.1230264712949296, 0.11254331442093346, 0.18006930307349353, 0.3151212803786137, 0.3826472690311738, 0.3058309938326416, 0.18820368851239486, 0.39209101773415594, 0.11762730532024679, 0.2474975855956904, 0.4363773219713489, 0.22470175534345574, 0.09443986818782923, 0.2868953952131195, 0.15710938309289876, 0.25957202424044146, 0.293726237956289, 0.34787677079930446, 0.42111398570442116, 0.15562908167337303, 0.08239186676825631, 0.2899271436237233, 0.21085610445361694, 0.3887659425863562, 0.11860655875515952, 0.3010871338054275, 0.15754559327028184, 0.39211347658381257, 0.15054356690271375], \"Term\": [\"abil\", \"abil\", \"abil\", \"abil\", \"absolut\", \"absolut\", \"absolut\", \"absolut\", \"acclaim\", \"acclaim\", \"acclaim\", \"acclaim\", \"age\", \"age\", \"age\", \"age\", \"arguabl\", \"arguabl\", \"arguabl\", \"arguabl\", \"asid\", \"asid\", \"asid\", \"asid\", \"band\", \"band\", \"band\", \"band\", \"bass\", \"bass\", \"bass\", \"bass\", \"beatl\", \"beatl\", \"beatl\", \"beatl\", \"bell\", \"bell\", \"bell\", \"bell\", \"best\", \"best\", \"best\", \"best\", \"better\", \"better\", \"better\", \"better\", \"billboard\", \"billboard\", \"billboard\", \"billboard\", \"blue\", \"blue\", \"blue\", \"blue\", \"brain\", \"brain\", \"brain\", \"brain\", \"breath\", \"breath\", \"breath\", \"breath\", \"brillianc\", \"brillianc\", \"brillianc\", \"brillianc\", \"brilliant\", \"brilliant\", \"brilliant\", \"brilliant\", \"bunch\", \"bunch\", \"bunch\", \"bunch\", \"buy\", \"buy\", \"buy\", \"buy\", \"chart\", \"chart\", \"chart\", \"chart\", \"check\", \"check\", \"check\", \"check\", \"chill\", \"chill\", \"chill\", \"chill\", \"choic\", \"choic\", \"choic\", \"choic\", \"chord\", \"chord\", \"chord\", \"chord\", \"chorus\", \"chorus\", \"chorus\", \"chorus\", \"clare\", \"clare\", \"clare\", \"clare\", \"climax\", \"climax\", \"climax\", \"climax\", \"collect\", \"collect\", \"collect\", \"collect\", \"colour\", \"colour\", \"colour\", \"colour\", \"come\", \"come\", \"come\", \"come\", \"concept\", \"concept\", \"concept\", \"concept\", \"content\", \"content\", \"content\", \"content\", \"contribut\", \"contribut\", \"contribut\", \"contribut\", \"credit\", \"credit\", \"credit\", \"credit\", \"crimson\", \"crimson\", \"crimson\", \"crimson\", \"damag\", \"damag\", \"damag\", \"damag\", \"death\", \"death\", \"death\", \"death\", \"dick\", \"dick\", \"dick\", \"dick\", \"discuss\", \"discuss\", \"discuss\", \"discuss\", \"doesnt\", \"doesnt\", \"doesnt\", \"doesnt\", \"dont\", \"dont\", \"dont\", \"dont\", \"draw\", \"draw\", \"draw\", \"draw\", \"dream\", \"dream\", \"dream\", \"dream\", \"earli\", \"earli\", \"earli\", \"earli\", \"earlier\", \"earlier\", \"earlier\", \"earlier\", \"eclips\", \"eclips\", \"eclips\", \"eclips\", \"edit\", \"edit\", \"edit\", \"edit\", \"everyday\", \"everyday\", \"everyday\", \"everyday\", \"experi\", \"experi\", \"experi\", \"experi\", \"feel\", \"feel\", \"feel\", \"feel\", \"filler\", \"filler\", \"filler\", \"filler\", \"fine\", \"fine\", \"fine\", \"fine\", \"flaw\", \"flaw\", \"flaw\", \"flaw\", \"floyd\", \"floyd\", \"floyd\", \"floyd\", \"gilmour\", \"gilmour\", \"gilmour\", \"gilmour\", \"go\", \"go\", \"go\", \"go\", \"good\", \"good\", \"good\", \"good\", \"great\", \"great\", \"great\", \"great\", \"greatest\", \"greatest\", \"greatest\", \"greatest\", \"guitar\", \"guitar\", \"guitar\", \"guitar\", \"guy\", \"guy\", \"guy\", \"guy\", \"hard\", \"hard\", \"hard\", \"hard\", \"hate\", \"hate\", \"hate\", \"hate\", \"headphon\", \"headphon\", \"headphon\", \"headphon\", \"hear\", \"hear\", \"hear\", \"hear\", \"heavi\", \"heavi\", \"heavi\", \"heavi\", \"icon\", \"icon\", \"icon\", \"icon\", \"ignor\", \"ignor\", \"ignor\", \"ignor\", \"imposs\", \"imposs\", \"imposs\", \"imposs\", \"influenti\", \"influenti\", \"influenti\", \"influenti\", \"instrument\", \"instrument\", \"instrument\", \"instrument\", \"interest\", \"interest\", \"interest\", \"interest\", \"isnt\", \"isnt\", \"isnt\", \"isnt\", \"keyboard\", \"keyboard\", \"keyboard\", \"keyboard\", \"king\", \"king\", \"king\", \"king\", \"know\", \"know\", \"know\", \"know\", \"lie\", \"lie\", \"lie\", \"lie\", \"life\", \"life\", \"life\", \"life\", \"like\", \"like\", \"like\", \"like\", \"listen\", \"listen\", \"listen\", \"listen\", \"littl\", \"littl\", \"littl\", \"littl\", \"long\", \"long\", \"long\", \"long\", \"love\", \"love\", \"love\", \"love\", \"lunat\", \"lunat\", \"lunat\", \"lunat\", \"lyric\", \"lyric\", \"lyric\", \"lyric\", \"mad\", \"mad\", \"mad\", \"mad\", \"magic\", \"magic\", \"magic\", \"magic\", \"main\", \"main\", \"main\", \"main\", \"marvel\", \"marvel\", \"marvel\", \"marvel\", \"mason\", \"mason\", \"mason\", \"mason\", \"mean\", \"mean\", \"mean\", \"mean\", \"melod\", \"melod\", \"melod\", \"melod\", \"mere\", \"mere\", \"mere\", \"mere\", \"middl\", \"middl\", \"middl\", \"middl\", \"mind\", \"mind\", \"mind\", \"mind\", \"money\", \"money\", \"money\", \"money\", \"moon_\", \"moon_\", \"moon_\", \"moon_\", \"music\", \"music\", \"music\", \"music\", \"nice\", \"nice\", \"nice\", \"nice\", \"nick\", \"nick\", \"nick\", \"nick\", \"night\", \"night\", \"night\", \"night\", \"nnif\", \"nnif\", \"nnif\", \"nnif\", \"nnpink\", \"nnpink\", \"nnpink\", \"nnpink\", \"nnthe\", \"nnthe\", \"nnthe\", \"nnthe\", \"nnthis\", \"nnthis\", \"nnthis\", \"nnthis\", \"notabl\", \"notabl\", \"notabl\", \"notabl\", \"ntime\", \"ntime\", \"ntime\", \"ntime\", \"number\", \"number\", \"number\", \"number\", \"origin\", \"origin\", \"origin\", \"origin\", \"outsid\", \"outsid\", \"outsid\", \"outsid\", \"overr\", \"overr\", \"overr\", \"overr\", \"own\", \"own\", \"own\", \"own\", \"part\", \"part\", \"part\", \"part\", \"past\", \"past\", \"past\", \"past\", \"peopl\", \"peopl\", \"peopl\", \"peopl\", \"perfect\", \"perfect\", \"perfect\", \"perfect\", \"play\", \"play\", \"play\", \"play\", \"player\", \"player\", \"player\", \"player\", \"point\", \"point\", \"point\", \"point\", \"poster\", \"poster\", \"poster\", \"poster\", \"power\", \"power\", \"power\", \"power\", \"precis\", \"precis\", \"precis\", \"precis\", \"present\", \"present\", \"present\", \"present\", \"pretti\", \"pretti\", \"pretti\", \"pretti\", \"probabl\", \"probabl\", \"probabl\", \"probabl\", \"product\", \"product\", \"product\", \"product\", \"prog\", \"prog\", \"prog\", \"prog\", \"progress\", \"progress\", \"progress\", \"progress\", \"purpos\", \"purpos\", \"purpos\", \"purpos\", \"rainbow\", \"rainbow\", \"rainbow\", \"rainbow\", \"rate\", \"rate\", \"rate\", \"rate\", \"read\", \"read\", \"read\", \"read\", \"record\", \"record\", \"record\", \"record\", \"regular\", \"regular\", \"regular\", \"regular\", \"relax\", \"relax\", \"relax\", \"relax\", \"repetit\", \"repetit\", \"repetit\", \"repetit\", \"review\", \"review\", \"review\", \"review\", \"ring\", \"ring\", \"ring\", \"ring\", \"rock\", \"rock\", \"rock\", \"rock\", \"roger\", \"roger\", \"roger\", \"roger\", \"sacd\", \"sacd\", \"sacd\", \"sacd\", \"say\", \"say\", \"say\", \"say\", \"second\", \"second\", \"second\", \"second\", \"serious\", \"serious\", \"serious\", \"serious\", \"sit\", \"sit\", \"sit\", \"sit\", \"site\", \"site\", \"site\", \"site\", \"slight\", \"slight\", \"slight\", \"slight\", \"solo\", \"solo\", \"solo\", \"solo\", \"song\", \"song\", \"song\", \"song\", \"sonic\", \"sonic\", \"sonic\", \"sonic\", \"soon\", \"soon\", \"soon\", \"soon\", \"sound\", \"sound\", \"sound\", \"sound\", \"speak\", \"speak\", \"speak\", \"speak\", \"star\", \"star\", \"star\", \"star\", \"start\", \"start\", \"start\", \"start\", \"state\", \"state\", \"state\", \"state\", \"stereo\", \"stereo\", \"stereo\", \"stereo\", \"stop\", \"stop\", \"stop\", \"stop\", \"stori\", \"stori\", \"stori\", \"stori\", \"stun\", \"stun\", \"stun\", \"stun\", \"subject\", \"subject\", \"subject\", \"subject\", \"sum\", \"sum\", \"sum\", \"sum\", \"sure\", \"sure\", \"sure\", \"sure\", \"surround\", \"surround\", \"surround\", \"surround\", \"synth\", \"synth\", \"synth\", \"synth\", \"talent\", \"talent\", \"talent\", \"talent\", \"tape\", \"tape\", \"tape\", \"tape\", \"theme\", \"theme\", \"theme\", \"theme\", \"thing\", \"thing\", \"thing\", \"thing\", \"think\", \"think\", \"think\", \"think\", \"time\", \"time\", \"time\", \"time\", \"topic\", \"topic\", \"topic\", \"topic\", \"torri\", \"torri\", \"torri\", \"torri\", \"track\", \"track\", \"track\", \"track\", \"tune\", \"tune\", \"tune\", \"tune\", \"vers\", \"vers\", \"vers\", \"vers\", \"vinyl\", \"vinyl\", \"vinyl\", \"vinyl\", \"vocal\", \"vocal\", \"vocal\", \"vocal\", \"vocalist\", \"vocalist\", \"vocalist\", \"vocalist\", \"wasnt\", \"wasnt\", \"wasnt\", \"wasnt\", \"watch\", \"watch\", \"watch\", \"watch\", \"water\", \"water\", \"water\", \"water\", \"week\", \"week\", \"week\", \"week\", \"wizard\", \"wizard\", \"wizard\", \"wizard\", \"word\", \"word\", \"word\", \"word\", \"work\", \"work\", \"work\", \"work\", \"world\", \"world\", \"world\", \"world\", \"wright\", \"wright\", \"wright\", \"wright\", \"write\", \"write\", \"write\", \"write\", \"year\", \"year\", \"year\", \"year\"]}, \"R\": 30, \"lambda.step\": 0.01, \"plot.opts\": {\"xlab\": \"PC1\", \"ylab\": \"PC2\"}, \"topic.order\": [3, 1, 4, 2]};\n",
              "\n",
              "function LDAvis_load_lib(url, callback){\n",
              "  var s = document.createElement('script');\n",
              "  s.src = url;\n",
              "  s.async = true;\n",
              "  s.onreadystatechange = s.onload = callback;\n",
              "  s.onerror = function(){console.warn(\"failed to load library \" + url);};\n",
              "  document.getElementsByTagName(\"head\")[0].appendChild(s);\n",
              "}\n",
              "\n",
              "if(typeof(LDAvis) !== \"undefined\"){\n",
              "   // already loaded: just create the visualization\n",
              "   !function(LDAvis){\n",
              "       new LDAvis(\"#\" + \"ldavis_el56221399355866987042727648996\", ldavis_el56221399355866987042727648996_data);\n",
              "   }(LDAvis);\n",
              "}else if(typeof define === \"function\" && define.amd){\n",
              "   // require.js is available: use it to load d3/LDAvis\n",
              "   require.config({paths: {d3: \"https://d3js.org/d3.v5\"}});\n",
              "   require([\"d3\"], function(d3){\n",
              "      window.d3 = d3;\n",
              "      LDAvis_load_lib(\"https://cdn.jsdelivr.net/gh/bmabey/pyLDAvis@3.3.1/pyLDAvis/js/ldavis.v3.0.0.js\", function(){\n",
              "        new LDAvis(\"#\" + \"ldavis_el56221399355866987042727648996\", ldavis_el56221399355866987042727648996_data);\n",
              "      });\n",
              "    });\n",
              "}else{\n",
              "    // require.js not available: dynamically load d3 & LDAvis\n",
              "    LDAvis_load_lib(\"https://d3js.org/d3.v5.js\", function(){\n",
              "         LDAvis_load_lib(\"https://cdn.jsdelivr.net/gh/bmabey/pyLDAvis@3.3.1/pyLDAvis/js/ldavis.v3.0.0.js\", function(){\n",
              "                 new LDAvis(\"#\" + \"ldavis_el56221399355866987042727648996\", ldavis_el56221399355866987042727648996_data);\n",
              "            })\n",
              "         });\n",
              "}\n",
              "</script>"
            ]
          },
          "metadata": {},
          "execution_count": 38
        }
      ]
    },
    {
      "cell_type": "markdown",
      "source": [
        "LDA Tf-Idf model\n"
      ],
      "metadata": {
        "id": "icxu2dA9EBYI"
      }
    },
    {
      "cell_type": "code",
      "source": [
        "from gensim import corpora, models\n",
        "tfidf = models.TfidfModel(bow_corpus)\n",
        "corpus_tfidf = tfidf[bow_corpus]\n",
        "corpus_tfidf "
      ],
      "metadata": {
        "colab": {
          "base_uri": "https://localhost:8080/"
        },
        "id": "tbsg8yghtqVm",
        "outputId": "b53c29a2-89fc-46ab-fa27-ab052cc62be1"
      },
      "execution_count": 39,
      "outputs": [
        {
          "output_type": "execute_result",
          "data": {
            "text/plain": [
              "<gensim.interfaces.TransformedCorpus at 0x7f4550c4dc90>"
            ]
          },
          "metadata": {},
          "execution_count": 39
        }
      ]
    },
    {
      "cell_type": "code",
      "source": [
        "import warnings\n",
        "warnings.filterwarnings(\"ignore\", category=DeprecationWarning) \n",
        "\n",
        "lda_model_tfidf = gensim.models.LdaMulticore(corpus_tfidf, num_topics=3, id2word=dictionary, passes=2, workers=4)\n",
        "# # Visualize the topics\n",
        "pyLDAvis.enable_notebook()\n",
        "LDAvis_prepared = gensimvis.prepare(lda_model_tfidf, corpus_tfidf, dictionary)\n",
        "LDAvis_prepared"
      ],
      "metadata": {
        "colab": {
          "base_uri": "https://localhost:8080/",
          "height": 934
        },
        "id": "tbZMmsHbn7Ja",
        "outputId": "d8e18a01-d92b-4140-cb77-95e7207b1be0"
      },
      "execution_count": 40,
      "outputs": [
        {
          "output_type": "stream",
          "name": "stderr",
          "text": [
            "WARNING:gensim.models.ldamulticore:too few updates, training might not converge; consider increasing the number of passes or iterations to improve accuracy\n",
            "/usr/local/lib/python3.7/dist-packages/pyLDAvis/_prepare.py:247: FutureWarning: In a future version of pandas all arguments of DataFrame.drop except for the argument 'labels' will be keyword-only\n",
            "  by='saliency', ascending=False).head(R).drop('saliency', 1)\n"
          ]
        },
        {
          "output_type": "execute_result",
          "data": {
            "text/plain": [
              "PreparedData(topic_coordinates=              x         y  topics  cluster       Freq\n",
              "topic                                                \n",
              "2     -0.000931 -0.024328       1        1  43.525888\n",
              "0     -0.023935  0.012861       2        1  32.515141\n",
              "1      0.024866  0.011468       3        1  23.958971, topic_info=           Term       Freq      Total Category  logprob  loglift\n",
              "333    greatest  32.000000  32.000000  Default  30.0000  30.0000\n",
              "316     classic  31.000000  31.000000  Default  29.0000  29.0000\n",
              "29        great  46.000000  46.000000  Default  28.0000  28.0000\n",
              "8          best  56.000000  56.000000  Default  27.0000  27.0000\n",
              "279  masterpiec  29.000000  29.000000  Default  26.0000  26.0000\n",
              "..          ...        ...        ...      ...      ...      ...\n",
              "162      better   5.754124  21.961250   Topic3  -5.5127   0.0895\n",
              "233       track   6.371116  32.547211   Topic3  -5.4108  -0.2021\n",
              "291      beauti   5.110377  16.561129   Topic3  -5.6313   0.2530\n",
              "203       money   5.414610  30.661255   Topic3  -5.5735  -0.3051\n",
              "55          say   5.173903  25.459089   Topic3  -5.6190  -0.1646\n",
              "\n",
              "[228 rows x 6 columns], token_table=      Topic      Freq     Term\n",
              "term                          \n",
              "0         1  0.311433      abl\n",
              "0         2  0.155716      abl\n",
              "0         3  0.467149      abl\n",
              "241       1  0.206778  absolut\n",
              "241       2  0.413555  absolut\n",
              "...     ...       ...      ...\n",
              "305       2  0.233220    worst\n",
              "305       3  0.699661    worst\n",
              "65        1  0.565259     year\n",
              "65        2  0.260889     year\n",
              "65        3  0.173926     year\n",
              "\n",
              "[449 rows x 3 columns], R=30, lambda_step=0.01, plot_opts={'xlab': 'PC1', 'ylab': 'PC2'}, topic_order=[3, 1, 2])"
            ],
            "text/html": [
              "\n",
              "<link rel=\"stylesheet\" type=\"text/css\" href=\"https://cdn.jsdelivr.net/gh/bmabey/pyLDAvis@3.3.1/pyLDAvis/js/ldavis.v1.0.0.css\">\n",
              "\n",
              "\n",
              "<div id=\"ldavis_el56221399355730316324248966681\"></div>\n",
              "<script type=\"text/javascript\">\n",
              "\n",
              "var ldavis_el56221399355730316324248966681_data = {\"mdsDat\": {\"x\": [-0.000931439253339448, -0.02393451312279956, 0.024865952376139002], \"y\": [-0.024328251593343283, 0.012860644413885994, 0.011467607179457306], \"topics\": [1, 2, 3], \"cluster\": [1, 1, 1], \"Freq\": [43.52588814396304, 32.51514093733121, 23.958970918705756]}, \"tinfo\": {\"Term\": [\"greatest\", \"classic\", \"great\", \"best\", \"masterpiec\", \"overr\", \"rock\", \"sacd\", \"human\", \"floyd\", \"record\", \"bore\", \"song\", \"nthe\", \"absolut\", \"start\", \"moon_\", \"pure\", \"ntime\", \"brilliant\", \"note\", \"good\", \"fuck\", \"finish\", \"notic\", \"time\", \"marvel\", \"flow\", \"slight\", \"peak\", \"overr\", \"test\", \"terribl\", \"sum\", \"diamond\", \"necessari\", \"stori\", \"appeal\", \"object\", \"site\", \"fulli\", \"what\", \"order\", \"turn\", \"hook\", \"live\", \"forget\", \"friend\", \"sit\", \"near\", \"rat\", \"perspect\", \"chang\", \"care\", \"detail\", \"clear\", \"mainstream\", \"night\", \"deni\", \"legendari\", \"prog\", \"today\", \"star\", \"magic\", \"understand\", \"fact\", \"special\", \"mind\", \"true\", \"amaz\", \"buy\", \"year\", \"like\", \"wall\", \"perfect\", \"feel\", \"wish\", \"doesnt\", \"play\", \"know\", \"say\", \"sound\", \"track\", \"hear\", \"music\", \"probabl\", \"band\", \"best\", \"time\", \"thing\", \"listen\", \"great\", \"rock\", \"song\", \"think\", \"good\", \"record\", \"money\", \"better\", \"love\", \"dont\", \"lyric\", \"quick\", \"marvel\", \"pace\", \"vocalist\", \"saxophon\", \"epic\", \"moon_\", \"finish\", \"outstand\", \"consist\", \"weak\", \"chord\", \"skip\", \"soul\", \"accompani\", \"carri\", \"bore\", \"dull\", \"damn\", \"post\", \"wait\", \"slow\", \"road\", \"basic\", \"stop\", \"suggest\", \"face\", \"nnbut\", \"artist\", \"start\", \"masterpiec\", \"brillianc\", \"favorit\", \"solo\", \"song\", \"vocal\", \"time\", \"need\", \"money\", \"listen\", \"love\", \"reason\", \"water\", \"want\", \"breath\", \"dont\", \"pretti\", \"best\", \"good\", \"close\", \"like\", \"music\", \"track\", \"work\", \"great\", \"perfect\", \"greatest\", \"peopl\", \"sound\", \"record\", \"hear\", \"think\", \"come\", \"rock\", \"sacd\", \"ntime\", \"pure\", \"notic\", \"nthe\", \"human\", \"worst\", \"insid\", \"slight\", \"keep\", \"grand\", \"bunch\", \"sick\", \"excit\", \"throw\", \"weird\", \"greatest\", \"abl\", \"note\", \"read\", \"combin\", \"dream\", \"solid\", \"reach\", \"arguabl\", \"expect\", \"tune\", \"massiv\", \"easi\", \"classic\", \"fuck\", \"journey\", \"floyd\", \"great\", \"absolut\", \"best\", \"rock\", \"brilliant\", \"record\", \"anim\", \"good\", \"nice\", \"music\", \"song\", \"time\", \"think\", \"dont\", \"review\", \"listen\", \"perfect\", \"masterpiec\", \"sound\", \"hear\", \"experi\", \"know\", \"like\", \"lyric\", \"better\", \"track\", \"beauti\", \"money\", \"say\"], \"Freq\": [32.0, 31.0, 46.0, 56.0, 29.0, 28.0, 35.0, 6.0, 8.0, 19.0, 33.0, 15.0, 52.0, 7.0, 14.0, 19.0, 11.0, 6.0, 5.0, 15.0, 8.0, 36.0, 9.0, 9.0, 5.0, 53.0, 5.0, 15.0, 5.0, 6.0, 22.853441908148017, 4.586914322947635, 3.608249407967875, 2.9157461704630347, 3.4817240150683113, 2.473692605372888, 3.5782360276626926, 3.838235782111572, 2.78303902427024, 2.6570757734400776, 2.509529011508022, 3.5885017551532563, 2.8247880250092594, 5.183392596915006, 2.317184140793665, 8.343474843209634, 4.096005364563016, 4.638598822869282, 2.1770694760495495, 5.563585201788512, 12.952496368087228, 2.3039692784872896, 7.704415212220226, 5.867586445772739, 2.0745085554310205, 3.9717994108564585, 2.424961613153323, 2.7938418628260417, 3.228382809305218, 3.780207882893906, 9.598093309641163, 5.428925034114258, 13.869298211801805, 4.9286840348522, 6.84821855641704, 8.962883024882354, 5.424151651778163, 9.14038119276591, 7.774635321513936, 14.095902987756556, 7.162710505350937, 13.241139432336308, 23.508137170966915, 9.250503738479463, 18.90642409614826, 12.457262474392909, 9.771004470617214, 9.989180734471311, 11.6537020998263, 13.207658202430244, 13.24267024410899, 15.609226834301198, 15.86232225369811, 14.823483709445004, 18.937357592040215, 10.513381229971408, 12.167233355985585, 21.348254645848247, 20.46772544137148, 10.581735775509047, 17.66465588378174, 17.674693618029565, 14.61871923856859, 17.945773964706948, 13.009676832103706, 13.904137750656679, 13.002026392180655, 12.39774779384362, 10.70305230691575, 11.159744485765943, 11.53573067562657, 10.870480170088234, 2.7174004989156937, 4.478598259838618, 2.151492431861725, 2.0999260220455116, 3.599765750427848, 5.28666463491903, 7.359410328139482, 6.434917335459773, 3.8572727088353407, 3.2679914559173033, 2.259952413009956, 3.3048934151969864, 3.1895434492463415, 4.2625889118890585, 1.7393604764220465, 2.3385274821479283, 9.716574089358307, 3.3971432444147966, 4.97361650941615, 2.66645858760755, 3.056801244903572, 3.148238009505357, 2.3519368528906432, 3.017755444425192, 4.505599935230452, 2.4360950107829367, 3.5296114984740834, 2.384092443278548, 4.194183345873114, 11.438879696261186, 16.139416885843154, 3.783815283315445, 11.569143957209201, 7.64788358125519, 21.04283678914987, 7.871674829444914, 20.58010412117206, 7.5513904513882135, 12.848897299582623, 17.208141999319476, 10.976986902178789, 7.03584890993185, 7.294134013305747, 6.248486958332177, 8.809320139188513, 11.016452864892937, 7.2533077612727945, 15.871147466134257, 11.56922956667279, 5.905540403535313, 12.845445886471648, 12.563372616623342, 10.313772190065693, 7.926196342771354, 11.86250596127192, 10.027266152308016, 9.280657008833058, 7.613827235487566, 8.690749229814394, 8.81981766172892, 8.32559152497764, 8.226079084502745, 7.604840044115304, 7.794496546291802, 4.598915202548684, 3.4130215877950016, 4.082224535418866, 3.0804790717689583, 4.359620250149063, 5.235308293473825, 2.51290228306051, 2.3052825444130236, 3.120328528876327, 2.957538557949323, 1.7226310239800886, 2.021183721044882, 1.9799549298858368, 2.084913303558663, 1.6686115614187402, 2.594906340209606, 16.623271169375336, 3.210685948581735, 4.149075340563485, 3.560408635467832, 2.8471861896512536, 1.9855743590570156, 2.6863864505145445, 2.6866283195376877, 2.0395136412901707, 2.343268929422429, 3.2797592262602158, 1.6167274188606082, 2.874911318704909, 15.087025377457069, 4.511422362021967, 3.0093011849790128, 8.06788207482506, 17.241192903948313, 6.004970054116922, 19.252507306418117, 12.832324003767827, 6.2292956878529315, 11.593002401627441, 4.461346675975927, 10.960429745636144, 3.7928934061204305, 11.909062299048234, 13.221266657482804, 12.550163618686055, 8.38301500132943, 8.653193158483646, 5.464202047854203, 10.256971703348228, 8.611911079777292, 7.287355962714151, 7.469854357914018, 7.277598199378299, 5.335831184353684, 6.524029278022445, 8.223807746433632, 5.996410181564185, 5.754124154312823, 6.371116261892251, 5.110377381859075, 5.414609767844808, 5.173903110453556], \"Total\": [32.0, 31.0, 46.0, 56.0, 29.0, 28.0, 35.0, 6.0, 8.0, 19.0, 33.0, 15.0, 52.0, 7.0, 14.0, 19.0, 11.0, 6.0, 5.0, 15.0, 8.0, 36.0, 9.0, 9.0, 5.0, 53.0, 5.0, 15.0, 5.0, 6.0, 28.096440042037546, 5.682263863163294, 4.616089976670127, 3.7463721688535325, 4.605915550702068, 3.294004944296007, 4.856964032904137, 5.248812086765462, 3.8072874301342297, 3.655775488549775, 3.503339324016188, 5.011035284442576, 3.9712218754776836, 7.302224086997632, 3.274090633279105, 11.927125208761964, 5.8558627295946994, 6.652509590783121, 3.137324168034906, 8.019090862381038, 18.745650087076104, 3.3386600202860164, 11.173503010827622, 8.53503582774241, 3.0267232188320365, 5.825366504725029, 3.557929459349629, 4.100795340720552, 4.745317230168985, 5.577413368582891, 14.177826423520536, 8.070861484069678, 21.343483855695776, 7.349585659735697, 10.443794466924833, 13.88764423510918, 8.197726463325552, 14.714479820114526, 12.419966916408418, 24.272958518090523, 11.345692087772704, 22.998326649651275, 44.57739080387219, 15.541099515185934, 37.545601328233566, 22.92982511375267, 17.046629506379507, 17.572565712113153, 21.370756651201326, 25.342029782219377, 25.459089439403417, 31.769830422029607, 32.547210705656056, 30.426673433800943, 43.409792507711785, 19.89905915607896, 24.708831977795747, 56.47190941840062, 53.5979931812296, 20.514940404619974, 45.12976958644944, 46.7783924832498, 35.24553978862822, 52.20987741133962, 29.61877091793588, 36.43379706296561, 33.41484645553702, 30.66125486127105, 21.96125038411489, 26.34042829055271, 31.205376699003153, 24.109386088250155, 3.568594366495469, 5.962498968770275, 3.0850454551512465, 3.0353815544546636, 5.313472272579053, 7.921469905362315, 11.123370061407392, 9.762619603862554, 5.897580591953325, 5.043235248857258, 3.497994816186818, 5.137808143230628, 5.01659747668681, 6.736698072481642, 2.753013562336702, 3.7589318171374293, 15.642481395701179, 5.473397058462886, 8.021329677088204, 4.316691719835017, 4.991667560374168, 5.180937651515669, 3.883770991664367, 5.019714695044283, 7.5747634002926505, 4.1184489389612295, 5.974484733326041, 4.055358513495419, 7.16523970452071, 19.614886999975933, 29.409664162640482, 6.554940751133332, 23.44011258370903, 15.264171108125598, 52.20987741133962, 16.028729154889533, 53.5979931812296, 15.572538389692525, 30.66125486127105, 45.12976958644944, 26.34042829055271, 14.849216913795964, 15.954315632634042, 13.236332613861514, 22.17650141023234, 31.205376699003153, 16.732782936761474, 56.47190941840062, 36.43379706296561, 12.436957029044573, 44.57739080387219, 43.409792507711785, 32.547210705656056, 21.33756196316734, 46.7783924832498, 37.545601328233566, 32.91861618175899, 20.881535984592556, 31.769830422029607, 33.41484645553702, 30.426673433800943, 29.61877091793588, 22.505440822510256, 35.24553978862822, 6.13638110537321, 5.003624096667939, 6.62327211138898, 5.104968112204274, 7.395064749459793, 8.910008712438827, 4.287792405149214, 3.980668004997663, 5.406137624639889, 5.197506068745458, 3.1690177322854085, 3.7504852998934846, 3.7773656317579727, 3.997401816275449, 3.285871087907138, 5.117607643891132, 32.91861618175899, 6.421929858568573, 8.298912411168756, 7.157222750473684, 5.7318672987523644, 4.0508286283009705, 5.501904976969213, 5.502513528580147, 4.2326233689248625, 4.877645445854324, 6.844253206123076, 3.3782746446521, 6.013555681361778, 31.591394030500602, 9.924606144615181, 6.487736594775178, 19.4627928773089, 46.7783924832498, 14.508344757029242, 56.47190941840062, 35.24553978862822, 15.204484561267762, 33.41484645553702, 10.421598456112665, 36.43379706296561, 8.790450628811111, 43.409792507711785, 52.20987741133962, 53.5979931812296, 29.61877091793588, 31.205376699003153, 15.418267996434166, 45.12976958644944, 37.545601328233566, 29.409664162640482, 31.769830422029607, 30.426673433800943, 16.154858342484825, 25.342029782219377, 44.57739080387219, 24.109386088250155, 21.96125038411489, 32.547210705656056, 16.561128645785605, 30.66125486127105, 25.459089439403417], \"Category\": [\"Default\", \"Default\", \"Default\", \"Default\", \"Default\", \"Default\", \"Default\", \"Default\", \"Default\", \"Default\", \"Default\", \"Default\", \"Default\", \"Default\", \"Default\", \"Default\", \"Default\", \"Default\", \"Default\", \"Default\", \"Default\", \"Default\", \"Default\", \"Default\", \"Default\", \"Default\", \"Default\", \"Default\", \"Default\", \"Default\", \"Topic1\", \"Topic1\", \"Topic1\", \"Topic1\", \"Topic1\", \"Topic1\", \"Topic1\", \"Topic1\", \"Topic1\", \"Topic1\", \"Topic1\", \"Topic1\", \"Topic1\", \"Topic1\", \"Topic1\", \"Topic1\", \"Topic1\", \"Topic1\", \"Topic1\", \"Topic1\", \"Topic1\", \"Topic1\", \"Topic1\", \"Topic1\", \"Topic1\", \"Topic1\", \"Topic1\", \"Topic1\", \"Topic1\", \"Topic1\", \"Topic1\", \"Topic1\", \"Topic1\", \"Topic1\", \"Topic1\", \"Topic1\", \"Topic1\", \"Topic1\", \"Topic1\", \"Topic1\", \"Topic1\", \"Topic1\", \"Topic1\", \"Topic1\", \"Topic1\", \"Topic1\", \"Topic1\", \"Topic1\", \"Topic1\", \"Topic1\", \"Topic1\", \"Topic1\", \"Topic1\", \"Topic1\", \"Topic1\", \"Topic1\", \"Topic1\", \"Topic1\", \"Topic1\", \"Topic1\", \"Topic1\", \"Topic1\", \"Topic1\", \"Topic1\", \"Topic1\", \"Topic1\", \"Topic1\", \"Topic1\", \"Topic1\", \"Topic1\", \"Topic1\", \"Topic1\", \"Topic2\", \"Topic2\", \"Topic2\", \"Topic2\", \"Topic2\", \"Topic2\", \"Topic2\", \"Topic2\", \"Topic2\", \"Topic2\", \"Topic2\", \"Topic2\", \"Topic2\", \"Topic2\", \"Topic2\", \"Topic2\", \"Topic2\", \"Topic2\", \"Topic2\", \"Topic2\", \"Topic2\", \"Topic2\", \"Topic2\", \"Topic2\", \"Topic2\", \"Topic2\", \"Topic2\", \"Topic2\", \"Topic2\", \"Topic2\", \"Topic2\", \"Topic2\", \"Topic2\", \"Topic2\", \"Topic2\", \"Topic2\", \"Topic2\", \"Topic2\", \"Topic2\", \"Topic2\", \"Topic2\", \"Topic2\", \"Topic2\", \"Topic2\", \"Topic2\", \"Topic2\", \"Topic2\", \"Topic2\", \"Topic2\", \"Topic2\", \"Topic2\", \"Topic2\", \"Topic2\", \"Topic2\", \"Topic2\", \"Topic2\", \"Topic2\", \"Topic2\", \"Topic2\", \"Topic2\", \"Topic2\", \"Topic2\", \"Topic2\", \"Topic2\", \"Topic3\", \"Topic3\", \"Topic3\", \"Topic3\", \"Topic3\", \"Topic3\", \"Topic3\", \"Topic3\", \"Topic3\", \"Topic3\", \"Topic3\", \"Topic3\", \"Topic3\", \"Topic3\", \"Topic3\", \"Topic3\", \"Topic3\", \"Topic3\", \"Topic3\", \"Topic3\", \"Topic3\", \"Topic3\", \"Topic3\", \"Topic3\", \"Topic3\", \"Topic3\", \"Topic3\", \"Topic3\", \"Topic3\", \"Topic3\", \"Topic3\", \"Topic3\", \"Topic3\", \"Topic3\", \"Topic3\", \"Topic3\", \"Topic3\", \"Topic3\", \"Topic3\", \"Topic3\", \"Topic3\", \"Topic3\", \"Topic3\", \"Topic3\", \"Topic3\", \"Topic3\", \"Topic3\", \"Topic3\", \"Topic3\", \"Topic3\", \"Topic3\", \"Topic3\", \"Topic3\", \"Topic3\", \"Topic3\", \"Topic3\", \"Topic3\", \"Topic3\", \"Topic3\", \"Topic3\", \"Topic3\", \"Topic3\"], \"logprob\": [30.0, 29.0, 28.0, 27.0, 26.0, 25.0, 24.0, 23.0, 22.0, 21.0, 20.0, 19.0, 18.0, 17.0, 16.0, 15.0, 14.0, 13.0, 12.0, 11.0, 10.0, 9.0, 8.0, 7.0, 6.0, 5.0, 4.0, 3.0, 2.0, 1.0, -4.7305, -6.3364, -6.5764, -6.7895, -6.6121, -6.9539, -6.5848, -6.5146, -6.8361, -6.8824, -6.9395, -6.5819, -6.8212, -6.2142, -7.0193, -5.7381, -6.4496, -6.3252, -7.0816, -6.1434, -5.2983, -7.025, -5.8178, -6.0902, -7.1299, -6.4804, -6.9738, -6.8322, -6.6876, -6.5298, -5.5981, -6.1679, -5.2299, -6.2645, -5.9356, -5.6665, -6.1688, -5.6469, -5.8088, -5.2137, -5.8907, -5.2763, -4.7023, -5.6349, -4.9201, -5.3373, -5.5802, -5.5581, -5.404, -5.2788, -5.2762, -5.1118, -5.0957, -5.1634, -4.9185, -5.507, -5.3609, -4.7987, -4.8408, -5.5005, -4.9881, -4.9875, -5.1773, -4.9723, -5.2939, -5.2274, -5.2945, -5.3421, -5.4891, -5.4473, -5.4142, -5.4736, -6.5683, -6.0687, -6.8018, -6.8261, -6.2871, -5.9028, -5.572, -5.7062, -6.218, -6.3838, -6.7526, -6.3726, -6.4081, -6.1181, -7.0145, -6.7184, -5.2941, -6.345, -5.9638, -6.5872, -6.4506, -6.4211, -6.7127, -6.4635, -6.0626, -6.6776, -6.3068, -6.6992, -6.1343, -5.131, -4.7867, -6.2372, -5.1196, -5.5335, -4.5214, -5.5047, -4.5436, -5.5462, -5.0147, -4.7226, -5.1722, -5.617, -5.5809, -5.7356, -5.3922, -5.1686, -5.5865, -4.8035, -5.1196, -5.7921, -5.015, -5.0372, -5.2345, -5.4978, -5.0946, -5.2627, -5.34, -5.538, -5.4057, -5.391, -5.4486, -5.4607, -5.5392, -5.5146, -5.7368, -6.035, -5.856, -6.1375, -5.7902, -5.6072, -6.3412, -6.4274, -6.1247, -6.1783, -6.7188, -6.5589, -6.5795, -6.5279, -6.7506, -6.3091, -4.4518, -6.0961, -5.8397, -5.9927, -6.2163, -6.5767, -6.2744, -6.2743, -6.5499, -6.4111, -6.0748, -6.7822, -6.2066, -4.5488, -5.756, -6.1609, -5.1747, -4.4153, -5.47, -4.305, -4.7106, -5.4333, -4.8122, -5.7672, -4.8683, -5.9295, -4.7853, -4.6808, -4.7329, -5.1364, -5.1047, -5.5644, -4.9347, -5.1095, -5.2765, -5.2517, -5.2778, -5.5882, -5.3871, -5.1556, -5.4714, -5.5127, -5.4108, -5.6313, -5.5735, -5.619], \"loglift\": [30.0, 29.0, 28.0, 27.0, 26.0, 25.0, 24.0, 23.0, 22.0, 21.0, 20.0, 19.0, 18.0, 17.0, 16.0, 15.0, 14.0, 13.0, 12.0, 11.0, 10.0, 9.0, 8.0, 7.0, 6.0, 5.0, 4.0, 3.0, 2.0, 1.0, 0.6253, 0.6177, 0.5855, 0.5812, 0.552, 0.5454, 0.5263, 0.5188, 0.5184, 0.5127, 0.4982, 0.4979, 0.4912, 0.4891, 0.4861, 0.4745, 0.4744, 0.4712, 0.4664, 0.4662, 0.4621, 0.4609, 0.4601, 0.4571, 0.4541, 0.4488, 0.4485, 0.4481, 0.4466, 0.4429, 0.4417, 0.4353, 0.4007, 0.4322, 0.4098, 0.3939, 0.4188, 0.3557, 0.3634, 0.2883, 0.3719, 0.2797, 0.1919, 0.313, 0.1458, 0.2217, 0.2753, 0.267, 0.2254, 0.1801, 0.1782, 0.1212, 0.1131, 0.1127, 0.0023, 0.1938, 0.1234, -0.141, -0.1308, 0.1698, -0.1062, -0.1415, -0.0482, -0.2361, 0.0091, -0.1315, -0.1121, -0.0737, 0.1131, -0.027, -0.1633, 0.0353, 0.851, 0.8373, 0.7631, 0.755, 0.7341, 0.7191, 0.7104, 0.7066, 0.6989, 0.6896, 0.6866, 0.6822, 0.6706, 0.6658, 0.6643, 0.6489, 0.6473, 0.6465, 0.6455, 0.6417, 0.6331, 0.6253, 0.6219, 0.6146, 0.604, 0.5984, 0.5972, 0.5922, 0.5879, 0.5842, 0.5234, 0.574, 0.4174, 0.4324, 0.2148, 0.4124, 0.1663, 0.3997, 0.2537, 0.1593, 0.2482, 0.3765, 0.3408, 0.3728, 0.2002, 0.0823, 0.2876, -0.1458, -0.0237, 0.3787, -0.1208, -0.1164, -0.0257, 0.1332, -0.2486, -0.1968, -0.1426, 0.1146, -0.1728, -0.2085, -0.1725, -0.1576, 0.0385, -0.3855, 1.1404, 1.0463, 0.9449, 0.9237, 0.9004, 0.8971, 0.8945, 0.8826, 0.8792, 0.865, 0.8193, 0.8106, 0.7829, 0.7779, 0.7512, 0.7497, 0.7456, 0.7356, 0.7356, 0.7306, 0.7291, 0.7158, 0.7119, 0.7119, 0.6987, 0.6957, 0.6932, 0.6919, 0.6908, 0.6898, 0.6404, 0.6606, 0.5482, 0.4307, 0.5467, 0.3527, 0.4185, 0.5365, 0.3702, 0.5804, 0.2276, 0.5883, 0.1354, 0.0554, -0.023, 0.1666, 0.1462, 0.3915, -0.0528, -0.0436, 0.0336, -0.0188, -0.0017, 0.3211, 0.0719, -0.2614, 0.0374, 0.0895, -0.2021, 0.253, -0.3051, -0.1646]}, \"token.table\": {\"Topic\": [1, 2, 3, 1, 2, 3, 1, 2, 1, 2, 3, 1, 2, 3, 1, 2, 1, 3, 1, 2, 3, 1, 2, 3, 1, 2, 3, 1, 2, 3, 1, 2, 3, 1, 2, 3, 1, 2, 3, 1, 2, 3, 1, 2, 3, 1, 2, 3, 1, 2, 3, 1, 2, 3, 1, 2, 3, 1, 2, 3, 1, 2, 3, 1, 2, 3, 1, 2, 3, 1, 2, 3, 1, 2, 3, 1, 2, 3, 1, 2, 3, 1, 2, 3, 1, 2, 3, 1, 2, 3, 1, 1, 3, 1, 2, 3, 1, 2, 3, 1, 2, 3, 1, 2, 3, 1, 2, 3, 1, 2, 3, 1, 2, 3, 1, 2, 3, 1, 2, 3, 1, 2, 3, 1, 2, 3, 1, 2, 3, 1, 2, 3, 1, 2, 3, 1, 2, 3, 1, 2, 3, 1, 2, 3, 1, 2, 3, 1, 2, 3, 1, 2, 1, 2, 3, 1, 2, 3, 1, 2, 3, 1, 2, 3, 1, 2, 3, 1, 2, 1, 2, 3, 1, 2, 3, 1, 2, 3, 1, 2, 3, 1, 2, 3, 1, 2, 3, 1, 2, 3, 1, 2, 3, 1, 2, 3, 1, 2, 3, 1, 2, 3, 1, 2, 3, 1, 2, 3, 1, 2, 1, 2, 3, 1, 2, 3, 1, 2, 3, 1, 2, 3, 1, 2, 3, 1, 2, 3, 1, 2, 3, 1, 2, 1, 2, 3, 1, 2, 3, 1, 2, 3, 1, 2, 1, 2, 3, 1, 2, 3, 1, 2, 3, 1, 3, 1, 2, 1, 3, 1, 2, 3, 1, 2, 3, 1, 2, 1, 2, 3, 1, 2, 3, 1, 2, 3, 1, 3, 1, 2, 3, 1, 2, 3, 1, 2, 3, 1, 2, 3, 1, 2, 3, 1, 2, 3, 1, 2, 1, 2, 3, 1, 2, 3, 1, 2, 3, 1, 2, 3, 1, 2, 3, 1, 2, 3, 1, 2, 1, 2, 3, 1, 3, 1, 2, 1, 2, 3, 1, 2, 3, 1, 2, 1, 3, 1, 2, 3, 1, 2, 3, 1, 2, 3, 1, 2, 3, 1, 2, 3, 1, 2, 3, 1, 2, 1, 2, 3, 1, 2, 3, 1, 2, 3, 1, 2, 3, 1, 2, 3, 1, 2, 3, 1, 2, 3, 1, 2, 1, 2, 1, 2, 1, 2, 3, 1, 2, 3, 1, 2, 3, 1, 2, 3, 1, 2, 3, 1, 2, 3, 1, 2, 3, 1, 2, 3, 1, 2, 3, 1, 2, 3, 1, 2, 3, 1, 2, 1, 2, 1, 2, 3, 1, 2, 3, 1, 2, 3, 1, 2, 3, 1, 2, 3, 1, 2, 3, 1, 2, 3, 1, 2, 3, 1, 2, 3, 1, 2, 3], \"Freq\": [0.311432862713607, 0.1557164313568035, 0.4671492940704105, 0.20677755114321436, 0.4135551022864287, 0.4135551022864287, 0.3632383122556143, 0.7264766245112286, 0.5767735313174068, 0.20599054689907387, 0.20599054689907387, 0.287863710411946, 0.287863710411946, 0.38381828054926137, 0.7620771964928482, 0.19051929912321205, 0.47252019035845, 0.47252019035845, 0.2791253443674962, 0.5582506887349924, 0.1395626721837481, 0.48565630341343674, 0.3237708689422912, 0.20235679308893198, 0.1992145093399931, 0.5976435280199793, 0.1992145093399931, 0.42267650651825145, 0.24152943229614368, 0.3019117903701796, 0.3718662998343284, 0.28332670463567877, 0.3364504617548686, 0.5008822269954433, 0.27320848745205994, 0.27320848745205994, 0.3196423811233738, 0.6392847622467476, 0.06392847622467476, 0.4058349797162937, 0.4058349797162937, 0.22546387762016315, 0.30511336043032966, 0.6102267208606593, 0.15255668021516483, 0.32885034542618496, 0.197310207255711, 0.394620414511422, 0.2666321609175219, 0.2666321609175219, 0.5332643218350438, 0.616974261759133, 0.17627836050260942, 0.17627836050260942, 0.7029847467655037, 0.23432824892183457, 0.11716412446091728, 0.2660330244461679, 0.5320660488923358, 0.2660330244461679, 0.7159795806424936, 0.1789948951606234, 0.1789948951606234, 0.19463552785978594, 0.5839065835793579, 0.19463552785978594, 0.31654190347995664, 0.18992514208797398, 0.47481285521993494, 0.686652075325312, 0.171663018831328, 0.171663018831328, 0.32162208092048755, 0.48243312138073136, 0.16081104046024378, 0.17446321554193456, 0.17446321554193456, 0.5233896466258037, 0.4443369973894429, 0.3554695979115543, 0.22216849869472144, 0.19828541613770428, 0.5948562484131129, 0.19828541613770428, 0.2493352200337455, 0.6233380500843637, 0.12466761001687275, 0.6322022015571691, 0.21073406718572302, 0.21073406718572302, 0.6607806050966787, 0.651336301540031, 0.21711210051334365, 0.5690688635813028, 0.2845344317906514, 0.17072065907439085, 0.3845491152293424, 0.3525033556268972, 0.2884118364220068, 0.49372614433182166, 0.24686307216591083, 0.49372614433182166, 0.1827018923200199, 0.5481056769600597, 0.1827018923200199, 0.3325819375380087, 0.3325819375380087, 0.49887290630701303, 0.12623919701103273, 0.6311959850551636, 0.12623919701103273, 0.2501624920288206, 0.2501624920288206, 0.5003249840576413, 0.20501695153958632, 0.20501695153958632, 0.41003390307917265, 0.30950441619477154, 0.30950441619477154, 0.30950441619477154, 0.16737845096865658, 0.6695138038746263, 0.16737845096865658, 0.6480580757712106, 0.2160193585904035, 0.14401290572693567, 0.42661911133268354, 0.5119429335992203, 0.08532382226653672, 0.5233358710966677, 0.3052792581397228, 0.13083396777416692, 0.20486304712811973, 0.6145891413843593, 0.10243152356405986, 0.25824812945774095, 0.45193422655104665, 0.32281016182217614, 0.41104069957641926, 0.1541402623411572, 0.41104069957641926, 0.6830761212663964, 0.1707690303165991, 0.1707690303165991, 0.7515960603690628, 0.15031921207381255, 0.15031921207381255, 0.40303866387385967, 0.20151933193692984, 0.5037983298423245, 0.8563258430133551, 0.28544194767111836, 0.3842586040594375, 0.3293645177652322, 0.30191747461812946, 0.315555192327317, 0.315555192327317, 0.631110384654634, 0.3847930432078306, 0.25652869547188706, 0.36341565191850667, 0.2126456337456515, 0.27340152910155197, 0.5164251105251537, 0.4929884968409502, 0.26292719831517347, 0.23006129852577678, 0.6108566389919808, 0.3054283194959904, 0.3367000074659688, 0.11223333582198959, 0.561166679109948, 0.25121411751608436, 0.25121411751608436, 0.5024282350321687, 0.15413696061664064, 0.3082739212332813, 0.46241088184992196, 0.19239996774864254, 0.19239996774864254, 0.5771999032459276, 0.5129817978953342, 0.23676082979784654, 0.27622096809748764, 0.7171783290318178, 0.17929458225795444, 0.17929458225795444, 0.5383895191531769, 0.2916276562079708, 0.17946317305105897, 0.39884980944827686, 0.3766914867011504, 0.2215832274712649, 0.6707400031419977, 0.16768500078549942, 0.16768500078549942, 0.41760900311348675, 0.41760900311348675, 0.15185781931399517, 0.4562538407131367, 0.290343353181087, 0.24886573129807457, 0.6803104598660883, 0.13606209197321764, 0.13606209197321764, 0.5621246915799138, 0.2810623457899569, 0.2810623457899569, 0.16771491370274288, 0.6708596548109715, 0.2960090890132414, 0.2960090890132414, 0.5920181780264828, 0.20401457040852192, 0.544038854422725, 0.23801699880994223, 0.6116424168591473, 0.20388080561971578, 0.20388080561971578, 0.39137341424200744, 0.4239878654288414, 0.16307225593416977, 0.17980162387467566, 0.6293056835613648, 0.17980162387467566, 0.4376892609340308, 0.29947159958644215, 0.27643532269517734, 0.7482144925114956, 0.1247024154185826, 0.1247024154185826, 0.6071636302377922, 0.3035818151188961, 0.38529363998687616, 0.5137248533158348, 0.1284312133289587, 0.22751962151347585, 0.3412794322702138, 0.4550392430269517, 0.7315654039620688, 0.24385513465402292, 0.24385513465402292, 0.2465873230867754, 0.4931746461735508, 0.24099543420995514, 0.24099543420995514, 0.4819908684199103, 0.19588760948561734, 0.19588760948561734, 0.587662828456852, 0.1352253203831717, 0.2704506407663434, 0.5409012815326868, 0.19985514112979222, 0.5995654233893767, 0.7879625731052914, 0.26265419103509713, 0.7554350006291555, 0.2518116668763852, 0.1695610571840939, 0.6782442287363756, 0.1695610571840939, 0.8186090467542395, 0.14236679073986774, 0.07118339536993387, 0.32414433256737035, 0.6482886651347407, 0.14606334924574405, 0.5842533969829762, 0.4381900477372321, 0.47889197458359867, 0.383113579666879, 0.1915567898334395, 0.5060512903734576, 0.266342784407083, 0.23970850596637466, 0.5990427260780701, 0.29952136303903504, 0.561514980300215, 0.2807574901501075, 0.14037874507505374, 0.23165888715310431, 0.6949766614593129, 0.23165888715310431, 0.4183404533755822, 0.4183404533755822, 0.17928876573239236, 0.5527899542245248, 0.3015217932133772, 0.1507608966066886, 0.7053267335400818, 0.14106534670801638, 0.21159802006202455, 0.15098277455345074, 0.15098277455345074, 0.603931098213803, 0.280222378141018, 0.8406671344230541, 0.6934942207719245, 0.1600371278704441, 0.1600371278704441, 0.3634702558407111, 0.18173512792035554, 0.5452053837610666, 0.2794379984705149, 0.13971899923525746, 0.5588759969410299, 0.40406171145803516, 0.47140533003437435, 0.06734361857633919, 0.3890486229616007, 0.26934135435803125, 0.35912180581070835, 0.3891487682914605, 0.259432512194307, 0.32429064024288373, 0.2574817109830299, 0.5149634219660598, 0.4255857646089922, 0.22697907445812918, 0.3688409959944599, 0.16296249904106644, 0.8148124952053323, 0.18820085034801926, 0.752803401392077, 0.5106231324942715, 0.2749509174969154, 0.19639351249779674, 0.2647347642474852, 0.2647347642474852, 0.5294695284949704, 0.6374859252280327, 0.31874296261401636, 0.8206193212346534, 0.2735397737448845, 0.19933829745105355, 0.5980148923531606, 0.19933829745105355, 0.18497494319090912, 0.18497494319090912, 0.5549248295727274, 0.19301525462431549, 0.5790457638729465, 0.19301525462431549, 0.18175522917716064, 0.3635104583543213, 0.545265687531482, 0.26205156976199473, 0.5241031395239895, 0.19653867732149607, 0.34476234943410394, 0.4022227410064546, 0.24899503014685284, 0.2968813472834247, 0.5937626945668494, 0.5036224552494116, 0.28328763107779403, 0.22033482417161757, 0.6099252057712184, 0.24397008230848738, 0.12198504115424369, 0.6559379009844226, 0.14055812163951914, 0.23426353606586525, 0.25490842746155684, 0.5607985404154251, 0.15294505647693413, 0.26403464957370554, 0.6600866239342638, 0.13201732478685277, 0.8235597325616327, 0.20588993314040818, 0.20588993314040818, 0.24280985750237896, 0.4856197150047579, 0.24280985750237896, 0.8007746867599815, 0.2669248955866605, 0.8665342357311347, 0.2166335589327837, 0.8799309782873265, 0.1759861956574653, 0.5361945871177278, 0.24372481232623994, 0.24372481232623994, 0.43891085271630054, 0.27009898628695417, 0.27009898628695417, 0.30433330256937363, 0.30433330256937363, 0.6086666051387473, 0.3731482992725956, 0.3918057142362254, 0.24254639452718713, 0.6195125526400168, 0.12390251052800336, 0.2478050210560067, 0.4915935852290875, 0.3072459907681797, 0.18434759446090782, 0.6441240990288745, 0.2415465371358279, 0.16103102475721862, 0.292215956915612, 0.292215956915612, 0.43832393537341796, 0.6847228927010086, 0.13694457854020173, 0.13694457854020173, 0.6702544771604592, 0.0957506395943513, 0.2872519187830539, 0.3119398894125527, 0.49910382306008433, 0.18716393364753162, 0.32944787403495307, 0.6588957480699061, 0.4006677078972148, 0.6010015618458222, 0.5791096049031589, 0.1930365349677196, 0.1930365349677196, 0.30219851047042073, 0.4532977657056311, 0.22664888285281554, 0.37607379333320895, 0.4387527588887438, 0.18803689666660447, 0.28587806802129717, 0.5717561360425943, 0.28587806802129717, 0.195403803805416, 0.195403803805416, 0.586211411416248, 0.7982382427875794, 0.19955956069689484, 0.19955956069689484, 0.5866262299100015, 0.23465049196400062, 0.17598786897300045, 0.421791393765403, 0.37492568334702486, 0.23432855209189055, 0.23322024611058573, 0.23322024611058573, 0.6996607383317571, 0.5652585163276268, 0.2608885459973662, 0.17392569733157748], \"Term\": [\"abl\", \"abl\", \"abl\", \"absolut\", \"absolut\", \"absolut\", \"accompani\", \"accompani\", \"amaz\", \"amaz\", \"amaz\", \"anim\", \"anim\", \"anim\", \"appeal\", \"appeal\", \"arguabl\", \"arguabl\", \"artist\", \"artist\", \"artist\", \"band\", \"band\", \"band\", \"basic\", \"basic\", \"basic\", \"beauti\", \"beauti\", \"beauti\", \"best\", \"best\", \"best\", \"better\", \"better\", \"better\", \"bore\", \"bore\", \"bore\", \"breath\", \"breath\", \"breath\", \"brillianc\", \"brillianc\", \"brillianc\", \"brilliant\", \"brilliant\", \"brilliant\", \"bunch\", \"bunch\", \"bunch\", \"buy\", \"buy\", \"buy\", \"care\", \"care\", \"care\", \"carri\", \"carri\", \"carri\", \"chang\", \"chang\", \"chang\", \"chord\", \"chord\", \"chord\", \"classic\", \"classic\", \"classic\", \"clear\", \"clear\", \"clear\", \"close\", \"close\", \"close\", \"combin\", \"combin\", \"combin\", \"come\", \"come\", \"come\", \"consist\", \"consist\", \"consist\", \"damn\", \"damn\", \"damn\", \"deni\", \"deni\", \"deni\", \"detail\", \"diamond\", \"diamond\", \"doesnt\", \"doesnt\", \"doesnt\", \"dont\", \"dont\", \"dont\", \"dream\", \"dream\", \"dream\", \"dull\", \"dull\", \"dull\", \"easi\", \"easi\", \"easi\", \"epic\", \"epic\", \"epic\", \"excit\", \"excit\", \"excit\", \"expect\", \"expect\", \"expect\", \"experi\", \"experi\", \"experi\", \"face\", \"face\", \"face\", \"fact\", \"fact\", \"fact\", \"favorit\", \"favorit\", \"favorit\", \"feel\", \"feel\", \"feel\", \"finish\", \"finish\", \"finish\", \"flow\", \"flow\", \"flow\", \"floyd\", \"floyd\", \"floyd\", \"forget\", \"forget\", \"forget\", \"friend\", \"friend\", \"friend\", \"fuck\", \"fuck\", \"fuck\", \"fulli\", \"fulli\", \"good\", \"good\", \"good\", \"grand\", \"grand\", \"grand\", \"great\", \"great\", \"great\", \"greatest\", \"greatest\", \"greatest\", \"hear\", \"hear\", \"hear\", \"hook\", \"hook\", \"human\", \"human\", \"human\", \"insid\", \"insid\", \"insid\", \"journey\", \"journey\", \"journey\", \"keep\", \"keep\", \"keep\", \"know\", \"know\", \"know\", \"legendari\", \"legendari\", \"legendari\", \"like\", \"like\", \"like\", \"listen\", \"listen\", \"listen\", \"live\", \"live\", \"live\", \"love\", \"love\", \"love\", \"lyric\", \"lyric\", \"lyric\", \"magic\", \"magic\", \"magic\", \"mainstream\", \"mainstream\", \"mainstream\", \"marvel\", \"marvel\", \"massiv\", \"massiv\", \"massiv\", \"masterpiec\", \"masterpiec\", \"masterpiec\", \"mind\", \"mind\", \"mind\", \"money\", \"money\", \"money\", \"moon_\", \"moon_\", \"moon_\", \"music\", \"music\", \"music\", \"near\", \"near\", \"near\", \"necessari\", \"necessari\", \"need\", \"need\", \"need\", \"nice\", \"nice\", \"nice\", \"night\", \"night\", \"night\", \"nnbut\", \"nnbut\", \"note\", \"note\", \"note\", \"notic\", \"notic\", \"notic\", \"nthe\", \"nthe\", \"nthe\", \"ntime\", \"ntime\", \"object\", \"object\", \"order\", \"order\", \"outstand\", \"outstand\", \"outstand\", \"overr\", \"overr\", \"overr\", \"pace\", \"pace\", \"peak\", \"peak\", \"peak\", \"peopl\", \"peopl\", \"peopl\", \"perfect\", \"perfect\", \"perfect\", \"perspect\", \"perspect\", \"play\", \"play\", \"play\", \"post\", \"post\", \"post\", \"pretti\", \"pretti\", \"pretti\", \"probabl\", \"probabl\", \"probabl\", \"prog\", \"prog\", \"prog\", \"pure\", \"pure\", \"pure\", \"quick\", \"quick\", \"rat\", \"rat\", \"rat\", \"reach\", \"reach\", \"reach\", \"read\", \"read\", \"read\", \"reason\", \"reason\", \"reason\", \"record\", \"record\", \"record\", \"review\", \"review\", \"review\", \"road\", \"road\", \"rock\", \"rock\", \"rock\", \"sacd\", \"sacd\", \"saxophon\", \"saxophon\", \"say\", \"say\", \"say\", \"sick\", \"sick\", \"sick\", \"sit\", \"sit\", \"site\", \"site\", \"skip\", \"skip\", \"skip\", \"slight\", \"slight\", \"slight\", \"slow\", \"slow\", \"slow\", \"solid\", \"solid\", \"solid\", \"solo\", \"solo\", \"solo\", \"song\", \"song\", \"song\", \"soul\", \"soul\", \"sound\", \"sound\", \"sound\", \"special\", \"special\", \"special\", \"star\", \"star\", \"star\", \"start\", \"start\", \"start\", \"stop\", \"stop\", \"stop\", \"stori\", \"stori\", \"stori\", \"suggest\", \"suggest\", \"suggest\", \"sum\", \"sum\", \"terribl\", \"terribl\", \"test\", \"test\", \"thing\", \"thing\", \"thing\", \"think\", \"think\", \"think\", \"throw\", \"throw\", \"throw\", \"time\", \"time\", \"time\", \"today\", \"today\", \"today\", \"track\", \"track\", \"track\", \"true\", \"true\", \"true\", \"tune\", \"tune\", \"tune\", \"turn\", \"turn\", \"turn\", \"understand\", \"understand\", \"understand\", \"vocal\", \"vocal\", \"vocal\", \"vocalist\", \"vocalist\", \"wait\", \"wait\", \"wall\", \"wall\", \"wall\", \"want\", \"want\", \"want\", \"water\", \"water\", \"water\", \"weak\", \"weak\", \"weak\", \"weird\", \"weird\", \"weird\", \"what\", \"what\", \"what\", \"wish\", \"wish\", \"wish\", \"work\", \"work\", \"work\", \"worst\", \"worst\", \"worst\", \"year\", \"year\", \"year\"]}, \"R\": 30, \"lambda.step\": 0.01, \"plot.opts\": {\"xlab\": \"PC1\", \"ylab\": \"PC2\"}, \"topic.order\": [3, 1, 2]};\n",
              "\n",
              "function LDAvis_load_lib(url, callback){\n",
              "  var s = document.createElement('script');\n",
              "  s.src = url;\n",
              "  s.async = true;\n",
              "  s.onreadystatechange = s.onload = callback;\n",
              "  s.onerror = function(){console.warn(\"failed to load library \" + url);};\n",
              "  document.getElementsByTagName(\"head\")[0].appendChild(s);\n",
              "}\n",
              "\n",
              "if(typeof(LDAvis) !== \"undefined\"){\n",
              "   // already loaded: just create the visualization\n",
              "   !function(LDAvis){\n",
              "       new LDAvis(\"#\" + \"ldavis_el56221399355730316324248966681\", ldavis_el56221399355730316324248966681_data);\n",
              "   }(LDAvis);\n",
              "}else if(typeof define === \"function\" && define.amd){\n",
              "   // require.js is available: use it to load d3/LDAvis\n",
              "   require.config({paths: {d3: \"https://d3js.org/d3.v5\"}});\n",
              "   require([\"d3\"], function(d3){\n",
              "      window.d3 = d3;\n",
              "      LDAvis_load_lib(\"https://cdn.jsdelivr.net/gh/bmabey/pyLDAvis@3.3.1/pyLDAvis/js/ldavis.v3.0.0.js\", function(){\n",
              "        new LDAvis(\"#\" + \"ldavis_el56221399355730316324248966681\", ldavis_el56221399355730316324248966681_data);\n",
              "      });\n",
              "    });\n",
              "}else{\n",
              "    // require.js not available: dynamically load d3 & LDAvis\n",
              "    LDAvis_load_lib(\"https://d3js.org/d3.v5.js\", function(){\n",
              "         LDAvis_load_lib(\"https://cdn.jsdelivr.net/gh/bmabey/pyLDAvis@3.3.1/pyLDAvis/js/ldavis.v3.0.0.js\", function(){\n",
              "                 new LDAvis(\"#\" + \"ldavis_el56221399355730316324248966681\", ldavis_el56221399355730316324248966681_data);\n",
              "            })\n",
              "         });\n",
              "}\n",
              "</script>"
            ]
          },
          "metadata": {},
          "execution_count": 40
        }
      ]
    },
    {
      "cell_type": "markdown",
      "source": [
        "K-means Tf-Idf model"
      ],
      "metadata": {
        "id": "Jl31AgNTLzUf"
      }
    },
    {
      "cell_type": "code",
      "source": [
        "from sklearn.feature_extraction.text import TfidfVectorizer\n",
        "from sklearn.cluster import KMeans\n",
        "from sklearn.metrics import adjusted_rand_score\n",
        "\n",
        "from wordcloud import WordCloud, STOPWORDS\n",
        "import matplotlib.pyplot as plt\n",
        "stop_words = set(STOPWORDS)\n",
        "\n",
        "stop_words.update(['isnt', 'probably',  'still','one', 'us', 'dont',\n",
        "                   'pink','floyd','album','albums','time','floyds','really','moon','dark','say','side']) #adding custom stopwords and most common words appearing in every cluster\n",
        "\n",
        "\n",
        "vectorizer = TfidfVectorizer(stop_words=stop_words)\n",
        "X = vectorizer.fit_transform(reviews['translated_reviews'])\n",
        "X = X.toarray()\n",
        "\n",
        "k = 3\n",
        "kmeans = KMeans(n_clusters=k, init='k-means++', max_iter=100, n_init=1)\n",
        "kmeans.fit(X)\n"
      ],
      "metadata": {
        "colab": {
          "base_uri": "https://localhost:8080/"
        },
        "id": "IJgvThKhMPTj",
        "outputId": "985f143d-91ed-4731-8718-f384f0645f7e"
      },
      "execution_count": 71,
      "outputs": [
        {
          "output_type": "stream",
          "name": "stderr",
          "text": [
            "/usr/local/lib/python3.7/dist-packages/sklearn/feature_extraction/text.py:401: UserWarning: Your stop_words may be inconsistent with your preprocessing. Tokenizing the stop words generated tokens ['aren', 'couldn', 'didn', 'doesn', 'don', 'hadn', 'hasn', 'haven', 'isn', 'let', 'll', 'mustn', 're', 'shan', 'shouldn', 've', 'wasn', 'weren', 'won', 'wouldn'] not in stop_words.\n",
            "  % sorted(inconsistent)\n"
          ]
        },
        {
          "output_type": "execute_result",
          "data": {
            "text/plain": [
              "KMeans(max_iter=100, n_clusters=3, n_init=1)"
            ]
          },
          "metadata": {},
          "execution_count": 71
        }
      ]
    },
    {
      "cell_type": "code",
      "source": [
        "n = 10\n",
        "print(\"Top {0} terms per cluster:\\n\".format(n))\n",
        "centroids= kmeans.cluster_centers_.argsort()[:, ::-1]\n",
        "terms = vectorizer.get_feature_names()\n",
        "for i in range(k):\n",
        "    print(\"Cluster {0}:\".format(i)),\n",
        "    for index in centroids[i, :n]:\n",
        "        print(terms[index])\n",
        "    print('\\n')\n"
      ],
      "metadata": {
        "colab": {
          "base_uri": "https://localhost:8080/"
        },
        "id": "Od4nJE9tiNEH",
        "outputId": "6b0fd694-2ce6-42d7-f14c-94807f6897e1"
      },
      "execution_count": 72,
      "outputs": [
        {
          "output_type": "stream",
          "name": "stdout",
          "text": [
            "Top 10 terms per cluster:\n",
            "\n",
            "Cluster 0:\n",
            "greatest\n",
            "good\n",
            "masterpiece\n",
            "music\n",
            "classic\n",
            "overrated\n",
            "perfect\n",
            "listen\n",
            "rock\n",
            "best\n",
            "\n",
            "\n",
            "Cluster 1:\n",
            "great\n",
            "song\n",
            "songs\n",
            "money\n",
            "music\n",
            "gig\n",
            "sky\n",
            "rock\n",
            "best\n",
            "damage\n",
            "\n",
            "\n",
            "Cluster 2:\n",
            "best\n",
            "period\n",
            "made\n",
            "flows\n",
            "think\n",
            "heard\n",
            "history\n",
            "stars\n",
            "simply\n",
            "amazing\n",
            "\n",
            "\n"
          ]
        },
        {
          "output_type": "stream",
          "name": "stderr",
          "text": [
            "/usr/local/lib/python3.7/dist-packages/sklearn/utils/deprecation.py:87: FutureWarning: Function get_feature_names is deprecated; get_feature_names is deprecated in 1.0 and will be removed in 1.2. Please use get_feature_names_out instead.\n",
            "  warnings.warn(msg, category=FutureWarning)\n"
          ]
        }
      ]
    },
    {
      "cell_type": "markdown",
      "source": [
        "NMF Tf-Idf model"
      ],
      "metadata": {
        "id": "btYdliy6SOWX"
      }
    },
    {
      "cell_type": "code",
      "source": [
        "from sklearn.decomposition import NMF\n",
        "\n",
        "nmf  = NMF(n_components = 3)\n",
        "nmf.fit(X)\n",
        "for i in range(k):\n",
        "    print(\"Cluster {0}:\".format(i))\n",
        "    for index in nmf.components_.argsort()[i,-11:-1]:\n",
        "        print(terms[index])\n",
        "    print('\\n')\n"
      ],
      "metadata": {
        "colab": {
          "base_uri": "https://localhost:8080/"
        },
        "id": "ya5hT-3JRUi2",
        "outputId": "609d8222-7171-475c-bc30-2bfcfd1447f4"
      },
      "execution_count": 73,
      "outputs": [
        {
          "output_type": "stream",
          "name": "stderr",
          "text": [
            "/usr/local/lib/python3.7/dist-packages/sklearn/decomposition/_nmf.py:294: FutureWarning: The 'init' value, when 'init=None' and n_components is less than n_samples and n_features, will be changed from 'nndsvd' to 'nndsvda' in 1.1 (renaming of 0.26).\n",
            "  FutureWarning,\n"
          ]
        },
        {
          "output_type": "stream",
          "name": "stdout",
          "text": [
            "Cluster 0:\n",
            "think\n",
            "even\n",
            "much\n",
            "listen\n",
            "rock\n",
            "money\n",
            "good\n",
            "songs\n",
            "music\n",
            "song\n",
            "\n",
            "\n",
            "Cluster 1:\n",
            "stars\n",
            "classic\n",
            "recorded\n",
            "heard\n",
            "simply\n",
            "flows\n",
            "amazing\n",
            "history\n",
            "made\n",
            "period\n",
            "\n",
            "\n",
            "Cluster 2:\n",
            "heard\n",
            "change\n",
            "psychedelic\n",
            "said\n",
            "made\n",
            "band\n",
            "history\n",
            "hands\n",
            "rock\n",
            "masterpiece\n",
            "\n",
            "\n"
          ]
        }
      ]
    },
    {
      "cell_type": "markdown",
      "source": [
        "References:\n",
        "\n",
        "https://towardsdatascience.com/topic-modeling-and-latent-dirichlet-allocation-in-python-9bf156893c24\n",
        "\n",
        "https://jonathansoma.com/lede/algorithms-2017/classes/clustering/k-means-clustering-with-scikit-learn/\n",
        "\n",
        "https://towardsdatascience.com/topic-model-visualization-using-pyldavis-fecd7c18fbf6"
      ],
      "metadata": {
        "id": "9m0QtLYrfoHJ"
      }
    }
  ]
}